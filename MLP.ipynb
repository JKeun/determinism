{
 "cells": [
  {
   "cell_type": "code",
   "execution_count": 1,
   "metadata": {},
   "outputs": [],
   "source": [
    "import itertools\n",
    "import numpy as np\n",
    "import pandas as pd\n",
    "import tensorflow as tf\n",
    "from tensorflow import keras\n",
    "\n",
    "from sklearn.model_selection import train_test_split\n",
    "from sklearn.compose import ColumnTransformer\n",
    "from sklearn.impute import SimpleImputer\n",
    "from sklearn.pipeline import Pipeline\n",
    "from sklearn.preprocessing import Normalizer, OneHotEncoder, StandardScaler"
   ]
  },
  {
   "cell_type": "markdown",
   "metadata": {},
   "source": [
    "### DataSource"
   ]
  },
  {
   "cell_type": "code",
   "execution_count": null,
   "metadata": {},
   "outputs": [],
   "source": [
    "# class DataSource:        \n",
    "    \n",
    "#     def data_preprocess():\n",
    "\n",
    "#     def data_load_split():"
   ]
  },
  {
   "cell_type": "code",
   "execution_count": 2,
   "metadata": {},
   "outputs": [],
   "source": [
    "def data_load_split(filename, target=None, ignore=None, problem=\"Binary\"):\n",
    "    \"\"\"\n",
    "    Args:\n",
    "        filename: from where to load\n",
    "        target: list\n",
    "        ignore: list\n",
    "        \n",
    "    Returns:\n",
    "        X: inputs DataFrame\n",
    "        y: target DataFrame\n",
    "    \"\"\"\n",
    "    df = pd.read_csv(filename)\n",
    "    \n",
    "    target = target\n",
    "    ignore = ignore\n",
    "    inputs = sorted(set(df.columns) - set(target) - set(ignore))\n",
    "    \n",
    "    return df[inputs], df[target]"
   ]
  },
  {
   "cell_type": "code",
   "execution_count": 3,
   "metadata": {},
   "outputs": [],
   "source": [
    "filename = \"./data/titanic_train.csv\"\n",
    "target = [\"Survived\"]\n",
    "ignore = [\"Name\", \"Cabin\", \"Ticket\"]\n",
    "\n",
    "X, y = data_load_split(filename, target, ignore)"
   ]
  },
  {
   "cell_type": "code",
   "execution_count": 229,
   "metadata": {},
   "outputs": [],
   "source": [
    "def set_problem(y, problem=\"Regression\"):\n",
    "    if problem == \"Regression\" or \"Binary\":\n",
    "        y_copy = y.astype('float64')\n",
    "    elif problem == \"Classification\":\n",
    "        y_copy = y.astype('object')\n",
    "    else:\n",
    "        raise(\"E: Problem is not set\")\n",
    "        \n",
    "    return y_copy"
   ]
  },
  {
   "cell_type": "code",
   "execution_count": 4,
   "metadata": {},
   "outputs": [],
   "source": [
    "def define_problem(y):\n",
    "    if y.dtypes[0] in ['int64', 'float64'] and y.nunique()[0] == 2:\n",
    "        problem = \"Binary\"\n",
    "    elif y.dtypes[0] in ['object', 'bool']:\n",
    "        problem = \"Classification\"\n",
    "    else:\n",
    "        problem = \"Regression\"\n",
    "    \n",
    "    return problem"
   ]
  },
  {
   "cell_type": "code",
   "execution_count": 9,
   "metadata": {},
   "outputs": [],
   "source": [
    "def data_preprocess(X, y, problem=\"Regression\"):\n",
    "    \n",
    "    # Data type detection\n",
    "    numerical_ix = X.select_dtypes(include=['int64', 'float64']).columns\n",
    "    categorical_ix = X.select_dtypes(include=['object', 'bool']).columns\n",
    "    \n",
    "    # Data transform\n",
    "    num_transform = Pipeline(steps=[\n",
    "        ('imputer', SimpleImputer(strategy='mean')),\n",
    "        ('scaler', StandardScaler())\n",
    "    ])\n",
    "    cat_transform = Pipeline(steps=[\n",
    "        ('imputer', SimpleImputer(strategy='constant', fill_value=\"Missing\")),\n",
    "        ('oh_encoder', OneHotEncoder(sparse=False))\n",
    "    ])\n",
    "    \n",
    "    transform_x = ColumnTransformer(transformers=[\n",
    "        ('num', num_transform, numerical_ix),\n",
    "        ('cat', cat_transform, categorical_ix)\n",
    "    ])\n",
    "    if problem == \"Regression\" or \"Binary\":\n",
    "        transform_y = ColumnTransformer(transformers=[\n",
    "            ('num', Normalizer(), y.columns)\n",
    "        ])\n",
    "    else:\n",
    "        transform_y = ColumnTransformer(transformers=[\n",
    "            ('cat', cat_transform, y.columns)\n",
    "        ])\n",
    "        \n",
    "    return transform_x.fit_transform(X), transform_y.fit_transform(y)"
   ]
  },
  {
   "cell_type": "code",
   "execution_count": 10,
   "metadata": {},
   "outputs": [],
   "source": [
    "trans_X, trans_y = data_preprocess(X, y, problem=\"Regression\")"
   ]
  },
  {
   "cell_type": "code",
   "execution_count": 11,
   "metadata": {},
   "outputs": [
    {
     "data": {
      "text/plain": [
       "(array([[ 0.        , -0.46097065, -0.4852419 , ...,  0.        ,\n",
       "          0.        ,  0.        ],\n",
       "        [-0.21422328, -0.46097065, -0.4852419 , ...,  0.        ,\n",
       "          0.        ,  0.        ],\n",
       "        [-0.06201858, -0.46097065, -0.4852419 , ...,  0.        ,\n",
       "          0.        ,  0.        ],\n",
       "        ...,\n",
       "        [ 0.        , -0.46097065,  0.44524944, ...,  0.        ,\n",
       "          0.        ,  0.        ],\n",
       "        [ 0.        ,  1.78908189,  6.9586888 , ...,  0.        ,\n",
       "          0.        ,  0.        ],\n",
       "        [ 0.        , -0.46097065, -0.4852419 , ...,  0.        ,\n",
       "          0.        ,  0.        ]]), array([[0.],\n",
       "        [0.],\n",
       "        [1.],\n",
       "        ...,\n",
       "        [1.],\n",
       "        [0.],\n",
       "        [0.]]))"
      ]
     },
     "execution_count": 11,
     "metadata": {},
     "output_type": "execute_result"
    }
   ],
   "source": [
    "trans_X, trans_y"
   ]
  },
  {
   "cell_type": "markdown",
   "metadata": {},
   "source": [
    "### MLP"
   ]
  },
  {
   "cell_type": "code",
   "execution_count": null,
   "metadata": {},
   "outputs": [],
   "source": [
    "# class MLP:\n",
    "    \n",
    "#     def __init__():\n",
    "        \n",
    "#     def network_frame():\n",
    "        \n",
    "#     def build_block():\n",
    "        \n",
    "#     def auto_fit():\n",
    "        \n",
    "#     def get_param_grid(problem):"
   ]
  },
  {
   "cell_type": "code",
   "execution_count": 130,
   "metadata": {},
   "outputs": [],
   "source": [
    "def build_model(trans_X, trans_y, hidden_layers=1, units=[16], problem='Regression'):\n",
    "    \n",
    "    models = []\n",
    "    structure_params = []\n",
    "    \n",
    "    grid = [np.arange(hidden_layers)+1, units]\n",
    "    for param_tuple in itertools.product(*grid):\n",
    "        structure_param = {'hidden_layers': param_tuple[0],\n",
    "                            'units': param_tuple[1]}\n",
    "        \n",
    "        # input layer\n",
    "        model = keras.Sequential()\n",
    "        model.add(keras.layers.Dense(16, input_shape=(trans_X.shape[1],)))\n",
    "        \n",
    "        # hidden layer block\n",
    "        for _ in range(structure_param['hidden_layers']):\n",
    "            model.add(keras.layers.Dense(structure_param['units'], activation='relu'))\n",
    "        \n",
    "        # output layer\n",
    "        if problem == 'Regression':\n",
    "            model.add(keras.layers.Dense(1))\n",
    "        elif problem == 'Binary':\n",
    "            model.add(keras.layers.Dense(1, activation='sigmoid'))\n",
    "        else:\n",
    "            model.add(keras.layers.Dense(trans_y.shape[1], activation='softmax'))\n",
    "        models.append(model)\n",
    "        structure_params.append(structure_param)\n",
    "    \n",
    "    return models, structure_params"
   ]
  },
  {
   "cell_type": "code",
   "execution_count": 169,
   "metadata": {},
   "outputs": [],
   "source": [
    "structured_models, model_structures = build_model(trans_X, trans_y, hidden_layers=2, units=[16, 32], problem='Binary')"
   ]
  },
  {
   "cell_type": "code",
   "execution_count": 170,
   "metadata": {},
   "outputs": [
    {
     "data": {
      "text/plain": [
       "[<tensorflow.python.keras.engine.sequential.Sequential at 0x140fa4190>,\n",
       " <tensorflow.python.keras.engine.sequential.Sequential at 0x13c46c590>,\n",
       " <tensorflow.python.keras.engine.sequential.Sequential at 0x141031f50>,\n",
       " <tensorflow.python.keras.engine.sequential.Sequential at 0x141047c50>]"
      ]
     },
     "execution_count": 170,
     "metadata": {},
     "output_type": "execute_result"
    }
   ],
   "source": [
    "structured_models"
   ]
  },
  {
   "cell_type": "code",
   "execution_count": 171,
   "metadata": {},
   "outputs": [
    {
     "data": {
      "text/plain": [
       "[{'hidden_layers': 1, 'units': 16},\n",
       " {'hidden_layers': 1, 'units': 32},\n",
       " {'hidden_layers': 2, 'units': 16},\n",
       " {'hidden_layers': 2, 'units': 32}]"
      ]
     },
     "execution_count": 171,
     "metadata": {},
     "output_type": "execute_result"
    }
   ],
   "source": [
    "model_structures"
   ]
  },
  {
   "cell_type": "code",
   "execution_count": 150,
   "metadata": {},
   "outputs": [],
   "source": [
    "def create_optimizer(optimizers=['adam'], lrs=[0.01], auto=False):\n",
    "    created_optimizers = []\n",
    "    optimizer_informations = []\n",
    "    \n",
    "    optimizer_classes = {'adadelta': keras.optimizers.Adadelta, 'sgd': keras.optimizers.SGD,\n",
    "                         'adam': keras.optimizers.Adam, 'adagrad': keras.optimizers.Adagrad,\n",
    "                         'adamax': keras.optimizers.Adamax, 'rmsprop': keras.optimizers.RMSprop}\n",
    "    \n",
    "    if auto:\n",
    "        lrs = [0.001, 0.01, 0.02, 0.1]\n",
    "        opt_grid = [optimizer_classes.keys(), lrs]    \n",
    "    else:\n",
    "        opt_grid = [optimizers, lrs]\n",
    "        \n",
    "    for opt_tuple in itertools.product(*opt_grid):\n",
    "        opt_param = {\n",
    "            'optimizer_name': opt_tuple[0],\n",
    "            'lr': opt_tuple[1]\n",
    "        }\n",
    "        \n",
    "        opt_class = optimizer_classes.get(opt_param['optimizer_name'])\n",
    "        created_optimizers.append(opt_class(opt_param['lr']))\n",
    "        optimizer_informations.append(opt_param)\n",
    "        \n",
    "    return created_optimizers, optimizer_informations"
   ]
  },
  {
   "cell_type": "code",
   "execution_count": 165,
   "metadata": {},
   "outputs": [],
   "source": [
    "created_optimizers, optimizer_informations = create_optimizer(auto=True)"
   ]
  },
  {
   "cell_type": "code",
   "execution_count": 166,
   "metadata": {},
   "outputs": [
    {
     "data": {
      "text/plain": [
       "[{'optimizer_name': 'adadelta', 'lr': 0.001},\n",
       " {'optimizer_name': 'adadelta', 'lr': 0.01},\n",
       " {'optimizer_name': 'adadelta', 'lr': 0.02},\n",
       " {'optimizer_name': 'adadelta', 'lr': 0.1},\n",
       " {'optimizer_name': 'sgd', 'lr': 0.001},\n",
       " {'optimizer_name': 'sgd', 'lr': 0.01},\n",
       " {'optimizer_name': 'sgd', 'lr': 0.02},\n",
       " {'optimizer_name': 'sgd', 'lr': 0.1},\n",
       " {'optimizer_name': 'adam', 'lr': 0.001},\n",
       " {'optimizer_name': 'adam', 'lr': 0.01},\n",
       " {'optimizer_name': 'adam', 'lr': 0.02},\n",
       " {'optimizer_name': 'adam', 'lr': 0.1},\n",
       " {'optimizer_name': 'adagrad', 'lr': 0.001},\n",
       " {'optimizer_name': 'adagrad', 'lr': 0.01},\n",
       " {'optimizer_name': 'adagrad', 'lr': 0.02},\n",
       " {'optimizer_name': 'adagrad', 'lr': 0.1},\n",
       " {'optimizer_name': 'adamax', 'lr': 0.001},\n",
       " {'optimizer_name': 'adamax', 'lr': 0.01},\n",
       " {'optimizer_name': 'adamax', 'lr': 0.02},\n",
       " {'optimizer_name': 'adamax', 'lr': 0.1},\n",
       " {'optimizer_name': 'rmsprop', 'lr': 0.001},\n",
       " {'optimizer_name': 'rmsprop', 'lr': 0.01},\n",
       " {'optimizer_name': 'rmsprop', 'lr': 0.02},\n",
       " {'optimizer_name': 'rmsprop', 'lr': 0.1}]"
      ]
     },
     "execution_count": 166,
     "metadata": {},
     "output_type": "execute_result"
    }
   ],
   "source": [
    "optimizer_informations"
   ]
  },
  {
   "cell_type": "code",
   "execution_count": 167,
   "metadata": {},
   "outputs": [],
   "source": [
    "created_optimizers, optimizer_informations = create_optimizer(optimizers=['adam', 'adadelta'], lrs=[0.01, 0.02])"
   ]
  },
  {
   "cell_type": "code",
   "execution_count": 168,
   "metadata": {},
   "outputs": [
    {
     "data": {
      "text/plain": [
       "([<tensorflow.python.keras.optimizer_v2.adam.Adam at 0x140fa41d0>,\n",
       "  <tensorflow.python.keras.optimizer_v2.adam.Adam at 0x140fa4210>,\n",
       "  <tensorflow.python.keras.optimizer_v2.adadelta.Adadelta at 0x140fa4290>,\n",
       "  <tensorflow.python.keras.optimizer_v2.adadelta.Adadelta at 0x140fa42d0>],\n",
       " [{'optimizer_name': 'adam', 'lr': 0.01},\n",
       "  {'optimizer_name': 'adam', 'lr': 0.02},\n",
       "  {'optimizer_name': 'adadelta', 'lr': 0.01},\n",
       "  {'optimizer_name': 'adadelta', 'lr': 0.02}])"
      ]
     },
     "execution_count": 168,
     "metadata": {},
     "output_type": "execute_result"
    }
   ],
   "source": [
    "created_optimizers, optimizer_informations"
   ]
  },
  {
   "cell_type": "code",
   "execution_count": 215,
   "metadata": {},
   "outputs": [],
   "source": [
    "def _compile_model(structured_models, model_structures, created_optimizers, optimizer_informations, problem='Regression'):\n",
    "    \n",
    "    # compile network\n",
    "    if problem == \"Regression\":\n",
    "        loss = keras.losses.MSE\n",
    "        metrics = ['MSE', 'MAE']\n",
    "    elif problem == \"Binary\":\n",
    "        loss = keras.losses.binary_crossentropy\n",
    "        metrics = ['accuracy']\n",
    "    else:\n",
    "        loss = keras.losses.categorical_crossentropy\n",
    "        metrics = ['accuracy']\n",
    "    \n",
    "    compiled_models = []\n",
    "    compiled_model_informations = []\n",
    "    \n",
    "    compile_grid = [zip(structured_models, model_structures), zip(created_optimizers ,optimizer_informations)]\n",
    "    for compile_tuple in itertools.product(*compile_grid):\n",
    "        compile_param = {'model': compile_tuple[0][0],\n",
    "                         'optimizer': compile_tuple[1][0]}\n",
    "        model_info = {'structure_info': compile_tuple[0][1],\n",
    "                       'optimizer_info': compile_tuple[1][1]}\n",
    "        \n",
    "        model = compile_param['model']\n",
    "        model.compile(optimizer=compile_param['optimizer'],\n",
    "                      loss=loss,\n",
    "                      metrics=metrics)\n",
    "        \n",
    "        compiled_models.append(model)\n",
    "        compiled_model_informations.append(model_info)\n",
    "    \n",
    "    return compiled_models, compiled_model_informations"
   ]
  },
  {
   "cell_type": "code",
   "execution_count": 216,
   "metadata": {},
   "outputs": [],
   "source": [
    "compiled_models, compiled_model_informations = _compile_model(structured_models, model_structures, created_optimizers, optimizer_informations, problem='Binary')"
   ]
  },
  {
   "cell_type": "code",
   "execution_count": 217,
   "metadata": {},
   "outputs": [
    {
     "data": {
      "text/plain": [
       "[<tensorflow.python.keras.engine.sequential.Sequential at 0x140fa4190>,\n",
       " <tensorflow.python.keras.engine.sequential.Sequential at 0x140fa4190>,\n",
       " <tensorflow.python.keras.engine.sequential.Sequential at 0x140fa4190>,\n",
       " <tensorflow.python.keras.engine.sequential.Sequential at 0x140fa4190>,\n",
       " <tensorflow.python.keras.engine.sequential.Sequential at 0x13c46c590>,\n",
       " <tensorflow.python.keras.engine.sequential.Sequential at 0x13c46c590>,\n",
       " <tensorflow.python.keras.engine.sequential.Sequential at 0x13c46c590>,\n",
       " <tensorflow.python.keras.engine.sequential.Sequential at 0x13c46c590>,\n",
       " <tensorflow.python.keras.engine.sequential.Sequential at 0x141031f50>,\n",
       " <tensorflow.python.keras.engine.sequential.Sequential at 0x141031f50>,\n",
       " <tensorflow.python.keras.engine.sequential.Sequential at 0x141031f50>,\n",
       " <tensorflow.python.keras.engine.sequential.Sequential at 0x141031f50>,\n",
       " <tensorflow.python.keras.engine.sequential.Sequential at 0x141047c50>,\n",
       " <tensorflow.python.keras.engine.sequential.Sequential at 0x141047c50>,\n",
       " <tensorflow.python.keras.engine.sequential.Sequential at 0x141047c50>,\n",
       " <tensorflow.python.keras.engine.sequential.Sequential at 0x141047c50>]"
      ]
     },
     "execution_count": 217,
     "metadata": {},
     "output_type": "execute_result"
    }
   ],
   "source": [
    "compiled_models"
   ]
  },
  {
   "cell_type": "code",
   "execution_count": 218,
   "metadata": {},
   "outputs": [
    {
     "data": {
      "text/plain": [
       "[{'structure_info': {'hidden_layers': 1, 'units': 16},\n",
       "  'optimizer_info': {'optimizer_name': 'adam', 'lr': 0.01}},\n",
       " {'structure_info': {'hidden_layers': 1, 'units': 16},\n",
       "  'optimizer_info': {'optimizer_name': 'adam', 'lr': 0.02}},\n",
       " {'structure_info': {'hidden_layers': 1, 'units': 16},\n",
       "  'optimizer_info': {'optimizer_name': 'adadelta', 'lr': 0.01}},\n",
       " {'structure_info': {'hidden_layers': 1, 'units': 16},\n",
       "  'optimizer_info': {'optimizer_name': 'adadelta', 'lr': 0.02}},\n",
       " {'structure_info': {'hidden_layers': 1, 'units': 32},\n",
       "  'optimizer_info': {'optimizer_name': 'adam', 'lr': 0.01}},\n",
       " {'structure_info': {'hidden_layers': 1, 'units': 32},\n",
       "  'optimizer_info': {'optimizer_name': 'adam', 'lr': 0.02}},\n",
       " {'structure_info': {'hidden_layers': 1, 'units': 32},\n",
       "  'optimizer_info': {'optimizer_name': 'adadelta', 'lr': 0.01}},\n",
       " {'structure_info': {'hidden_layers': 1, 'units': 32},\n",
       "  'optimizer_info': {'optimizer_name': 'adadelta', 'lr': 0.02}},\n",
       " {'structure_info': {'hidden_layers': 2, 'units': 16},\n",
       "  'optimizer_info': {'optimizer_name': 'adam', 'lr': 0.01}},\n",
       " {'structure_info': {'hidden_layers': 2, 'units': 16},\n",
       "  'optimizer_info': {'optimizer_name': 'adam', 'lr': 0.02}},\n",
       " {'structure_info': {'hidden_layers': 2, 'units': 16},\n",
       "  'optimizer_info': {'optimizer_name': 'adadelta', 'lr': 0.01}},\n",
       " {'structure_info': {'hidden_layers': 2, 'units': 16},\n",
       "  'optimizer_info': {'optimizer_name': 'adadelta', 'lr': 0.02}},\n",
       " {'structure_info': {'hidden_layers': 2, 'units': 32},\n",
       "  'optimizer_info': {'optimizer_name': 'adam', 'lr': 0.01}},\n",
       " {'structure_info': {'hidden_layers': 2, 'units': 32},\n",
       "  'optimizer_info': {'optimizer_name': 'adam', 'lr': 0.02}},\n",
       " {'structure_info': {'hidden_layers': 2, 'units': 32},\n",
       "  'optimizer_info': {'optimizer_name': 'adadelta', 'lr': 0.01}},\n",
       " {'structure_info': {'hidden_layers': 2, 'units': 32},\n",
       "  'optimizer_info': {'optimizer_name': 'adadelta', 'lr': 0.02}}]"
      ]
     },
     "execution_count": 218,
     "metadata": {},
     "output_type": "execute_result"
    }
   ],
   "source": [
    "compiled_model_informations"
   ]
  },
  {
   "cell_type": "code",
   "execution_count": null,
   "metadata": {},
   "outputs": [],
   "source": []
  }
 ],
 "metadata": {
  "kernelspec": {
   "display_name": "Python 3",
   "language": "python",
   "name": "python3"
  },
  "language_info": {
   "codemirror_mode": {
    "name": "ipython",
    "version": 3
   },
   "file_extension": ".py",
   "mimetype": "text/x-python",
   "name": "python",
   "nbconvert_exporter": "python",
   "pygments_lexer": "ipython3",
   "version": "3.7.1"
  }
 },
 "nbformat": 4,
 "nbformat_minor": 4
}
