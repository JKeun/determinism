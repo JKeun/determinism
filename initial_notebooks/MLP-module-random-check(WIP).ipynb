{
 "cells": [
  {
   "cell_type": "code",
   "execution_count": 4,
   "metadata": {},
   "outputs": [],
   "source": [
    "import itertools\n",
    "import numpy as np\n",
    "import pandas as pd\n",
    "import tensorflow as tf\n",
    "from tensorflow import keras\n",
    "\n",
    "from sklearn.model_selection import train_test_split\n",
    "from sklearn.compose import ColumnTransformer\n",
    "from sklearn.impute import SimpleImputer\n",
    "from sklearn.pipeline import Pipeline\n",
    "from sklearn.preprocessing import Normalizer, OneHotEncoder, StandardScaler\n",
    "from sklearn.model_selection import train_test_split"
   ]
  },
  {
   "cell_type": "code",
   "execution_count": null,
   "metadata": {},
   "outputs": [],
   "source": [
    "# import random\n",
    "\n",
    "# seed_num = 42\n",
    "# np.random.seed(seed_num)\n",
    "# random.seed(seed_num)\n",
    "# tf.random.set_seed(seed_num)\n",
    "\n",
    "# from tensorflow.keras import backend as K\n",
    "\n",
    "# session_conf = tf.compat.v1.ConfigProto(intra_op_parallelism_threads=1,\n",
    "#                                         inter_op_parallelism_threads=1)\n",
    "# sess = tf.compat.v1.Session(graph=tf.compat.v1.get_default_graph(), config=session_conf)\n",
    "# K.session_conf(sess)"
   ]
  },
  {
   "cell_type": "markdown",
   "metadata": {},
   "source": [
    "### DataSource"
   ]
  },
  {
   "cell_type": "code",
   "execution_count": 5,
   "metadata": {},
   "outputs": [],
   "source": [
    "class DataSource:\n",
    "    \n",
    "    def __init__(self, filename):\n",
    "        self.df = pd.read_csv(filename)\n",
    "    \n",
    "    \n",
    "    def data_load_split(self, target=None, ignore=None):\n",
    "        self.target = target\n",
    "        self.ignore = ignore\n",
    "        self.inputs = sorted(set(self.df.columns) - set(self.target) - set(self.ignore))\n",
    "        \n",
    "        self.X = self.df[self.inputs]\n",
    "        self.y = self.df[self.target]\n",
    "\n",
    "\n",
    "    def define_problem(self):\n",
    "        if self.y.dtypes[0] in ['int64', 'float64'] and self.y.nunique()[0] == 2:\n",
    "            self.problem = \"Binary\"\n",
    "        elif self.y.dtypes[0] in ['object', 'bool']:\n",
    "            self.problem = \"Classification\"\n",
    "        else:\n",
    "            self.problem = \"Regression\"\n",
    "\n",
    "\n",
    "    def train_val_split(self, ratio=0.2, random_state=42):\n",
    "        self.X_train, self.X_val, self.y_train, self.y_val = train_test_split(self.X, self.y,\n",
    "                                                                              test_size=ratio,\n",
    "                                                                              random_state=random_state)\n",
    "\n",
    "    \n",
    "    def data_preprocess(self, X, y, train_set=True):\n",
    "        if train_set:\n",
    "            # Data type detection\n",
    "            numerical_ix = X.select_dtypes(include=['int64', 'float64']).columns\n",
    "            categorical_ix = X.select_dtypes(include=['object', 'bool']).columns\n",
    "\n",
    "            # Data transform\n",
    "            num_transform = Pipeline(steps=[\n",
    "                ('imputer', SimpleImputer(strategy='mean')),\n",
    "                ('scaler', StandardScaler())\n",
    "            ])\n",
    "            cat_transform = Pipeline(steps=[\n",
    "                ('imputer', SimpleImputer(strategy='constant', fill_value=\"Missing\")),\n",
    "                ('oh_encoder', OneHotEncoder(sparse=False, handle_unknown='ignore'))\n",
    "            ])\n",
    "\n",
    "            self.transform_x = ColumnTransformer(transformers=[\n",
    "                ('num', num_transform, numerical_ix),\n",
    "                ('cat', cat_transform, categorical_ix)\n",
    "            ])\n",
    "            self.trans_X_train = self.transform_x.fit_transform(X)\n",
    "            \n",
    "            if self.problem == \"Classification\":\n",
    "                self.transform_y = ColumnTransformer(transformers=[\n",
    "                    ('cat', cat_transform, y.columns)\n",
    "                ])\n",
    "            else:\n",
    "                self.trans_y_train = y\n",
    "        else:\n",
    "            self.trans_X_val = self.transform_x.transform(X)\n",
    "            if self.problem == \"Classification\":\n",
    "                self.trans_y_val = self.transform_y.transform(y)\n",
    "            else:\n",
    "                self.trans_y_val = y\n",
    "                \n",
    "                \n",
    "filename=\"./data/titanic_train.csv\"\n",
    "ds = DataSource(filename)\n",
    "\n",
    "ds.data_load_split(target=['Survived'], \n",
    "                   ignore=[\"Name\", \"Cabin\", \"Ticket\"])\n",
    "ds.define_problem()\n",
    "ds.train_val_split(ratio=0.2, random_state=42)\n",
    "ds.data_preprocess(ds.X_train, ds.y_train, train_set=True)\n",
    "ds.data_preprocess(ds.X_val, ds.y_val, train_set=False)"
   ]
  },
  {
   "cell_type": "markdown",
   "metadata": {},
   "source": [
    "### MLP"
   ]
  },
  {
   "cell_type": "code",
   "execution_count": null,
   "metadata": {},
   "outputs": [],
   "source": [
    "# keras.initializers.glorot_uniform(seed=42)"
   ]
  },
  {
   "cell_type": "code",
   "execution_count": 95,
   "metadata": {},
   "outputs": [],
   "source": [
    "mlp = MLP(ds.trans_X_train, ds.trans_y_train, problem=ds.problem)"
   ]
  },
  {
   "cell_type": "code",
   "execution_count": 96,
   "metadata": {},
   "outputs": [],
   "source": [
    "grid = mlp.get_structures(max_hidden_layers=2, units=[16])"
   ]
  },
  {
   "cell_type": "code",
   "execution_count": 97,
   "metadata": {},
   "outputs": [],
   "source": [
    "models, models_info = mlp.get_mlp_models(grid)"
   ]
  },
  {
   "cell_type": "code",
   "execution_count": 98,
   "metadata": {},
   "outputs": [],
   "source": [
    "opt_grid = mlp.get_optimizers(optimizers=['adam', 'adadelta'], lrs=[0.01, 0.02])"
   ]
  },
  {
   "cell_type": "code",
   "execution_count": 99,
   "metadata": {},
   "outputs": [],
   "source": [
    "compiled_models = mlp.get_compiled_models(models, opt_grid)"
   ]
  },
  {
   "cell_type": "code",
   "execution_count": 100,
   "metadata": {},
   "outputs": [
    {
     "data": {
      "text/plain": [
       "[<tensorflow.python.keras.engine.sequential.Sequential at 0x7f6e1c4f89b0>,\n",
       " <tensorflow.python.keras.engine.sequential.Sequential at 0x7f6e1c56c390>,\n",
       " <tensorflow.python.keras.engine.sequential.Sequential at 0x7f6e1c614898>,\n",
       " <tensorflow.python.keras.engine.sequential.Sequential at 0x7f6e1bf8d390>,\n",
       " <tensorflow.python.keras.engine.sequential.Sequential at 0x7f6e1bcd2550>,\n",
       " <tensorflow.python.keras.engine.sequential.Sequential at 0x7f6e1bf919e8>,\n",
       " <tensorflow.python.keras.engine.sequential.Sequential at 0x7f6e1bf72518>,\n",
       " <tensorflow.python.keras.engine.sequential.Sequential at 0x7f6e1bf8cf60>]"
      ]
     },
     "execution_count": 100,
     "metadata": {},
     "output_type": "execute_result"
    }
   ],
   "source": [
    "compiled_models"
   ]
  },
  {
   "cell_type": "code",
   "execution_count": 101,
   "metadata": {},
   "outputs": [
    {
     "name": "stdout",
     "output_type": "stream",
     "text": [
      "<tensorflow.python.keras.optimizer_v2.adam.Adam object at 0x7f6e1c557a90>\n",
      "<tf.Variable 'learning_rate:0' shape=() dtype=float32, numpy=0.01>\n",
      "<tensorflow.python.keras.optimizer_v2.adam.Adam object at 0x7f6e1c557ba8>\n",
      "<tf.Variable 'learning_rate:0' shape=() dtype=float32, numpy=0.02>\n",
      "<tensorflow.python.keras.optimizer_v2.adadelta.Adadelta object at 0x7f6e1c557f60>\n",
      "<tf.Variable 'learning_rate:0' shape=() dtype=float32, numpy=0.01>\n",
      "<tensorflow.python.keras.optimizer_v2.adadelta.Adadelta object at 0x7f6e1c557828>\n",
      "<tf.Variable 'learning_rate:0' shape=() dtype=float32, numpy=0.02>\n",
      "<tensorflow.python.keras.optimizer_v2.adam.Adam object at 0x7f6e1c557a90>\n",
      "<tf.Variable 'learning_rate:0' shape=() dtype=float32, numpy=0.01>\n",
      "<tensorflow.python.keras.optimizer_v2.adam.Adam object at 0x7f6e1c557ba8>\n",
      "<tf.Variable 'learning_rate:0' shape=() dtype=float32, numpy=0.02>\n",
      "<tensorflow.python.keras.optimizer_v2.adadelta.Adadelta object at 0x7f6e1c557f60>\n",
      "<tf.Variable 'learning_rate:0' shape=() dtype=float32, numpy=0.01>\n",
      "<tensorflow.python.keras.optimizer_v2.adadelta.Adadelta object at 0x7f6e1c557828>\n",
      "<tf.Variable 'learning_rate:0' shape=() dtype=float32, numpy=0.02>\n"
     ]
    }
   ],
   "source": [
    "for model in compiled_models:\n",
    "    print(model.optimizer)\n",
    "    print(model.optimizer.lr)"
   ]
  },
  {
   "cell_type": "code",
   "execution_count": 102,
   "metadata": {},
   "outputs": [
    {
     "name": "stdout",
     "output_type": "stream",
     "text": [
      "sequential model is trained. best val loss is: [0.470039637315841, 0.780952380952381]\n",
      "sequential model is trained. best val loss is: [0.42513233763831004, 0.8142857142857143]\n",
      "sequential model is trained. best val loss is: [0.684956313314892, 0.5476190476190477]\n",
      "sequential model is trained. best val loss is: [0.7190406248683021, 0.3476190476190476]\n",
      "sequential model is trained. best val loss is: [0.45146573781967164, 0.8095238095238095]\n",
      "sequential model is trained. best val loss is: [0.4558487608319237, 0.8095238095238095]\n",
      "sequential model is trained. best val loss is: [0.7085234579585847, 0.38095238095238093]\n",
      "sequential model is trained. best val loss is: [0.6879226133936928, 0.6571428571428571]\n"
     ]
    }
   ],
   "source": [
    "trained_models, val_losses = mlp.train_models(compiled_models,\n",
    "                                              ds.trans_X_train, ds.trans_y_train,\n",
    "                                              ds.trans_X_val, ds.trans_y_val,\n",
    "                                              batch_size=64, epochs=10)"
   ]
  },
  {
   "cell_type": "code",
   "execution_count": 132,
   "metadata": {},
   "outputs": [],
   "source": [
    "mlp2 = MLP(ds.trans_X_train, ds.trans_y_train, problem=ds.problem)"
   ]
  },
  {
   "cell_type": "code",
   "execution_count": 133,
   "metadata": {},
   "outputs": [
    {
     "name": "stdout",
     "output_type": "stream",
     "text": [
      "sequential_8 model is trained. best val loss is: [0.4835422782670884, 0.7904761904761904]\n",
      "sequential_8 model is trained. best val loss is: [0.41850299267541796, 0.8238095238095238]\n",
      "sequential_8 model is trained. best val loss is: [0.6909763143176124, 0.5333333333333333]\n",
      "sequential_8 model is trained. best val loss is: [0.6857484442847116, 0.580952380952381]\n"
     ]
    }
   ],
   "source": [
    "model2 = mlp2.build_mlp_model(hidden_layers=1, unit=16)\n",
    "opt_grid2 = mlp2.get_optimizers(optimizers=['adam', 'adadelta'], lrs=[0.01, 0.02])\n",
    "compiled_models2 = mlp2.get_compiled_models([model2], opt_grid2)\n",
    "trained_models2, _ = mlp2.train_models(compiled_models2,\n",
    "                                       ds.trans_X_train, ds.trans_y_train,\n",
    "                                       ds.trans_X_val, ds.trans_y_val,\n",
    "                                       batch_size=64, epochs=10)"
   ]
  },
  {
   "cell_type": "code",
   "execution_count": 141,
   "metadata": {},
   "outputs": [
    {
     "data": {
      "text/plain": [
       "<tensorflow.python.keras.optimizer_v2.adadelta.Adadelta at 0x7f6d842b1748>"
      ]
     },
     "execution_count": 141,
     "metadata": {},
     "output_type": "execute_result"
    }
   ],
   "source": [
    "trained_models2[3].optimizer"
   ]
  },
  {
   "cell_type": "code",
   "execution_count": null,
   "metadata": {},
   "outputs": [],
   "source": []
  },
  {
   "cell_type": "code",
   "execution_count": 131,
   "metadata": {},
   "outputs": [],
   "source": [
    "class MLP:\n",
    "    \n",
    "    def __init__(self, X, y, problem=\"Regression\"):\n",
    "        tf.random.set_seed(42)\n",
    "        self.problem = problem\n",
    "        self.X = X\n",
    "        self.y = y\n",
    "        \n",
    "        \n",
    "    def build_mlp_model(self, hidden_layers=1, unit=16):\n",
    "        tf.random.set_seed(42)\n",
    "        \n",
    "        model = keras.Sequential()\n",
    "        # input layer\n",
    "        model.add(keras.layers.Input(shape=(self.X.shape[1],)))\n",
    "        # hidden layer\n",
    "        for _ in range(hidden_layers):\n",
    "            model.add(keras.layers.Dense(unit, activation='relu'))\n",
    "        # output layer\n",
    "        if self.problem == 'Regression':\n",
    "            model.add(keras.layers.Dense(1))\n",
    "        elif self.problem == 'Binary':\n",
    "            model.add(keras.layers.Dense(1, activation='sigmoid'))\n",
    "        else:\n",
    "            model.add(keras.layers.Dense(self.y.shape[1], activation='softmax'))\n",
    "            \n",
    "        tf.keras.backend.clear_session()\n",
    "        return model\n",
    "    \n",
    "    \n",
    "    def get_structures(self, max_hidden_layers=1, units=[16], use_all=False):\n",
    "        if use_all:\n",
    "            max_hidden_layers = 3\n",
    "            units = [16, 32, 64, 128, 256]\n",
    "        else:\n",
    "            max_hidden_layers = max_hidden_layers\n",
    "            units = units\n",
    "        \n",
    "        grid = [np.arange(max_hidden_layers)+1, units]\n",
    "        return grid\n",
    "    \n",
    "    \n",
    "    def get_mlp_models(self, grid):\n",
    "        models = []\n",
    "        models_info = []\n",
    "        for param_tuple in itertools.product(*grid):\n",
    "            structure_param = {'hidden_layers': param_tuple[0],\n",
    "                               'units': param_tuple[1]}\n",
    "            model = self.build_mlp_model(hidden_layers=structure_param['hidden_layers'],\n",
    "                                         unit=structure_param['units'])\n",
    "            models.append(model)\n",
    "            models_info.append(structure_param)\n",
    "            \n",
    "        return models, models_info\n",
    "\n",
    "    \n",
    "    def get_optimizers(self, optimizers=['adam'], lrs=[0.01], use_all=False):\n",
    "        optimizer_classes = {'adadelta': keras.optimizers.Adadelta, 'sgd': keras.optimizers.SGD,\n",
    "                             'adam': keras.optimizers.Adam, 'adagrad': keras.optimizers.Adagrad,\n",
    "                             'adamax': keras.optimizers.Adamax, 'rmsprop': keras.optimizers.RMSprop}\n",
    "        if use_all:\n",
    "            lrs = [0.001, 0.01, 0.02, 0.1]\n",
    "            opt_grid = [optimizer_classes.keys(), lrs]    \n",
    "        else:\n",
    "            opt_grid = [optimizers, lrs]\n",
    "        \n",
    "        optimizers = []\n",
    "        for opt_tuple in itertools.product(*opt_grid):\n",
    "            opt_param = {'optimizer': opt_tuple[0],\n",
    "                         'lr': opt_tuple[1]}\n",
    "            optimizer = optimizer_classes.get(opt_param['optimizer'])\n",
    "            optimizers.append(optimizer(opt_param['lr']))\n",
    "            \n",
    "        return optimizers\n",
    "\n",
    "    \n",
    "    def get_compiled_models(self, models, optimizers):        \n",
    "        if self.problem == \"Regression\":\n",
    "            self.loss = keras.losses.MSE\n",
    "            self.metrics = ['MSE', 'MAE']\n",
    "        elif self.problem == \"Binary\":\n",
    "            self.loss = keras.losses.binary_crossentropy\n",
    "            self.metrics = ['accuracy']\n",
    "        else:\n",
    "            self.loss = keras.losses.categorical_crossentropy\n",
    "            self.metrics = ['accuracy']\n",
    "        \n",
    "        compiled_models = []\n",
    "        compile_grid = [models, optimizers]\n",
    "        for compile_tuple in itertools.product(*compile_grid):\n",
    "            model = keras.models.clone_model(compile_tuple[0])\n",
    "            model.compile(optimizer=compile_tuple[1],\n",
    "                          loss=self.loss,\n",
    "                          metrics=self.metrics)\n",
    "            compiled_models.append(model)\n",
    "            \n",
    "        return compiled_models\n",
    "        \n",
    "    def train_models(self, compiled_models, X_train, y_train, X_val=None, y_val=None,\n",
    "                     batch_size=None, epochs=1, verbose=0, callbacks=None,\n",
    "                     shuffle=True, steps_per_epoch=None):\n",
    "        if callbacks:\n",
    "            self.callbacks = callbacks\n",
    "        else:\n",
    "            self.callbacks = keras.callbacks.EarlyStopping(monitor='val_loss',\n",
    "                                                           patience=5,\n",
    "                                                           restore_best_weights=True)\n",
    "        \n",
    "        trained_models = []\n",
    "        val_losses = []\n",
    "        for model in compiled_models:\n",
    "            model.fit(x=X_train, y=y_train,\n",
    "                      batch_size=batch_size, epochs=epochs,\n",
    "                      verbose=verbose, callbacks=self.callbacks,\n",
    "                      validation_data=(X_val, y_val), shuffle=shuffle)\n",
    "            val_loss = model.evaluate(X_val, y_val, verbose=0)\n",
    "            trained_models.append(model)\n",
    "            val_losses.append(val_loss[0])\n",
    "            print(\"{} model is trained. best val loss is: {}\".format(model.name, val_loss))\n",
    "        \n",
    "        return trained_models, val_losses\n",
    "\n",
    "#     def build_structure(self, max_hidden_layers=1, units=[16], use_all=False):\n",
    "#         self.structures = []\n",
    "#         self.structures_info = []\n",
    "#         if use_all:\n",
    "#             self.max_hidden_layers = 3\n",
    "#             self.units = [16, 32, 64, 128, 256]\n",
    "#         else:\n",
    "#             self.max_hidden_layers = max_hidden_layers\n",
    "#             self.units = units\n",
    "    \n",
    "#         grid = [np.arange(self.max_hidden_layers)+1, self.units]\n",
    "#         for param_tuple in itertools.product(*grid):\n",
    "#             structure_param = {'hidden_layers': param_tuple[0],\n",
    "#                                 'units': param_tuple[1]}\n",
    "\n",
    "#             # input layer\n",
    "#             model = keras.Sequential()\n",
    "#             model.add(keras.layers.Dense(16, input_shape=(self.X.shape[1],)))\n",
    "\n",
    "#             # hidden layer block\n",
    "#             for _ in range(structure_param['hidden_layers']):\n",
    "#                 tf.random.set_seed(42)\n",
    "#                 model.add(keras.layers.Dense(structure_param['units'], activation='relu',\n",
    "#                                             kernel_initializer=keras.initializers.glorot_uniform(seed=42)))\n",
    "#                 tf.random.set_seed(42)\n",
    "\n",
    "#             # output layer\n",
    "#             if self.problem == 'Regression':\n",
    "#                 model.add(keras.layers.Dense(1))\n",
    "#             elif self.problem == 'Binary':\n",
    "#                 model.add(keras.layers.Dense(1, activation='sigmoid'))\n",
    "#             else:\n",
    "#                 model.add(keras.layers.Dense(self.y.shape[1], activation='softmax'))\n",
    "\n",
    "#             self.structures.append(model)\n",
    "#             self.structures_info.append(structure_param)\n",
    "#             tf.keras.backend.clear_session()\n",
    "            \n",
    "\n",
    "            \n",
    "#     def build_single_structure(self, hidden_layers=1, units=16):\n",
    "#         self.structures = []\n",
    "#         self.structures_info = []\n",
    "#         self.hidden_layers = hidden_layers\n",
    "#         self.units = units\n",
    "        \n",
    "#         # input layer\n",
    "#         model = keras.Sequential()\n",
    "#         model.add(keras.layers.Dense(16, input_shape=(self.X.shape[1],)))\n",
    "        \n",
    "#         # hidden layer\n",
    "#         for _ in range(hidden_layers):\n",
    "#             tf.random.set_seed(42)\n",
    "#             model.add(keras.layers.Dense(self.units, activation='relu',\n",
    "#                                             kernel_initializer=keras.initializers.glorot_uniform(seed=42)))\n",
    "#             tf.random.set_seed(42)\n",
    "        \n",
    "#         # output layer\n",
    "#         if self.problem == 'Regression':\n",
    "#             model.add(keras.layers.Dense(1))\n",
    "#         elif self.problem == 'Binary':\n",
    "#             model.add(keras.layers.Dense(1, activation='sigmoid'))\n",
    "#         else:\n",
    "#             model.add(keras.layers.Dense(self.y.shape[1], activation='softmax'))\n",
    "            \n",
    "#         self.structures.append(model)\n",
    "#         self.structures_info.append({'hidden_layers': self.hidden_layers,\n",
    "#                                      'units': self.units})\n",
    "#         tf.keras.backend.clear_session()\n",
    "\n",
    "        \n",
    "#     def create_optimizer(self, optimizers=['adam'], lrs=[0.01], use_all=False):\n",
    "#         self.created_optimizers = []\n",
    "#         self.optimizers_info = []\n",
    "#         self.optimizers = optimizers\n",
    "#         self.lrs = lrs\n",
    "\n",
    "#         self.optimizer_classes = {'adadelta': keras.optimizers.Adadelta, 'sgd': keras.optimizers.SGD,\n",
    "#                                   'adam': keras.optimizers.Adam, 'adagrad': keras.optimizers.Adagrad,\n",
    "#                                   'adamax': keras.optimizers.Adamax, 'rmsprop': keras.optimizers.RMSprop}\n",
    "\n",
    "#         if use_all:\n",
    "#             self.lrs = [0.001, 0.01, 0.02, 0.1]\n",
    "#             opt_grid = [self.optimizer_classes.keys(), self.lrs]    \n",
    "#         else:\n",
    "#             opt_grid = [self.optimizers, self.lrs]\n",
    "\n",
    "#         for opt_tuple in itertools.product(*opt_grid):\n",
    "#             opt_param = {\n",
    "#                 'optimizer_name': opt_tuple[0],\n",
    "#                 'lr': opt_tuple[1]\n",
    "#             }\n",
    "\n",
    "#             opt_class = self.optimizer_classes.get(opt_param['optimizer_name'])\n",
    "#             self.created_optimizers.append(opt_class(opt_param['lr']))\n",
    "#             self.optimizers_info.append(opt_param)\n",
    "\n",
    "    \n",
    "#     def compile_model(self):\n",
    "#         if self.problem == \"Regression\":\n",
    "#             self.loss = keras.losses.MSE\n",
    "#             self.metrics = ['MSE', 'MAE']\n",
    "#         elif self.problem == \"Binary\":\n",
    "#             self.loss = keras.losses.binary_crossentropy\n",
    "#             self.metrics = ['accuracy']\n",
    "#         else:\n",
    "#             self.loss = keras.losses.categorical_crossentropy\n",
    "#             self.metrics = ['accuracy']\n",
    "\n",
    "#         self.compiled_models = []\n",
    "#         self.compiled_models_info = []\n",
    "\n",
    "#         compile_grid = [zip(self.structures, self.structures_info), zip(self.created_optimizers ,self.optimizers_info)]\n",
    "#         for compile_tuple in itertools.product(*compile_grid):\n",
    "#             compile_param = {'model': compile_tuple[0][0],\n",
    "#                              'optimizer': compile_tuple[1][0]}\n",
    "#             model_info = {'structure_info': compile_tuple[0][1],\n",
    "#                            'optimizer_info': compile_tuple[1][1]}\n",
    "\n",
    "#             model_body = compile_param['model']\n",
    "#             model = keras.models.clone_model(model_body)\n",
    "#             model.compile(optimizer=compile_param['optimizer'],\n",
    "#                                loss=self.loss,\n",
    "#                                metrics=self.metrics)\n",
    "\n",
    "#             self.compiled_models.append(model)\n",
    "#             self.compiled_models_info.append(model_info)\n",
    "\n",
    "    \n",
    "#     def train_models(self, models, X_train, y_train, X_val=None, y_val=None,\n",
    "#                      batch_size=None, epochs=1, verbose=0, callbacks=None,\n",
    "#                      shuffle=True, steps_per_epoch=None):\n",
    "\n",
    "#         if callbacks:\n",
    "#             self.callbacks = callbacks\n",
    "#         else:\n",
    "#             self.callbacks = tf.keras.callbacks.EarlyStopping(monitor='val_loss',\n",
    "#                                                               patience=5, restore_best_weights=True)\n",
    "\n",
    "#         self.trained_models = []\n",
    "#         self.val_losses = []\n",
    "#         for model in models:\n",
    "#             model.fit(x=X_train, y=y_train,\n",
    "#                       batch_size=batch_size, epochs=epochs,\n",
    "#                       verbose=verbose, callbacks=callbacks,\n",
    "#                       validation_data=(X_val, y_val), shuffle=shuffle)\n",
    "            \n",
    "#             val_loss = model.evaluate(X_val, y_val, verbose=0)\n",
    "#             self.trained_models.append(model)\n",
    "#             self.val_losses.append(val_loss[0])\n",
    "#             print(\"{} model is trained. best val loss is : {}\".format(model.name, val_loss))\n",
    "                \n",
    "    \n",
    "def select_best_model(trained_models, val_losses, models_info):\n",
    "    best_idx = np.argmin(val_losses)\n",
    "    best_model = trained_models[best_idx]\n",
    "    best_model_info = models_info[best_idx]\n",
    "    return best_model, best_model_info"
   ]
  },
  {
   "cell_type": "markdown",
   "metadata": {},
   "source": [
    "## Titaninc"
   ]
  },
  {
   "cell_type": "code",
   "execution_count": 4,
   "metadata": {},
   "outputs": [
    {
     "name": "stdout",
     "output_type": "stream",
     "text": [
      "sequential model is trained. best val loss is : [0.7246705918716249, 0.8]\n",
      "sequential model is trained. best val loss is : [0.9857175905960499, 0.7904761904761904]\n",
      "sequential model is trained. best val loss is : [0.914850744654183, 0.8047619047619048]\n"
     ]
    }
   ],
   "source": [
    "mlp = MLP(ds.trans_X_train, ds.trans_y_train, problem=ds.problem)\n",
    "mlp.build_structure(max_hidden_layers=3, units=[16], use_all=False)\n",
    "mlp.create_optimizer(optimizers=['adam'], lrs=[0.01], use_all=False)\n",
    "mlp.compile_model()\n",
    "mlp.train_models(mlp.compiled_models,\n",
    "                 ds.trans_X_train, ds.trans_y_train, ds.trans_X_val, ds.trans_y_val,\n",
    "                 batch_size=64, epochs=10)"
   ]
  },
  {
   "cell_type": "code",
   "execution_count": 5,
   "metadata": {},
   "outputs": [
    {
     "name": "stdout",
     "output_type": "stream",
     "text": [
      "Model: \"sequential\"\n",
      "_________________________________________________________________\n",
      "Layer (type)                 Output Shape              Param #   \n",
      "=================================================================\n",
      "dense (Dense)                (None, 16)                10608     \n",
      "_________________________________________________________________\n",
      "dense_1 (Dense)              (None, 16)                272       \n",
      "_________________________________________________________________\n",
      "dense_2 (Dense)              (None, 1)                 17        \n",
      "=================================================================\n",
      "Total params: 10,897\n",
      "Trainable params: 10,897\n",
      "Non-trainable params: 0\n",
      "_________________________________________________________________\n"
     ]
    }
   ],
   "source": [
    "mlp.trained_models[0].summary()"
   ]
  },
  {
   "cell_type": "code",
   "execution_count": null,
   "metadata": {},
   "outputs": [],
   "source": [
    "# init\n",
    "# sequential model is trained. best val loss is : [0.7812652843339103, 0.8095238095238095]\n",
    "# sequential model is trained. best val loss is : [1.0299395141147432, 0.8047619047619048]\n",
    "# sequential model is trained. best val loss is : [0.9414586668922788, 0.7476190476190476]\n",
    "\n",
    "# init, hidden앞\n",
    "# sequential model is trained. best val loss is : [0.7851679313750494, 0.8]\n",
    "# sequential model is trained. best val loss is : [1.1065275385266258, 0.7952380952380952]\n",
    "# sequential model is trained. best val loss is : [1.04793796085176, 0.7095238095238096]\n",
    "\n",
    "# init, hidden앞, hidden뒤\n",
    "# sequential model is trained. best val loss is : [0.7572807045209975, 0.8]\n",
    "# sequential model is trained. best val loss is : [0.9114891551789783, 0.780952380952381]\n",
    "# sequential model is trained. best val loss is : [1.1249423844473703, 0.719047619047619]\n",
    "\n",
    "# init, hidden앞, hidden뒤, hidden=kernel_initializer=glorot_uniform\n",
    "# sequential model is trained. best val loss is : [0.7759955338069371, 0.8047619047619048]\n",
    "# sequential model is trained. best val loss is : [1.0129560129983084, 0.819047619047619]\n",
    "# sequential model is trained. best val loss is : [0.7714474700746082, 0.819047619047619]\n",
    "\n",
    "# init, hidden앞, hidden뒤, hidden=kernel_initializer=zeros\n",
    "# sequential model is trained. best val loss is : [0.6714708396366664, 0.6047619047619047]\n",
    "# sequential model is trained. best val loss is : [0.6713804721832275, 0.6047619047619047]\n",
    "# sequential model is trained. best val loss is : [0.6712687969207763, 0.6047619047619047]\n",
    "\n",
    "# init, hidden앞, hidden뒤, hidden=kernel_initializer=normal\n",
    "# sequential model is trained. best val loss is : [0.744559679712568, 0.8095238095238095]\n",
    "# sequential model is trained. best val loss is : [0.7926248561768304, 0.8142857142857143]\n",
    "# sequential model is trained. best val loss is : [0.8642358473369054, 0.7476190476190476]"
   ]
  },
  {
   "cell_type": "code",
   "execution_count": 6,
   "metadata": {},
   "outputs": [
    {
     "name": "stdout",
     "output_type": "stream",
     "text": [
      "sequential model is trained. best val loss is : [0.7246705918716249, 0.8]\n"
     ]
    }
   ],
   "source": [
    "mlp1 = MLP(ds.trans_X_train, ds.trans_y_train, problem=ds.problem)\n",
    "mlp1.build_single_structure(hidden_layers=1, units=16)\n",
    "mlp1.create_optimizer(optimizers=['adam'], lrs=[0.01], use_all=False)\n",
    "mlp1.compile_model()\n",
    "mlp1.train_models(mlp1.compiled_models,\n",
    "                  ds.trans_X_train, ds.trans_y_train, ds.trans_X_val, ds.trans_y_val,\n",
    "                  batch_size=64, epochs=10)"
   ]
  },
  {
   "cell_type": "code",
   "execution_count": 7,
   "metadata": {},
   "outputs": [
    {
     "name": "stdout",
     "output_type": "stream",
     "text": [
      "Model: \"sequential\"\n",
      "_________________________________________________________________\n",
      "Layer (type)                 Output Shape              Param #   \n",
      "=================================================================\n",
      "dense (Dense)                (None, 16)                10608     \n",
      "_________________________________________________________________\n",
      "dense_1 (Dense)              (None, 16)                272       \n",
      "_________________________________________________________________\n",
      "dense_2 (Dense)              (None, 1)                 17        \n",
      "=================================================================\n",
      "Total params: 10,897\n",
      "Trainable params: 10,897\n",
      "Non-trainable params: 0\n",
      "_________________________________________________________________\n"
     ]
    }
   ],
   "source": [
    "mlp1.trained_models[0].summary()"
   ]
  },
  {
   "cell_type": "code",
   "execution_count": null,
   "metadata": {},
   "outputs": [],
   "source": [
    "# sequential model is trained. best val loss is : [0.7399208488918486, 0.8142857142857143]\n",
    "\n",
    "# sequential model is trained. best val loss is : [0.7851679313750494, 0.8]\n",
    "\n",
    "# sequential model is trained. best val loss is : [0.7572807045209975, 0.8]\n",
    "\n",
    "# sequential model is trained. best val loss is : [0.7759955338069371, 0.8047619047619048]\n",
    "\n",
    "# sequential model is trained. best val loss is : [0.6714708396366664, 0.6047619047619047]\n",
    "\n",
    "# sequential model is trained. best val loss is : [0.744559679712568, 0.8095238095238095]"
   ]
  },
  {
   "cell_type": "code",
   "execution_count": 8,
   "metadata": {},
   "outputs": [
    {
     "name": "stdout",
     "output_type": "stream",
     "text": [
      "sequential model is trained. best val loss is : [0.8046222738099315, 0.780952380952381]\n"
     ]
    }
   ],
   "source": [
    "mlp2 = MLP(ds.trans_X_train, ds.trans_y_train, problem=ds.problem)\n",
    "mlp2.build_single_structure(hidden_layers=2, units=16)\n",
    "mlp2.create_optimizer(optimizers=['adam'], lrs=[0.01], use_all=False)\n",
    "mlp2.compile_model()\n",
    "mlp2.train_models(mlp2.compiled_models,\n",
    "                  ds.trans_X_train, ds.trans_y_train, ds.trans_X_val, ds.trans_y_val,\n",
    "                  batch_size=64, epochs=10)"
   ]
  },
  {
   "cell_type": "code",
   "execution_count": 9,
   "metadata": {},
   "outputs": [
    {
     "name": "stdout",
     "output_type": "stream",
     "text": [
      "Model: \"sequential\"\n",
      "_________________________________________________________________\n",
      "Layer (type)                 Output Shape              Param #   \n",
      "=================================================================\n",
      "dense (Dense)                (None, 16)                10608     \n",
      "_________________________________________________________________\n",
      "dense_1 (Dense)              (None, 16)                272       \n",
      "_________________________________________________________________\n",
      "dense_2 (Dense)              (None, 16)                272       \n",
      "_________________________________________________________________\n",
      "dense_3 (Dense)              (None, 1)                 17        \n",
      "=================================================================\n",
      "Total params: 11,169\n",
      "Trainable params: 11,169\n",
      "Non-trainable params: 0\n",
      "_________________________________________________________________\n"
     ]
    }
   ],
   "source": [
    "mlp2.trained_models[0].summary()"
   ]
  },
  {
   "cell_type": "code",
   "execution_count": null,
   "metadata": {},
   "outputs": [],
   "source": [
    "# sequential model is trained. best val loss is : [0.9132801021848406, 0.8095238095238095]\n",
    "\n",
    "# sequential model is trained. best val loss is : [0.6909157412392752, 0.7857142857142857]\n",
    "\n",
    "# sequential model is trained. best val loss is : [0.7798875859805516, 0.8380952380952381]\n",
    "\n",
    "# sequential model is trained. best val loss is : [0.8847121284121559, 0.8095238095238095]\n",
    "\n",
    "# sequential model is trained. best val loss is : [0.6714708396366664, 0.6047619047619047]\n",
    "\n",
    "# sequential model is trained. best val loss is : [0.6464605382510594, 0.6904761904761905]"
   ]
  },
  {
   "cell_type": "code",
   "execution_count": null,
   "metadata": {},
   "outputs": [],
   "source": []
  },
  {
   "cell_type": "code",
   "execution_count": null,
   "metadata": {},
   "outputs": [],
   "source": []
  },
  {
   "cell_type": "code",
   "execution_count": null,
   "metadata": {},
   "outputs": [],
   "source": []
  },
  {
   "cell_type": "code",
   "execution_count": null,
   "metadata": {},
   "outputs": [],
   "source": [
    "trained_models"
   ]
  },
  {
   "cell_type": "code",
   "execution_count": null,
   "metadata": {},
   "outputs": [],
   "source": [
    "best_model, best_model_info = select_best_model(mlp.trained_models, mlp.val_losses, mlp.compiled_models_info)\n",
    "best_model.evaluate(ds.trans_X_val, ds.trans_y_val)"
   ]
  },
  {
   "cell_type": "code",
   "execution_count": null,
   "metadata": {},
   "outputs": [],
   "source": [
    "best_model_info"
   ]
  },
  {
   "cell_type": "code",
   "execution_count": null,
   "metadata": {},
   "outputs": [],
   "source": [
    "import matplotlib.pyplot as plt\n",
    "plt.plot(sorted(mlp.val_losses)[:20], '.')"
   ]
  },
  {
   "cell_type": "code",
   "execution_count": null,
   "metadata": {},
   "outputs": [],
   "source": [
    "trained_models = mlp.train_models(mlp.compiled_models,\n",
    "                                  ds.trans_X_train, ds.trans_y_train, ds.trans_X_val, ds.trans_y_val,\n",
    "                                  batch_size=64, epochs=10)"
   ]
  },
  {
   "cell_type": "code",
   "execution_count": null,
   "metadata": {},
   "outputs": [],
   "source": [
    "best_model, best_model_info = select_best_model(mlp.trained_models, mlp.val_losses, mlp.compiled_models_info)\n",
    "best_model.evaluate(ds.trans_X_val, ds.trans_y_val)"
   ]
  },
  {
   "cell_type": "code",
   "execution_count": null,
   "metadata": {},
   "outputs": [],
   "source": [
    "best_model_info"
   ]
  }
 ],
 "metadata": {
  "kernelspec": {
   "display_name": "Python 3",
   "language": "python",
   "name": "python3"
  },
  "language_info": {
   "codemirror_mode": {
    "name": "ipython",
    "version": 3
   },
   "file_extension": ".py",
   "mimetype": "text/x-python",
   "name": "python",
   "nbconvert_exporter": "python",
   "pygments_lexer": "ipython3",
   "version": "3.7.1"
  }
 },
 "nbformat": 4,
 "nbformat_minor": 4
}
