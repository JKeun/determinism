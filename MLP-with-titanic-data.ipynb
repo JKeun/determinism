{
 "cells": [
  {
   "cell_type": "code",
   "execution_count": 1,
   "metadata": {},
   "outputs": [],
   "source": [
    "import itertools\n",
    "import numpy as np\n",
    "import pandas as pd\n",
    "import tensorflow as tf\n",
    "from tensorflow import keras\n",
    "\n",
    "from sklearn.model_selection import train_test_split\n",
    "from sklearn.compose import ColumnTransformer\n",
    "from sklearn.impute import SimpleImputer\n",
    "from sklearn.pipeline import Pipeline\n",
    "from sklearn.preprocessing import Normalizer, OneHotEncoder, StandardScaler\n",
    "from sklearn.model_selection import train_test_split"
   ]
  },
  {
   "cell_type": "markdown",
   "metadata": {},
   "source": [
    "### DataSource"
   ]
  },
  {
   "cell_type": "code",
   "execution_count": 2,
   "metadata": {},
   "outputs": [],
   "source": [
    "class DataSource:\n",
    "    \n",
    "    def __init__(self, filename):\n",
    "        self.df = pd.read_csv(filename)\n",
    "        \n",
    "    def data_load_split(self, target=None, ignore=None):\n",
    "        self.target = target\n",
    "        self.ignore = ignore\n",
    "        self.inputs = sorted(set(self.df.columns) - set(self.target) - set(self.ignore))\n",
    "        \n",
    "        self.X = self.df[self.inputs]\n",
    "        self.y = self.df[self.target]\n",
    "        \n",
    "        return self.X, self.y\n",
    "    \n",
    "    def define_problem(self):\n",
    "        if self.y.dtypes[0] in ['int64', 'float64'] and self.y.nunique()[0] == 2:\n",
    "            self.problem = \"Binary\"\n",
    "        elif self.y.dtypes[0] in ['object', 'bool']:\n",
    "            self.problem = \"Classification\"\n",
    "        else:\n",
    "            self.problem = \"Regression\"\n",
    "    \n",
    "        return self.problem\n",
    "    \n",
    "    def data_preprocess(self, X, y, problem=\"Regression\"):\n",
    "\n",
    "        # Data type detection\n",
    "        numerical_ix = self.X.select_dtypes(include=['int64', 'float64']).columns\n",
    "        categorical_ix = self.X.select_dtypes(include=['object', 'bool']).columns\n",
    "\n",
    "        # Data transform\n",
    "        num_transform = Pipeline(steps=[\n",
    "            ('imputer', SimpleImputer(strategy='mean')),\n",
    "            ('scaler', StandardScaler())\n",
    "        ])\n",
    "        cat_transform = Pipeline(steps=[\n",
    "            ('imputer', SimpleImputer(strategy='constant', fill_value=\"Missing\")),\n",
    "            ('oh_encoder', OneHotEncoder(sparse=False))\n",
    "        ])\n",
    "\n",
    "        transform_x = ColumnTransformer(transformers=[\n",
    "            ('num', num_transform, numerical_ix),\n",
    "            ('cat', cat_transform, categorical_ix)\n",
    "        ])\n",
    "        \n",
    "        if problem == \"Regression\" or \"Binary\":\n",
    "            transform_y = ColumnTransformer(transformers=[\n",
    "                ('num', Normalizer(), y.columns)\n",
    "            ])\n",
    "        else:\n",
    "            transform_y = ColumnTransformer(transformers=[\n",
    "                ('cat', cat_transform, y.columns)\n",
    "            ])\n",
    "            \n",
    "        self.trans_X = transform_x.fit_transform(self.X)\n",
    "        self.trans_y = transform_y.fit_transform(self.y)\n",
    "\n",
    "        return self.trans_X, self.trans_y\n",
    "    \n",
    "    def train_val_split(self, X, y, ratio=0.2, random_state=42):\n",
    "        return train_test_split(X, y, test_size=ratio, random_state=random_state)"
   ]
  },
  {
   "cell_type": "code",
   "execution_count": 3,
   "metadata": {},
   "outputs": [],
   "source": [
    "filename=\"./data/titanic_train.csv\"\n",
    "ds = DataSource(filename)\n",
    "\n",
    "X, y = ds.data_load_split(target=['Survived'], \n",
    "                          ignore=[\"Name\", \"Cabin\", \"Ticket\"])\n",
    "\n",
    "problem = ds.define_problem()\n",
    "trans_X, trans_y = ds.data_preprocess(X, y, problem=problem)\n",
    "X_train, X_val, y_train, y_val = ds.train_val_split(trans_X, trans_y, ratio=0.2, random_state=42)"
   ]
  },
  {
   "cell_type": "markdown",
   "metadata": {},
   "source": [
    "### MLP"
   ]
  },
  {
   "cell_type": "code",
   "execution_count": 4,
   "metadata": {},
   "outputs": [],
   "source": [
    "class MLP:\n",
    "    \n",
    "    def __init__(self, problem=\"Regression\"):\n",
    "        self.problem = problem\n",
    "        tf.random.set_seed(42)\n",
    "    def build_structure(self, max_hidden_layers=1, units=[16]):\n",
    "        self.structures = []\n",
    "        self.structures_info = []\n",
    "        self.max_hidden_layers = max_hidden_layers\n",
    "        self.units = units\n",
    "    \n",
    "        grid = [np.arange(self.max_hidden_layers)+1, self.units]\n",
    "        for param_tuple in itertools.product(*grid):\n",
    "            structure_param = {'hidden_layers': param_tuple[0],\n",
    "                                'units': param_tuple[1]}\n",
    "\n",
    "            # input layer\n",
    "            model = keras.Sequential()\n",
    "            model.add(keras.layers.Dense(16, input_shape=(trans_X.shape[1],)))\n",
    "\n",
    "            # hidden layer block\n",
    "            for _ in range(structure_param['hidden_layers']):\n",
    "                model.add(keras.layers.Dense(structure_param['units'], activation='relu'))\n",
    "\n",
    "            # output layer\n",
    "            if problem == 'Regression':\n",
    "                model.add(keras.layers.Dense(1))\n",
    "            elif problem == 'Binary':\n",
    "                model.add(keras.layers.Dense(1, activation='sigmoid'))\n",
    "            else:\n",
    "                model.add(keras.layers.Dense(trans_y.shape[1], activation='softmax'))\n",
    "\n",
    "            self.structures.append(model)\n",
    "            self.structures_info.append(structure_param)\n",
    "\n",
    "        return self.structures, self.structures_info\n",
    "    \n",
    "    def create_optimizer(self, optimizers=['adam'], lrs=[0.01], use_all=False):\n",
    "        self.created_optimizers = []\n",
    "        self.optimizers_info = []\n",
    "        self.optimizers = optimizers\n",
    "        self.lrs = lrs\n",
    "\n",
    "        self.optimizer_classes = {'adadelta': keras.optimizers.Adadelta, 'sgd': keras.optimizers.SGD,\n",
    "                                  'adam': keras.optimizers.Adam, 'adagrad': keras.optimizers.Adagrad,\n",
    "                                  'adamax': keras.optimizers.Adamax, 'rmsprop': keras.optimizers.RMSprop}\n",
    "\n",
    "        if use_all:\n",
    "            self.lrs = [0.001, 0.01, 0.02, 0.1]\n",
    "            opt_grid = [self.optimizer_classes.keys(), self.lrs]    \n",
    "        else:\n",
    "            opt_grid = [self.optimizers, self.lrs]\n",
    "\n",
    "        for opt_tuple in itertools.product(*opt_grid):\n",
    "            opt_param = {\n",
    "                'optimizer_name': opt_tuple[0],\n",
    "                'lr': opt_tuple[1]\n",
    "            }\n",
    "\n",
    "            opt_class = self.optimizer_classes.get(opt_param['optimizer_name'])\n",
    "            self.created_optimizers.append(opt_class(opt_param['lr']))\n",
    "            self.optimizers_info.append(opt_param)\n",
    "\n",
    "        return self.created_optimizers, self.optimizers_info\n",
    "    \n",
    "    def _compile_model(self):\n",
    "        if self.problem == \"Regression\":\n",
    "            self.loss = keras.losses.MSE\n",
    "            self.metrics = ['MSE', 'MAE']\n",
    "        elif self.problem == \"Binary\":\n",
    "            self.loss = keras.losses.binary_crossentropy\n",
    "            self.metrics = ['accuracy']\n",
    "        else:\n",
    "            self.loss = keras.losses.categorical_crossentropy\n",
    "            self.metrics = ['accuracy']\n",
    "\n",
    "        self.compiled_models = []\n",
    "        self.compiled_models_info = []\n",
    "\n",
    "        compile_grid = [zip(self.structures, self.structures_info), zip(self.created_optimizers ,self.optimizers_info)]\n",
    "        for compile_tuple in itertools.product(*compile_grid):\n",
    "            compile_param = {'model': compile_tuple[0][0],\n",
    "                             'optimizer': compile_tuple[1][0]}\n",
    "            model_info = {'structure_info': compile_tuple[0][1],\n",
    "                           'optimizer_info': compile_tuple[1][1]}\n",
    "\n",
    "            model_body = compile_param['model']\n",
    "            model = keras.models.clone_model(model_body)\n",
    "            model.compile(optimizer=compile_param['optimizer'],\n",
    "                               loss=self.loss,\n",
    "                               metrics=self.metrics)\n",
    "\n",
    "            self.compiled_models.append(model)\n",
    "            self.compiled_models_info.append(model_info)\n",
    "\n",
    "        return self.compiled_models, self.compiled_models_info\n",
    "    \n",
    "    def train_models(self, models, X_train, y_train, X_val=None, y_val=None,\n",
    "                     batch_size=None, epochs=1, verbose=0, callbacks=None,\n",
    "                     shuffle=True, steps_per_epoch=None):\n",
    "        self.X_train = X_train\n",
    "        self.y_train = y_train\n",
    "        self.X_val = X_val\n",
    "        self.y_val = y_val\n",
    "\n",
    "        self.trained_models = []\n",
    "        self.val_losses = []\n",
    "        for model in models:\n",
    "            model.fit(x=self.X_train, y=self.y_train,\n",
    "                      batch_size=batch_size, epochs=epochs,\n",
    "                      verbose=verbose, callbacks=callbacks,\n",
    "                      validation_data=(self.X_val, self.y_val), shuffle=shuffle)\n",
    "            \n",
    "            val_loss = model.evaluate(self.X_val, self.y_val, verbose=0)\n",
    "            self.trained_models.append(model)\n",
    "            self.val_losses.append(val_loss[0])\n",
    "            print(\"{} model is trained. best val loss is : {}\".format(model.name, val_loss))\n",
    "            \n",
    "        return self.trained_models"
   ]
  },
  {
   "cell_type": "code",
   "execution_count": 5,
   "metadata": {},
   "outputs": [
    {
     "name": "stdout",
     "output_type": "stream",
     "text": [
      "sequential model is trained. best val loss is : [0.4636035101754325, 0.8142857142857143]\n",
      "sequential model is trained. best val loss is : [0.47446365583510625, 0.7952380952380952]\n",
      "sequential model is trained. best val loss is : [0.6349897543589275, 0.7238095238095238]\n",
      "sequential model is trained. best val loss is : [0.5946810943739754, 0.7047619047619048]\n",
      "sequential_1 model is trained. best val loss is : [0.5340263491585141, 0.7666666666666667]\n",
      "sequential_1 model is trained. best val loss is : [0.6499969113440741, 0.7666666666666667]\n",
      "sequential_1 model is trained. best val loss is : [0.6296191289311364, 0.7428571428571429]\n",
      "sequential_1 model is trained. best val loss is : [0.5965815561158316, 0.7428571428571429]\n",
      "sequential_2 model is trained. best val loss is : [0.6336854003724598, 0.6095238095238096]\n",
      "sequential_2 model is trained. best val loss is : [0.6744712699027289, 0.6047619047619047]\n",
      "sequential_2 model is trained. best val loss is : [0.6585420256569272, 0.6476190476190476]\n",
      "sequential_2 model is trained. best val loss is : [0.5310478857585362, 0.7666666666666667]\n",
      "sequential_3 model is trained. best val loss is : [0.6711059962000165, 0.6047619047619047]\n",
      "sequential_3 model is trained. best val loss is : [0.6710447146779015, 0.6047619047619047]\n",
      "sequential_3 model is trained. best val loss is : [0.6542989906810579, 0.6047619047619047]\n",
      "sequential_3 model is trained. best val loss is : [0.5446296254793803, 0.7714285714285715]\n"
     ]
    }
   ],
   "source": [
    "mlp = MLP(problem=problem)\n",
    "structures, structures_info = mlp.build_structure(max_hidden_layers=2, units=[16, 32])\n",
    "created_optimizers, optimizers_info = mlp.create_optimizer(optimizers=['adam', 'adadelta'], lrs=[0.1, 0.2], use_all=False)\n",
    "compiled_models, compiled_models_info = mlp._compile_model()\n",
    "\n",
    "callback = tf.keras.callbacks.EarlyStopping(monitor='val_loss', patience=5, restore_best_weights=True)\n",
    "\n",
    "trained_models = mlp.train_models(compiled_models,\n",
    "                                  X_train, y_train, X_val, y_val,\n",
    "                                  batch_size=64, epochs=10,\n",
    "                                  callbacks=[callback])"
   ]
  },
  {
   "cell_type": "code",
   "execution_count": 6,
   "metadata": {},
   "outputs": [
    {
     "name": "stdout",
     "output_type": "stream",
     "text": [
      "<tensorflow.python.keras.optimizer_v2.adam.Adam object at 0x7f2b50388ef0>\n",
      "<tensorflow.python.keras.optimizer_v2.adam.Adam object at 0x7f2ab5c0def0>\n",
      "<tensorflow.python.keras.optimizer_v2.adadelta.Adadelta object at 0x7f2ab5c2d240>\n",
      "<tensorflow.python.keras.optimizer_v2.adadelta.Adadelta object at 0x7f2ab5c2da58>\n",
      "<tensorflow.python.keras.optimizer_v2.adam.Adam object at 0x7f2b50388ef0>\n",
      "<tensorflow.python.keras.optimizer_v2.adam.Adam object at 0x7f2ab5c0def0>\n",
      "<tensorflow.python.keras.optimizer_v2.adadelta.Adadelta object at 0x7f2ab5c2d240>\n",
      "<tensorflow.python.keras.optimizer_v2.adadelta.Adadelta object at 0x7f2ab5c2da58>\n",
      "<tensorflow.python.keras.optimizer_v2.adam.Adam object at 0x7f2b50388ef0>\n",
      "<tensorflow.python.keras.optimizer_v2.adam.Adam object at 0x7f2ab5c0def0>\n",
      "<tensorflow.python.keras.optimizer_v2.adadelta.Adadelta object at 0x7f2ab5c2d240>\n",
      "<tensorflow.python.keras.optimizer_v2.adadelta.Adadelta object at 0x7f2ab5c2da58>\n",
      "<tensorflow.python.keras.optimizer_v2.adam.Adam object at 0x7f2b50388ef0>\n",
      "<tensorflow.python.keras.optimizer_v2.adam.Adam object at 0x7f2ab5c0def0>\n",
      "<tensorflow.python.keras.optimizer_v2.adadelta.Adadelta object at 0x7f2ab5c2d240>\n",
      "<tensorflow.python.keras.optimizer_v2.adadelta.Adadelta object at 0x7f2ab5c2da58>\n"
     ]
    }
   ],
   "source": [
    "for i in range(len(trained_models)):\n",
    "    print(trained_models[i].optimizer)"
   ]
  },
  {
   "cell_type": "code",
   "execution_count": 7,
   "metadata": {},
   "outputs": [],
   "source": [
    "best_idx = np.argmin(mlp.val_losses)\n",
    "best_model = trained_models[best_idx]\n",
    "best_model_info = compiled_models_info[best_idx]"
   ]
  },
  {
   "cell_type": "code",
   "execution_count": 8,
   "metadata": {},
   "outputs": [
    {
     "data": {
      "text/plain": [
       "0"
      ]
     },
     "execution_count": 8,
     "metadata": {},
     "output_type": "execute_result"
    }
   ],
   "source": [
    "best_idx"
   ]
  },
  {
   "cell_type": "code",
   "execution_count": 9,
   "metadata": {},
   "outputs": [
    {
     "data": {
      "text/plain": [
       "<tensorflow.python.keras.engine.sequential.Sequential at 0x7f2ab5bbe208>"
      ]
     },
     "execution_count": 9,
     "metadata": {},
     "output_type": "execute_result"
    }
   ],
   "source": [
    "best_model"
   ]
  },
  {
   "cell_type": "code",
   "execution_count": 10,
   "metadata": {},
   "outputs": [
    {
     "data": {
      "text/plain": [
       "{'structure_info': {'hidden_layers': 1, 'units': 16},\n",
       " 'optimizer_info': {'optimizer_name': 'adam', 'lr': 0.1}}"
      ]
     },
     "execution_count": 10,
     "metadata": {},
     "output_type": "execute_result"
    }
   ],
   "source": [
    "best_model_info"
   ]
  },
  {
   "cell_type": "code",
   "execution_count": 11,
   "metadata": {},
   "outputs": [
    {
     "name": "stdout",
     "output_type": "stream",
     "text": [
      "7/7 [==============================] - 0s 2ms/step - loss: 0.4636 - accuracy: 0.8143\n"
     ]
    },
    {
     "data": {
      "text/plain": [
       "[0.4636035101754325, 0.8142857142857143]"
      ]
     },
     "execution_count": 11,
     "metadata": {},
     "output_type": "execute_result"
    }
   ],
   "source": [
    "best_model.evaluate(X_val, y_val)"
   ]
  },
  {
   "cell_type": "code",
   "execution_count": 15,
   "metadata": {},
   "outputs": [
    {
     "data": {
      "text/plain": [
       "{'name': 'Adam',\n",
       " 'learning_rate': 0.1,\n",
       " 'decay': 0.0,\n",
       " 'beta_1': 0.9,\n",
       " 'beta_2': 0.999,\n",
       " 'epsilon': 1e-07,\n",
       " 'amsgrad': False}"
      ]
     },
     "execution_count": 15,
     "metadata": {},
     "output_type": "execute_result"
    }
   ],
   "source": [
    "best_model.optimizer.get_config()"
   ]
  },
  {
   "cell_type": "code",
   "execution_count": null,
   "metadata": {},
   "outputs": [],
   "source": []
  }
 ],
 "metadata": {
  "kernelspec": {
   "display_name": "Python 3",
   "language": "python",
   "name": "python3"
  },
  "language_info": {
   "codemirror_mode": {
    "name": "ipython",
    "version": 3
   },
   "file_extension": ".py",
   "mimetype": "text/x-python",
   "name": "python",
   "nbconvert_exporter": "python",
   "pygments_lexer": "ipython3",
   "version": "3.7.1"
  }
 },
 "nbformat": 4,
 "nbformat_minor": 4
}
