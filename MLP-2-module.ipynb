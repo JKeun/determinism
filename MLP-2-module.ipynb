{
 "cells": [
  {
   "cell_type": "code",
   "execution_count": 2,
   "metadata": {},
   "outputs": [],
   "source": [
    "import itertools\n",
    "import numpy as np\n",
    "import pandas as pd\n",
    "import tensorflow as tf\n",
    "from tensorflow import keras\n",
    "\n",
    "from sklearn.model_selection import train_test_split\n",
    "from sklearn.compose import ColumnTransformer\n",
    "from sklearn.impute import SimpleImputer\n",
    "from sklearn.pipeline import Pipeline\n",
    "from sklearn.preprocessing import Normalizer, OneHotEncoder, StandardScaler"
   ]
  },
  {
   "cell_type": "markdown",
   "metadata": {},
   "source": [
    "### DataSource"
   ]
  },
  {
   "cell_type": "code",
   "execution_count": 15,
   "metadata": {},
   "outputs": [],
   "source": [
    "class DataSource:\n",
    "    \n",
    "    def __init__(self, filename):\n",
    "        self.df = pd.read_csv(filename)\n",
    "        \n",
    "    def data_load_split(self, target=None, ignore=None):\n",
    "        self.target = target\n",
    "        self.ignore = ignore\n",
    "        self.inputs = sorted(set(self.df.columns) - set(self.target) - set(self.ignore))\n",
    "        \n",
    "        self.X = self.df[self.inputs]\n",
    "        self.y = self.df[self.target]\n",
    "        \n",
    "        return self.X, self.y\n",
    "    \n",
    "    def define_problem(self):\n",
    "        if self.y.dtypes[0] in ['int64', 'float64'] and self.y.nunique()[0] == 2:\n",
    "            self.problem = \"Binary\"\n",
    "        elif self.y.dtypes[0] in ['object', 'bool']:\n",
    "            self.problem = \"Classification\"\n",
    "        else:\n",
    "            self.problem = \"Regression\"\n",
    "    \n",
    "        return self.problem\n",
    "    \n",
    "    def data_preprocess(self, X, y, problem=\"Regression\"):\n",
    "\n",
    "        # Data type detection\n",
    "        numerical_ix = self.X.select_dtypes(include=['int64', 'float64']).columns\n",
    "        categorical_ix = self.X.select_dtypes(include=['object', 'bool']).columns\n",
    "\n",
    "        # Data transform\n",
    "        num_transform = Pipeline(steps=[\n",
    "            ('imputer', SimpleImputer(strategy='mean')),\n",
    "            ('scaler', StandardScaler())\n",
    "        ])\n",
    "        cat_transform = Pipeline(steps=[\n",
    "            ('imputer', SimpleImputer(strategy='constant', fill_value=\"Missing\")),\n",
    "            ('oh_encoder', OneHotEncoder(sparse=False))\n",
    "        ])\n",
    "\n",
    "        transform_x = ColumnTransformer(transformers=[\n",
    "            ('num', num_transform, numerical_ix),\n",
    "            ('cat', cat_transform, categorical_ix)\n",
    "        ])\n",
    "        \n",
    "        if problem == \"Regression\" or \"Binary\":\n",
    "            transform_y = ColumnTransformer(transformers=[\n",
    "                ('num', Normalizer(), y.columns)\n",
    "            ])\n",
    "        else:\n",
    "            transform_y = ColumnTransformer(transformers=[\n",
    "                ('cat', cat_transform, y.columns)\n",
    "            ])\n",
    "            \n",
    "        self.trans_X = transform_x.fit_transform(self.X)\n",
    "        self.trans_y = transform_y.fit_transform(self.y)\n",
    "\n",
    "        return self.trans_X, self.trans_y"
   ]
  },
  {
   "cell_type": "code",
   "execution_count": 16,
   "metadata": {},
   "outputs": [],
   "source": [
    "filename=\"./data/titanic_train.csv\"\n",
    "ds = DataSource(filename)"
   ]
  },
  {
   "cell_type": "code",
   "execution_count": 17,
   "metadata": {},
   "outputs": [],
   "source": [
    "X, y = ds.data_load_split(target=['Survived'], \n",
    "                          ignore=[\"Name\", \"Cabin\", \"Ticket\"])"
   ]
  },
  {
   "cell_type": "code",
   "execution_count": 18,
   "metadata": {},
   "outputs": [],
   "source": [
    "problem = ds.define_problem()"
   ]
  },
  {
   "cell_type": "code",
   "execution_count": 20,
   "metadata": {},
   "outputs": [],
   "source": [
    "trans_X, trans_y = ds.data_preprocess(X, y, problem=problem)"
   ]
  },
  {
   "cell_type": "code",
   "execution_count": 22,
   "metadata": {},
   "outputs": [],
   "source": [
    "class MLP:\n",
    "    \n",
    "    def __init__(self, X, y, problem=\"Regression\"):\n",
    "        self.X = trans_X\n",
    "        self.y = trans_y\n",
    "        self.problem = problem\n",
    "        \n",
    "    def build_structure(self, hidden_layers=1, units=[16]):\n",
    "        pass"
   ]
  },
  {
   "cell_type": "code",
   "execution_count": 23,
   "metadata": {},
   "outputs": [],
   "source": [
    "mlp = MLP(trans_X, trans_y, problem=problem)"
   ]
  },
  {
   "cell_type": "code",
   "execution_count": 26,
   "metadata": {},
   "outputs": [
    {
     "data": {
      "text/plain": [
       "'Binary'"
      ]
     },
     "execution_count": 26,
     "metadata": {},
     "output_type": "execute_result"
    }
   ],
   "source": [
    "mlp.problem"
   ]
  },
  {
   "cell_type": "code",
   "execution_count": null,
   "metadata": {},
   "outputs": [],
   "source": []
  }
 ],
 "metadata": {
  "kernelspec": {
   "display_name": "Python 3",
   "language": "python",
   "name": "python3"
  },
  "language_info": {
   "codemirror_mode": {
    "name": "ipython",
    "version": 3
   },
   "file_extension": ".py",
   "mimetype": "text/x-python",
   "name": "python",
   "nbconvert_exporter": "python",
   "pygments_lexer": "ipython3",
   "version": "3.7.6"
  }
 },
 "nbformat": 4,
 "nbformat_minor": 4
}
