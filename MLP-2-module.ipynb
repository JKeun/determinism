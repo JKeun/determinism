{
 "cells": [
  {
   "cell_type": "code",
   "execution_count": 1,
   "metadata": {},
   "outputs": [],
   "source": [
    "import itertools\n",
    "import numpy as np\n",
    "import pandas as pd\n",
    "import tensorflow as tf\n",
    "from tensorflow import keras\n",
    "\n",
    "from sklearn.model_selection import train_test_split\n",
    "from sklearn.compose import ColumnTransformer\n",
    "from sklearn.impute import SimpleImputer\n",
    "from sklearn.pipeline import Pipeline\n",
    "from sklearn.preprocessing import Normalizer, OneHotEncoder, StandardScaler\n",
    "from sklearn.model_selection import train_test_split"
   ]
  },
  {
   "cell_type": "markdown",
   "metadata": {},
   "source": [
    "### DataSource"
   ]
  },
  {
   "cell_type": "code",
   "execution_count": 2,
   "metadata": {},
   "outputs": [],
   "source": [
    "class DataSource:\n",
    "    \n",
    "    def __init__(self, filename):\n",
    "        self.df = pd.read_csv(filename)\n",
    "        \n",
    "    def data_load_split(self, target=None, ignore=None):\n",
    "        self.target = target\n",
    "        self.ignore = ignore\n",
    "        self.inputs = sorted(set(self.df.columns) - set(self.target) - set(self.ignore))\n",
    "        \n",
    "        self.X = self.df[self.inputs]\n",
    "        self.y = self.df[self.target]\n",
    "        \n",
    "        return self.X, self.y\n",
    "    \n",
    "    def define_problem(self):\n",
    "        if self.y.dtypes[0] in ['int64', 'float64'] and self.y.nunique()[0] == 2:\n",
    "            self.problem = \"Binary\"\n",
    "        elif self.y.dtypes[0] in ['object', 'bool']:\n",
    "            self.problem = \"Classification\"\n",
    "        else:\n",
    "            self.problem = \"Regression\"\n",
    "    \n",
    "        return self.problem\n",
    "    \n",
    "    def data_preprocess(self, X, y, problem=\"Regression\"):\n",
    "\n",
    "        # Data type detection\n",
    "        numerical_ix = self.X.select_dtypes(include=['int64', 'float64']).columns\n",
    "        categorical_ix = self.X.select_dtypes(include=['object', 'bool']).columns\n",
    "\n",
    "        # Data transform\n",
    "        num_transform = Pipeline(steps=[\n",
    "            ('imputer', SimpleImputer(strategy='mean')),\n",
    "            ('scaler', StandardScaler())\n",
    "        ])\n",
    "        cat_transform = Pipeline(steps=[\n",
    "            ('imputer', SimpleImputer(strategy='constant', fill_value=\"Missing\")),\n",
    "            ('oh_encoder', OneHotEncoder(sparse=False))\n",
    "        ])\n",
    "\n",
    "        transform_x = ColumnTransformer(transformers=[\n",
    "            ('num', num_transform, numerical_ix),\n",
    "            ('cat', cat_transform, categorical_ix)\n",
    "        ])\n",
    "        \n",
    "        if problem == \"Regression\" or \"Binary\":\n",
    "            transform_y = ColumnTransformer(transformers=[\n",
    "                ('num', Normalizer(), y.columns)\n",
    "            ])\n",
    "        else:\n",
    "            transform_y = ColumnTransformer(transformers=[\n",
    "                ('cat', cat_transform, y.columns)\n",
    "            ])\n",
    "            \n",
    "        self.trans_X = transform_x.fit_transform(self.X)\n",
    "        self.trans_y = transform_y.fit_transform(self.y)\n",
    "\n",
    "        return self.trans_X, self.trans_y\n",
    "    \n",
    "    def train_val_split(self, X, y, ratio=0.2, random_state=42):\n",
    "        return train_test_split(X, y, test_size=ratio, random_state=random_state)"
   ]
  },
  {
   "cell_type": "code",
   "execution_count": 3,
   "metadata": {},
   "outputs": [],
   "source": [
    "filename=\"./data/titanic_train.csv\"\n",
    "ds = DataSource(filename)\n",
    "\n",
    "X, y = ds.data_load_split(target=['Survived'], \n",
    "                          ignore=[\"Name\", \"Cabin\", \"Ticket\"])\n",
    "\n",
    "problem = ds.define_problem()\n",
    "\n",
    "trans_X, trans_y = ds.data_preprocess(X, y, problem=problem)\n",
    "\n",
    "X_train, X_val, y_train, y_val = ds.train_val_split(trans_X, trans_y, ratio=0.2, random_state=42)"
   ]
  },
  {
   "cell_type": "markdown",
   "metadata": {},
   "source": [
    "### MLP"
   ]
  },
  {
   "cell_type": "code",
   "execution_count": 4,
   "metadata": {},
   "outputs": [],
   "source": [
    "class MLP:\n",
    "    \n",
    "    def __init__(self, problem=\"Regression\"):\n",
    "        self.problem = problem\n",
    "        \n",
    "        \n",
    "    def build_structure(self, max_hidden_layers=1, units=[16]):\n",
    "        self.structures = []\n",
    "        self.structures_info = []\n",
    "        self.max_hidden_layers = max_hidden_layers\n",
    "        self.units = units\n",
    "    \n",
    "        grid = [np.arange(self.max_hidden_layers)+1, self.units]\n",
    "        for param_tuple in itertools.product(*grid):\n",
    "            structure_param = {'hidden_layers': param_tuple[0],\n",
    "                                'units': param_tuple[1]}\n",
    "\n",
    "            # input layer\n",
    "            model = keras.Sequential()\n",
    "            model.add(keras.layers.Dense(16, input_shape=(trans_X.shape[1],)))\n",
    "\n",
    "            # hidden layer block\n",
    "            for _ in range(structure_param['hidden_layers']):\n",
    "                model.add(keras.layers.Dense(structure_param['units'], activation='relu'))\n",
    "\n",
    "            # output layer\n",
    "            if problem == 'Regression':\n",
    "                model.add(keras.layers.Dense(1))\n",
    "            elif problem == 'Binary':\n",
    "                model.add(keras.layers.Dense(1, activation='sigmoid'))\n",
    "            else:\n",
    "                model.add(keras.layers.Dense(trans_y.shape[1], activation='softmax'))\n",
    "            self.structures.append(model)\n",
    "            self.structures_info.append(structure_param)\n",
    "\n",
    "        return self.structures, self.structures_info\n",
    "    \n",
    "    \n",
    "    def create_optimizer(self, optimizers=['adam'], lrs=[0.01], use_all=False):\n",
    "        self.created_optimizers = []\n",
    "        self.optimizers_info = []\n",
    "        self.optimizers = optimizers\n",
    "        self.lrs = lrs\n",
    "\n",
    "        self.optimizer_classes = {'adadelta': keras.optimizers.Adadelta, 'sgd': keras.optimizers.SGD,\n",
    "                                  'adam': keras.optimizers.Adam, 'adagrad': keras.optimizers.Adagrad,\n",
    "                                  'adamax': keras.optimizers.Adamax, 'rmsprop': keras.optimizers.RMSprop}\n",
    "\n",
    "        if use_all:\n",
    "            self.lrs = [0.001, 0.01, 0.02, 0.1]\n",
    "            opt_grid = [self.optimizer_classes.keys(), self.lrs]    \n",
    "        else:\n",
    "            opt_grid = [self.optimizers, self.lrs]\n",
    "\n",
    "        for opt_tuple in itertools.product(*opt_grid):\n",
    "            opt_param = {\n",
    "                'optimizer_name': opt_tuple[0],\n",
    "                'lr': opt_tuple[1]\n",
    "            }\n",
    "\n",
    "            opt_class = self.optimizer_classes.get(opt_param['optimizer_name'])\n",
    "            self.created_optimizers.append(opt_class(opt_param['lr']))\n",
    "            self.optimizers_info.append(opt_param)\n",
    "\n",
    "        return self.created_optimizers, self.optimizers_info\n",
    "    \n",
    "    \n",
    "    def _compile_model(self):\n",
    "\n",
    "        # compile network\n",
    "        if self.problem == \"Regression\":\n",
    "            self.loss = keras.losses.MSE\n",
    "            self.metrics = ['MSE', 'MAE']\n",
    "        elif self.problem == \"Binary\":\n",
    "            self.loss = keras.losses.binary_crossentropy\n",
    "            self.metrics = ['accuracy']\n",
    "        else:\n",
    "            self.loss = keras.losses.categorical_crossentropy\n",
    "            self.metrics = ['accuracy']\n",
    "\n",
    "        self.compiled_models = []\n",
    "        self.compiled_models_info = []\n",
    "\n",
    "        compile_grid = [zip(self.structures, self.structures_info), zip(self.created_optimizers ,self.optimizers_info)]\n",
    "        for compile_tuple in itertools.product(*compile_grid):\n",
    "            compile_param = {'model': compile_tuple[0][0],\n",
    "                             'optimizer': compile_tuple[1][0]}\n",
    "            model_info = {'structure_info': compile_tuple[0][1],\n",
    "                           'optimizer_info': compile_tuple[1][1]}\n",
    "\n",
    "            model = compile_param['model']\n",
    "            model.compile(optimizer=compile_param['optimizer'],\n",
    "                          loss=self.loss,\n",
    "                          metrics=self.metrics)\n",
    "\n",
    "            self.compiled_models.append(model)\n",
    "            self.compiled_models_info.append(model_info)\n",
    "\n",
    "        return self.compiled_models, self.compiled_models_info\n",
    "    \n",
    "    \n",
    "    def train_models(self, models, X_train, y_train, X_val=None, y_val=None,\n",
    "                     batch_size=None, epochs=1, verbose=1, callbacks=None,\n",
    "                     validation_data=None, shuffle=True, steps_per_epoch=None):\n",
    "\n",
    "        self.models = models\n",
    "        self.X_train = X_train\n",
    "        self.y_train = y_train\n",
    "        self.X_val = X_val\n",
    "        self.y_val = y_val\n",
    "\n",
    "        self.trained_models = []\n",
    "        for model in models:\n",
    "            model.fit(x=self.X_train, y=self.y_train,\n",
    "                      batch_size=batch_size, epochs=epochs, verbose=verbose, callbacks=callbacks,\n",
    "                      validation_data=validation_data, shuffle=shuffle, steps_per_epoch=steps_per_epoch)\n",
    "            self.trained_models.append(model)\n",
    "            \n",
    "        return self.trained_models"
   ]
  },
  {
   "cell_type": "code",
   "execution_count": 5,
   "metadata": {},
   "outputs": [
    {
     "name": "stdout",
     "output_type": "stream",
     "text": [
      "Binary\n",
      "[{'hidden_layers': 1, 'units': 16}, {'hidden_layers': 1, 'units': 32}, {'hidden_layers': 2, 'units': 16}, {'hidden_layers': 2, 'units': 32}]\n",
      "[{'optimizer_name': 'adam', 'lr': 0.1}]\n",
      "[{'structure_info': {'hidden_layers': 1, 'units': 16}, 'optimizer_info': {'optimizer_name': 'adam', 'lr': 0.1}}, {'structure_info': {'hidden_layers': 1, 'units': 32}, 'optimizer_info': {'optimizer_name': 'adam', 'lr': 0.1}}, {'structure_info': {'hidden_layers': 2, 'units': 16}, 'optimizer_info': {'optimizer_name': 'adam', 'lr': 0.1}}, {'structure_info': {'hidden_layers': 2, 'units': 32}, 'optimizer_info': {'optimizer_name': 'adam', 'lr': 0.1}}]\n"
     ]
    }
   ],
   "source": [
    "mlp = MLP(problem=problem)\n",
    "print(mlp.problem)\n",
    "\n",
    "structures, structures_info = mlp.build_structure(max_hidden_layers=2, units=[16, 32])\n",
    "print(structures_info)\n",
    "\n",
    "created_optimizers, optimizers_info = mlp.create_optimizer(optimizers=['adam'], lrs=[0.1])\n",
    "print(optimizers_info)\n",
    "\n",
    "compiled_models, compiled_models_info = mlp._compile_model()\n",
    "print(compiled_models_info)"
   ]
  },
  {
   "cell_type": "code",
   "execution_count": 11,
   "metadata": {
    "scrolled": false
   },
   "outputs": [
    {
     "name": "stdout",
     "output_type": "stream",
     "text": [
      "Train on 837 samples\n",
      "Epoch 1/20\n",
      "837/837 [==============================] - 0s 73us/sample - loss: 0.2927 - accuracy: 0.9319\n",
      "Epoch 2/20\n",
      "837/837 [==============================] - 0s 38us/sample - loss: 0.2774 - accuracy: 0.9498\n",
      "Epoch 3/20\n",
      "837/837 [==============================] - 0s 80us/sample - loss: 0.2300 - accuracy: 0.9462\n",
      "Epoch 4/20\n",
      "837/837 [==============================] - 0s 88us/sample - loss: 0.2620 - accuracy: 0.9128\n",
      "Epoch 5/20\n",
      "837/837 [==============================] - 0s 69us/sample - loss: 0.2667 - accuracy: 0.9295\n",
      "Epoch 6/20\n",
      "837/837 [==============================] - 0s 65us/sample - loss: 0.4021 - accuracy: 0.8961\n",
      "Epoch 7/20\n",
      "837/837 [==============================] - 0s 120us/sample - loss: 0.4917 - accuracy: 0.7802\n",
      "Epoch 8/20\n",
      "837/837 [==============================] - 0s 112us/sample - loss: 0.4060 - accuracy: 0.8435\n"
     ]
    }
   ],
   "source": [
    "callback = tf.keras.callbacks.EarlyStopping(monitor='loss', patience=5)\n",
    "trained_models = mlp.train_models([compiled_models[0]],\n",
    "                                  X_train, y_train, X_val, y_val,\n",
    "                                  batch_size=64, epochs=20,\n",
    "                                  callbacks=[callback])"
   ]
  },
  {
   "cell_type": "code",
   "execution_count": 240,
   "metadata": {},
   "outputs": [
    {
     "data": {
      "text/plain": [
       "[<tensorflow.python.keras.engine.sequential.Sequential at 0x7f95d10ee278>,\n",
       " <tensorflow.python.keras.engine.sequential.Sequential at 0x7f964c5ed2e8>,\n",
       " <tensorflow.python.keras.engine.sequential.Sequential at 0x7f96a00e17f0>,\n",
       " <tensorflow.python.keras.engine.sequential.Sequential at 0x7f95d06bf2b0>]"
      ]
     },
     "execution_count": 240,
     "metadata": {},
     "output_type": "execute_result"
    }
   ],
   "source": [
    "trained_models"
   ]
  },
  {
   "cell_type": "code",
   "execution_count": 245,
   "metadata": {},
   "outputs": [
    {
     "data": {
      "text/plain": [
       "<tf.Variable 'dense_182/kernel:0' shape=(780, 16) dtype=float64, numpy=\n",
       "array([[ 0.50513491,  0.31678673,  0.44185563, ...,  0.15268297,\n",
       "         0.32069284, -0.49380096],\n",
       "       [-0.35772899, -0.10142673, -0.44176228, ...,  0.11582109,\n",
       "         0.0400986 , -0.1295844 ],\n",
       "       [-0.12226534,  0.34473027,  0.4856819 , ..., -1.14256206,\n",
       "         0.50789395, -0.8634656 ],\n",
       "       ...,\n",
       "       [-0.02861953,  0.0062662 ,  0.06411489, ...,  0.07672749,\n",
       "         0.05053699,  0.04427339],\n",
       "       [-0.494762  , -0.45752164, -0.34920057, ..., -0.50000736,\n",
       "         0.420618  ,  0.3527054 ],\n",
       "       [ 0.07344273,  0.15911021,  0.04997644, ...,  0.11275034,\n",
       "        -0.10215235,  0.02165389]])>"
      ]
     },
     "execution_count": 245,
     "metadata": {},
     "output_type": "execute_result"
    }
   ],
   "source": [
    "trained_models[0].weights[0]"
   ]
  }
 ],
 "metadata": {
  "kernelspec": {
   "display_name": "Python 3",
   "language": "python",
   "name": "python3"
  },
  "language_info": {
   "codemirror_mode": {
    "name": "ipython",
    "version": 3
   },
   "file_extension": ".py",
   "mimetype": "text/x-python",
   "name": "python",
   "nbconvert_exporter": "python",
   "pygments_lexer": "ipython3",
   "version": "3.7.6"
  }
 },
 "nbformat": 4,
 "nbformat_minor": 4
}
