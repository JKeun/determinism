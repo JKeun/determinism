{
 "cells": [
  {
   "cell_type": "markdown",
   "metadata": {},
   "source": [
    "### `tf.radnom.set_seed`\n",
    "- Sets the `global` random seed."
   ]
  },
  {
   "cell_type": "code",
   "execution_count": 1,
   "metadata": {},
   "outputs": [],
   "source": [
    "import tensorflow as tf"
   ]
  },
  {
   "cell_type": "markdown",
   "metadata": {},
   "source": [
    "Operations that rely on a random seed actually derive it from two seeds: the `global` and `operation-level` seeds. This sets the global seed.\n",
    "\n",
    "Its interactions with operation-level seeds is as follows:\n",
    "\n",
    "1. If neither the `global seed` `nor` `the operation seed` is set: A randomly picked seed is used for this op.\n",
    "1. If the `graph-level seed is set`, but `the operation seed is not`: The system deterministically picks an operation seed in conjunction with the graph-level seed so that it gets a unique random sequence. Within the same version of tensorflow and user code, this sequence is deterministic. However across different versions, this sequence might change. **If the code depends on particular seeds to work, specify both graph-level and operation-level seeds explicitly.**\n",
    "1. If `the operation seed is set`, but `the global seed is not` set: A default global seed and the specified operation seed are used to determine the random sequence.\n",
    "1. If `both the global and the operation seed are set`: Both seeds are used in conjunction to determine the random sequence."
   ]
  },
  {
   "cell_type": "markdown",
   "metadata": {},
   "source": [
    "#### 1st case\n",
    "\n",
    "If neither `the global seed nor the operation seed is set`, we get different results for `every call` to the random op and `every re-run` of the program:"
   ]
  },
  {
   "cell_type": "code",
   "execution_count": 2,
   "metadata": {},
   "outputs": [
    {
     "name": "stdout",
     "output_type": "stream",
     "text": [
      "tf.Tensor([0.5460048], shape=(1,), dtype=float32)\n",
      "tf.Tensor([0.8689755], shape=(1,), dtype=float32)\n"
     ]
    }
   ],
   "source": [
    "print(tf.random.uniform([1]))\n",
    "print(tf.random.uniform([1]))"
   ]
  },
  {
   "cell_type": "code",
   "execution_count": null,
   "metadata": {},
   "outputs": [],
   "source": [
    "# 1st\n",
    "# tf.Tensor([0.5457765], shape=(1,), dtype=float32)   # generate 'A1'\n",
    "# tf.Tensor([0.15078557], shape=(1,), dtype=float32)  # generate 'A2'  \n",
    "\n",
    "# 2nd - now close the program and run it again\n",
    "# tf.Tensor([0.5460048], shape=(1,), dtype=float32)   # generate 'A3'\n",
    "# tf.Tensor([0.8689755], shape=(1,), dtype=float32)   # generate 'A4'"
   ]
  },
  {
   "cell_type": "markdown",
   "metadata": {},
   "source": [
    "#### 2nd case\n",
    "\n",
    "If `the global seed is set` but `the operation seed is not` set, we get different results for `every call` to the random op, but the `same sequence for every re-run` of the program."
   ]
  },
  {
   "cell_type": "code",
   "execution_count": 2,
   "metadata": {},
   "outputs": [
    {
     "name": "stdout",
     "output_type": "stream",
     "text": [
      "tf.Tensor([0.5380393], shape=(1,), dtype=float32)\n",
      "tf.Tensor([0.3253647], shape=(1,), dtype=float32)\n"
     ]
    }
   ],
   "source": [
    "tf.random.set_seed(1234)\n",
    "print(tf.random.uniform([1]))\n",
    "print(tf.random.uniform([1]))"
   ]
  },
  {
   "cell_type": "code",
   "execution_count": null,
   "metadata": {},
   "outputs": [],
   "source": [
    "# 1st\n",
    "# tf.Tensor([0.5380393], shape=(1,), dtype=float32)   # generates 'A1'\n",
    "# tf.Tensor([0.3253647], shape=(1,), dtype=float32)   # generates 'A2'\n",
    "\n",
    "# 2nd - now close the program and run it again\n",
    "# tf.Tensor([0.5380393], shape=(1,), dtype=float32)   # generates 'A1'\n",
    "# tf.Tensor([0.3253647], shape=(1,), dtype=float32)   # generates 'A2'"
   ]
  },
  {
   "cell_type": "markdown",
   "metadata": {},
   "source": [
    "The reason we get 'A2' instead 'A1' on the second call of `tf.random.uniform` is because the second call uses a `different operation seed`.  \n",
    "Note that `tf.function` acts like a re-run of a program in this case. When the global seed is set but operation seeds are not set, the sequence of random numbers are the same for each `tf.function`. For example:"
   ]
  },
  {
   "cell_type": "code",
   "execution_count": 3,
   "metadata": {},
   "outputs": [
    {
     "name": "stdout",
     "output_type": "stream",
     "text": [
      "(<tf.Tensor: shape=(1,), dtype=float32, numpy=array([0.13047123], dtype=float32)>, <tf.Tensor: shape=(1,), dtype=float32, numpy=array([0.1689806], dtype=float32)>)\n",
      "(<tf.Tensor: shape=(1,), dtype=float32, numpy=array([0.13047123], dtype=float32)>, <tf.Tensor: shape=(1,), dtype=float32, numpy=array([0.1689806], dtype=float32)>)\n"
     ]
    }
   ],
   "source": [
    "tf.random.set_seed(1234)\n",
    "\n",
    "@tf.function\n",
    "def f():\n",
    "    a = tf.random.uniform([1])\n",
    "    b = tf.random.uniform([1])\n",
    "    return a, b\n",
    "\n",
    "@tf.function\n",
    "def g():\n",
    "    a = tf.random.uniform([1])\n",
    "    b = tf.random.uniform([1])\n",
    "    return a, b\n",
    "\n",
    "print(f())\n",
    "print(g())"
   ]
  },
  {
   "cell_type": "code",
   "execution_count": null,
   "metadata": {},
   "outputs": [],
   "source": [
    "# (numpy=array([0.13047123], numpy=array([0.1689806])   # prints '(A1, A2)'\n",
    "# (numpy=array([0.13047123], numpy=array([0.1689806])   # prints '(A1, A2)'"
   ]
  },
  {
   "cell_type": "markdown",
   "metadata": {},
   "source": [
    "#### 3rd case\n",
    "\n",
    "If `the operation is set`, we get different results for `every call` to the random op, but the `same sequence for every re-run` of the program:"
   ]
  },
  {
   "cell_type": "code",
   "execution_count": 2,
   "metadata": {},
   "outputs": [
    {
     "name": "stdout",
     "output_type": "stream",
     "text": [
      "tf.Tensor([0.2390374], shape=(1,), dtype=float32)\n",
      "tf.Tensor([0.22267115], shape=(1,), dtype=float32)\n"
     ]
    }
   ],
   "source": [
    "print(tf.random.uniform([1], seed=1))\n",
    "print(tf.random.uniform([1], seed=1))"
   ]
  },
  {
   "cell_type": "code",
   "execution_count": null,
   "metadata": {},
   "outputs": [],
   "source": [
    "# 1st\n",
    "# tf.Tensor([0.2390374], shape=(1,), dtype=float32)    # generates 'A1'\n",
    "# tf.Tensor([0.22267115], shape=(1,), dtype=float32)   # generates 'A2'\n",
    "\n",
    "# 2nd - now close the program and run it again\n",
    "# tf.Tensor([0.2390374], shape=(1,), dtype=float32)    # generates 'A1'\n",
    "# tf.Tensor([0.22267115], shape=(1,), dtype=float32)   # generates 'A2'"
   ]
  },
  {
   "cell_type": "markdown",
   "metadata": {},
   "source": [
    "The reason we get 'A2' instead 'A1' on the second call of `tf.random.uniform` is because the same `tf.random.uniform` kernel (i.e. internal representation) is used by TensorFlow for all calls of it with the same arguments, and the kernel maintains an internal counter which is incremented every time it is executed, generating different results."
   ]
  },
  {
   "cell_type": "markdown",
   "metadata": {},
   "source": [
    "Calling `tf.random.set_seed` will reset any such counters:"
   ]
  },
  {
   "cell_type": "code",
   "execution_count": 45,
   "metadata": {},
   "outputs": [
    {
     "name": "stdout",
     "output_type": "stream",
     "text": [
      "tf.Tensor([0.1689806], shape=(1,), dtype=float32)\n",
      "tf.Tensor([0.7539084], shape=(1,), dtype=float32)\n",
      "tf.Tensor([0.1689806], shape=(1,), dtype=float32)\n",
      "tf.Tensor([0.7539084], shape=(1,), dtype=float32)\n"
     ]
    }
   ],
   "source": [
    "tf.random.set_seed(1234)\n",
    "print(tf.random.uniform([1], seed=1))  # generates 'A1'\n",
    "print(tf.random.uniform([1], seed=1))  # generates 'A2'\n",
    "tf.random.set_seed(1234)\n",
    "print(tf.random.uniform([1], seed=1))  # generates 'A1'\n",
    "print(tf.random.uniform([1], seed=1))  # generates 'A2'"
   ]
  },
  {
   "cell_type": "markdown",
   "metadata": {},
   "source": [
    "When multiple identical random ops are wrapped in a `tf.function`, their behaviors change because the ops no long share the same counter. For example:"
   ]
  },
  {
   "cell_type": "code",
   "execution_count": 71,
   "metadata": {},
   "outputs": [
    {
     "name": "stdout",
     "output_type": "stream",
     "text": [
      "(<tf.Tensor: shape=(1,), dtype=float32, numpy=array([0.1689806], dtype=float32)>, <tf.Tensor: shape=(1,), dtype=float32, numpy=array([0.1689806], dtype=float32)>)\n",
      "(<tf.Tensor: shape=(1,), dtype=float32, numpy=array([0.7539084], dtype=float32)>, <tf.Tensor: shape=(1,), dtype=float32, numpy=array([0.7539084], dtype=float32)>)\n",
      "(<tf.Tensor: shape=(1,), dtype=float32, numpy=array([0.13047123], dtype=float32)>, <tf.Tensor: shape=(1,), dtype=float32, numpy=array([0.1689806], dtype=float32)>)\n",
      "(<tf.Tensor: shape=(1,), dtype=float32, numpy=array([0.6087816], dtype=float32)>, <tf.Tensor: shape=(1,), dtype=float32, numpy=array([0.7539084], dtype=float32)>)\n"
     ]
    }
   ],
   "source": [
    "@tf.function\n",
    "def foo():\n",
    "    a = tf.random.uniform([1], seed=1)\n",
    "    b = tf.random.uniform([1], seed=1)\n",
    "    return a, b\n",
    "print(foo())\n",
    "print(foo())\n",
    "\n",
    "@tf.function\n",
    "def bar():\n",
    "    a = tf.random.uniform([1])\n",
    "    b = tf.random.uniform([1])\n",
    "    return a, b\n",
    "print(bar())\n",
    "print(bar())"
   ]
  },
  {
   "cell_type": "code",
   "execution_count": null,
   "metadata": {},
   "outputs": [],
   "source": [
    "# (numpy=array([0.1689806], numpy=array([0.1689806])   # prints '(A1, A1)'\n",
    "# (numpy=array([0.7539084],  numpy=array([0.7539084])  # prints '(A2, A2)'\n",
    "# (numpy=array([0.13047123], numpy=array([0.1689806])  # prints '(A1, A2)'\n",
    "# (<numpy=array([0.6087816], numpy=array([0.7539084])  # prints '(A3, A4)'"
   ]
  },
  {
   "cell_type": "code",
   "execution_count": 77,
   "metadata": {},
   "outputs": [
    {
     "name": "stdout",
     "output_type": "stream",
     "text": [
      "(<tf.Tensor: shape=(1,), dtype=float32, numpy=array([0.1689806], dtype=float32)>, <tf.Tensor: shape=(1,), dtype=float32, numpy=array([0.1689806], dtype=float32)>)\n",
      "(<tf.Tensor: shape=(1,), dtype=float32, numpy=array([0.1689806], dtype=float32)>, <tf.Tensor: shape=(1,), dtype=float32, numpy=array([0.1689806], dtype=float32)>)\n",
      "(<tf.Tensor: shape=(1,), dtype=float32, numpy=array([0.5380393], dtype=float32)>, <tf.Tensor: shape=(1,), dtype=float32, numpy=array([0.5380393], dtype=float32)>)\n",
      "(<tf.Tensor: shape=(1,), dtype=float32, numpy=array([0.5380393], dtype=float32)>, <tf.Tensor: shape=(1,), dtype=float32, numpy=array([0.5380393], dtype=float32)>)\n"
     ]
    }
   ],
   "source": [
    "def foo():\n",
    "    tf.random.set_seed(1234)\n",
    "    a = tf.random.uniform([1], seed=1)\n",
    "    tf.random.set_seed(1234)\n",
    "    b = tf.random.uniform([1], seed=1)\n",
    "    return a, b\n",
    "print(foo())\n",
    "print(foo())\n",
    "\n",
    "def bar():\n",
    "    tf.random.set_seed(1234)\n",
    "    a = tf.random.uniform([1])\n",
    "    tf.random.set_seed(1234)\n",
    "    b = tf.random.uniform([1])\n",
    "    return a, b\n",
    "print(bar())\n",
    "print(bar())"
   ]
  },
  {
   "cell_type": "code",
   "execution_count": 80,
   "metadata": {},
   "outputs": [
    {
     "name": "stdout",
     "output_type": "stream",
     "text": [
      "tf.Tensor([0.5380393], shape=(1,), dtype=float32)\n",
      "tf.Tensor([0.5380393], shape=(1,), dtype=float32)\n"
     ]
    }
   ],
   "source": [
    "tf.random.set_seed(1234)\n",
    "print(tf.random.uniform([1]))\n",
    "tf.random.set_seed(1234)\n",
    "print(tf.random.uniform([1]))"
   ]
  },
  {
   "cell_type": "code",
   "execution_count": null,
   "metadata": {},
   "outputs": [],
   "source": []
  }
 ],
 "metadata": {
  "kernelspec": {
   "display_name": "Python 3",
   "language": "python",
   "name": "python3"
  },
  "language_info": {
   "codemirror_mode": {
    "name": "ipython",
    "version": 3
   },
   "file_extension": ".py",
   "mimetype": "text/x-python",
   "name": "python",
   "nbconvert_exporter": "python",
   "pygments_lexer": "ipython3",
   "version": "3.7.6"
  }
 },
 "nbformat": 4,
 "nbformat_minor": 4
}
