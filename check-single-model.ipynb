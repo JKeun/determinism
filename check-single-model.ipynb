{
 "cells": [
  {
   "cell_type": "code",
   "execution_count": 1,
   "metadata": {},
   "outputs": [],
   "source": [
    "from src.DataSource import DataSource\n",
    "from src.MLP import MLP, select_best_model"
   ]
  },
  {
   "cell_type": "code",
   "execution_count": 2,
   "metadata": {},
   "outputs": [],
   "source": [
    "filename=\"./data/titanic_train.csv\"\n",
    "ds_titanic = DataSource(filename)\n",
    "\n",
    "ds_titanic.data_load_split(target=['Survived'], \n",
    "                   ignore=[\"Name\", \"Cabin\", \"Ticket\"])\n",
    "ds_titanic.define_problem()\n",
    "ds_titanic.train_val_split(ratio=0.2, random_state=42)\n",
    "ds_titanic.data_preprocess(ds_titanic.X_train, ds_titanic.y_train, train_set=True)\n",
    "ds_titanic.data_preprocess(ds_titanic.X_val, ds_titanic.y_val, train_set=False)"
   ]
  },
  {
   "cell_type": "markdown",
   "metadata": {},
   "source": [
    "## CPU"
   ]
  },
  {
   "cell_type": "markdown",
   "metadata": {},
   "source": [
    "### Titanic\n",
    "- {'structure_info': {'hidden_layers': 1, 'units': 32}, 'optimizer_info': {'optimizer_name': 'adamax', 'lr': 0.01}}\n",
    "- loss: 0.4106 - accuracy: 0.8333"
   ]
  },
  {
   "cell_type": "code",
   "execution_count": 3,
   "metadata": {},
   "outputs": [
    {
     "name": "stdout",
     "output_type": "stream",
     "text": [
      "sequential model is trained. best val loss is : [0.6686330165181841, 0.6428571428571429]\n"
     ]
    }
   ],
   "source": [
    "mlp_titanic = MLP(ds_titanic.trans_X_train, ds_titanic.trans_y_train, problem=ds_titanic.problem)\n",
    "mlp_titanic.build_structure(max_hidden_layers=1, units=[16], use_all=False)\n",
    "mlp_titanic.create_optimizer(optimizers=['adadelta'], lrs=[0.001], use_all=False)\n",
    "mlp_titanic.compile_model()\n",
    "\n",
    "mlp_titanic.train_models(mlp_titanic.compiled_models,\n",
    "                         ds_titanic.trans_X_train, ds_titanic.trans_y_train,\n",
    "                         ds_titanic.trans_X_val, ds_titanic.trans_y_val,\n",
    "                         batch_size=64, epochs=10)"
   ]
  },
  {
   "cell_type": "code",
   "execution_count": 4,
   "metadata": {},
   "outputs": [
    {
     "data": {
      "text/plain": [
       "[<tensorflow.python.keras.engine.sequential.Sequential at 0x13decc890>]"
      ]
     },
     "execution_count": 4,
     "metadata": {},
     "output_type": "execute_result"
    }
   ],
   "source": [
    "mlp_titanic.structures"
   ]
  },
  {
   "cell_type": "code",
   "execution_count": 4,
   "metadata": {},
   "outputs": [
    {
     "name": "stdout",
     "output_type": "stream",
     "text": [
      "sequential_1 model is trained. best val loss is : [0.6686330165181841, 0.6428571428571429]\n",
      "sequential_2 model is trained. best val loss is : [0.6978965614523206, 0.41904761904761906]\n",
      "sequential_3 model is trained. best val loss is : [0.6944917355264936, 0.5238095238095238]\n"
     ]
    }
   ],
   "source": [
    "mlp_titanic = MLP(ds_titanic.trans_X_train, ds_titanic.trans_y_train, problem=ds_titanic.problem)\n",
    "mlp_titanic.build_structure(max_hidden_layers=3, units=[16], use_all=False)\n",
    "mlp_titanic.create_optimizer(optimizers=['adadelta'], lrs=[0.001], use_all=False)\n",
    "mlp_titanic.compile_model()\n",
    "\n",
    "mlp_titanic.train_models(mlp_titanic.compiled_models,\n",
    "                         ds_titanic.trans_X_train, ds_titanic.trans_y_train,\n",
    "                         ds_titanic.trans_X_val, ds_titanic.trans_y_val,\n",
    "                         batch_size=64, epochs=10)"
   ]
  },
  {
   "cell_type": "code",
   "execution_count": 7,
   "metadata": {},
   "outputs": [],
   "source": [
    "# additional hidden layers need to be set random seed"
   ]
  },
  {
   "cell_type": "code",
   "execution_count": 10,
   "metadata": {},
   "outputs": [
    {
     "name": "stdout",
     "output_type": "stream",
     "text": [
      "sequential_23 model is trained. best val loss is : [0.6686330165181841, 0.6428571428571429]\n",
      "sequential_24 model is trained. best val loss is : [0.6930708255086626, 0.4857142857142857]\n"
     ]
    }
   ],
   "source": [
    "mlp_titanic = MLP(ds_titanic.trans_X_train, ds_titanic.trans_y_train, problem=ds_titanic.problem)\n",
    "mlp_titanic.build_structure(max_hidden_layers=1, units=[16, 32], use_all=False)\n",
    "mlp_titanic.create_optimizer(optimizers=['adadelta'], lrs=[0.001], use_all=False)\n",
    "mlp_titanic.compile_model()\n",
    "\n",
    "mlp_titanic.train_models(mlp_titanic.compiled_models,\n",
    "                         ds_titanic.trans_X_train, ds_titanic.trans_y_train,\n",
    "                         ds_titanic.trans_X_val, ds_titanic.trans_y_val,\n",
    "                         batch_size=64, epochs=10)"
   ]
  },
  {
   "cell_type": "code",
   "execution_count": 11,
   "metadata": {},
   "outputs": [
    {
     "name": "stdout",
     "output_type": "stream",
     "text": [
      "sequential_25 model is trained. best val loss is : [0.6686330165181841, 0.6428571428571429]\n",
      "sequential_26 model is trained. best val loss is : [0.6930708255086626, 0.4857142857142857]\n",
      "sequential_27 model is trained. best val loss is : [0.7082248446487245, 0.5666666666666667]\n",
      "sequential_28 model is trained. best val loss is : [0.6912883063157399, 0.49047619047619045]\n"
     ]
    }
   ],
   "source": [
    "mlp_titanic = MLP(ds_titanic.trans_X_train, ds_titanic.trans_y_train, problem=ds_titanic.problem)\n",
    "mlp_titanic.build_structure(max_hidden_layers=2, units=[16, 32], use_all=False)\n",
    "mlp_titanic.create_optimizer(optimizers=['adadelta'], lrs=[0.001], use_all=False)\n",
    "mlp_titanic.compile_model()\n",
    "\n",
    "mlp_titanic.train_models(mlp_titanic.compiled_models,\n",
    "                         ds_titanic.trans_X_train, ds_titanic.trans_y_train,\n",
    "                         ds_titanic.trans_X_val, ds_titanic.trans_y_val,\n",
    "                         batch_size=64, epochs=10)"
   ]
  },
  {
   "cell_type": "code",
   "execution_count": 6,
   "metadata": {},
   "outputs": [
    {
     "name": "stdout",
     "output_type": "stream",
     "text": [
      "sequential_4 model is trained. best val loss is : [0.6686330165181841, 0.6428571428571429]\n",
      "sequential_4 model is trained. best val loss is : [0.7004640800612313, 0.45714285714285713]\n",
      "sequential_4 model is trained. best val loss is : [0.6871521353721619, 0.5619047619047619]\n",
      "sequential_4 model is trained. best val loss is : [0.6332905596210843, 0.6761904761904762]\n",
      "sequential_4 model is trained. best val loss is : [0.6717096575668879, 0.6190476190476191]\n",
      "sequential_4 model is trained. best val loss is : [0.6184211831717265, 0.7428571428571429]\n",
      "sequential_4 model is trained. best val loss is : [0.5738518223166466, 0.7428571428571429]\n",
      "sequential_4 model is trained. best val loss is : [0.4814559405935662, 0.7904761904761904]\n",
      "sequential_4 model is trained. best val loss is : [0.47475899018435963, 0.8142857142857143]\n",
      "sequential_4 model is trained. best val loss is : [0.7546428109183705, 0.7904761904761904]\n",
      "sequential_4 model is trained. best val loss is : [0.7216303513013455, 0.8142857142857143]\n",
      "sequential_4 model is trained. best val loss is : [1.0326807431920622, 0.8047619047619048]\n",
      "sequential_4 model is trained. best val loss is : [0.6612723753565833, 0.6619047619047619]\n",
      "sequential_4 model is trained. best val loss is : [0.5682038011295455, 0.7476190476190476]\n",
      "sequential_4 model is trained. best val loss is : [0.48303821870968455, 0.7904761904761904]\n",
      "sequential_4 model is trained. best val loss is : [0.46260865762985, 0.8]\n",
      "sequential_4 model is trained. best val loss is : [0.5341927730611392, 0.7714285714285715]\n",
      "sequential_4 model is trained. best val loss is : [0.42592398257693276, 0.8285714285714286]\n",
      "sequential_4 model is trained. best val loss is : [0.5542846520300437, 0.7714285714285715]\n",
      "sequential_4 model is trained. best val loss is : [0.7378341409043353, 0.8047619047619048]\n",
      "sequential_4 model is trained. best val loss is : [0.47607658858011875, 0.8095238095238095]\n",
      "sequential_4 model is trained. best val loss is : [1.1538620318884256, 0.7761904761904762]\n",
      "sequential_4 model is trained. best val loss is : [1.7542338030041187, 0.7857142857142857]\n",
      "sequential_4 model is trained. best val loss is : [3.1351938094474963, 0.780952380952381]\n",
      "sequential_5 model is trained. best val loss is : [0.6862129685424623, 0.5714285714285714]\n",
      "sequential_5 model is trained. best val loss is : [0.7001503830864316, 0.4142857142857143]\n",
      "sequential_5 model is trained. best val loss is : [0.6730742976779029, 0.6238095238095238]\n",
      "sequential_5 model is trained. best val loss is : [0.6251309391998109, 0.7571428571428571]\n",
      "sequential_5 model is trained. best val loss is : [0.667638129279727, 0.6523809523809524]\n",
      "sequential_5 model is trained. best val loss is : [0.6171369761228561, 0.7142857142857143]\n",
      "sequential_5 model is trained. best val loss is : [0.5975227678105944, 0.7428571428571429]\n",
      "sequential_5 model is trained. best val loss is : [0.48804096806395264, 0.7761904761904762]\n",
      "sequential_5 model is trained. best val loss is : [0.42910773082403464, 0.8238095238095238]\n",
      "sequential_5 model is trained. best val loss is : [0.936989236958414, 0.7952380952380952]\n",
      "sequential_5 model is trained. best val loss is : [0.9363296074452357, 0.7714285714285715]\n",
      "sequential_5 model is trained. best val loss is : [1.3675094972049755, 0.7904761904761904]\n",
      "sequential_5 model is trained. best val loss is : [0.6692839778604962, 0.6904761904761905]\n",
      "sequential_5 model is trained. best val loss is : [0.5360928089845748, 0.7619047619047619]\n",
      "sequential_5 model is trained. best val loss is : [0.492697626121697, 0.7761904761904762]\n",
      "sequential_5 model is trained. best val loss is : [0.478391916620534, 0.7952380952380952]\n",
      "sequential_5 model is trained. best val loss is : [0.587226109561466, 0.7523809523809524]\n",
      "sequential_5 model is trained. best val loss is : [0.4158258728191348, 0.8142857142857143]\n",
      "sequential_5 model is trained. best val loss is : [0.535419530453488, 0.7761904761904762]\n",
      "sequential_5 model is trained. best val loss is : [0.7294032040497237, 0.7904761904761904]\n",
      "sequential_5 model is trained. best val loss is : [0.46268936334000454, 0.8142857142857143]\n",
      "sequential_5 model is trained. best val loss is : [1.2683929280899888, 0.7904761904761904]\n",
      "sequential_5 model is trained. best val loss is : [1.2078305243410326, 0.7904761904761904]\n",
      "sequential_5 model is trained. best val loss is : [2.3246798166441667, 0.7857142857142857]\n",
      "sequential_6 model is trained. best val loss is : [0.6914707918961843, 0.44761904761904764]\n",
      "sequential_6 model is trained. best val loss is : [0.6811145223322369, 0.6238095238095238]\n",
      "sequential_6 model is trained. best val loss is : [0.680582286630358, 0.6190476190476191]\n",
      "sequential_6 model is trained. best val loss is : [0.6448803998175121, 0.7142857142857143]\n",
      "sequential_6 model is trained. best val loss is : [0.6845983102208092, 0.6571428571428571]\n",
      "sequential_6 model is trained. best val loss is : [0.6306074580975941, 0.6428571428571429]\n",
      "sequential_6 model is trained. best val loss is : [0.594411270675205, 0.6666666666666666]\n",
      "sequential_6 model is trained. best val loss is : [0.48392569551333076, 0.7714285714285715]\n",
      "sequential_6 model is trained. best val loss is : [0.4349988896338757, 0.7952380952380952]\n",
      "sequential_6 model is trained. best val loss is : [1.1606417458778175, 0.8047619047619048]\n",
      "sequential_6 model is trained. best val loss is : [1.1104663163454378, 0.819047619047619]\n",
      "sequential_6 model is trained. best val loss is : [1.2293697839071305, 0.7666666666666667]\n",
      "sequential_6 model is trained. best val loss is : [0.67674861011051, 0.6333333333333333]\n",
      "sequential_6 model is trained. best val loss is : [0.5617862861780893, 0.7619047619047619]\n",
      "sequential_6 model is trained. best val loss is : [0.5006805270910263, 0.7857142857142857]\n",
      "sequential_6 model is trained. best val loss is : [0.4698117175965481, 0.819047619047619]\n",
      "sequential_6 model is trained. best val loss is : [0.5312568427196571, 0.7666666666666667]\n",
      "sequential_6 model is trained. best val loss is : [0.459273620264832, 0.8047619047619048]\n",
      "sequential_6 model is trained. best val loss is : [0.635477729121896, 0.7714285714285715]\n",
      "sequential_6 model is trained. best val loss is : [1.058604784845703, 0.8]\n",
      "sequential_6 model is trained. best val loss is : [0.4527934443604733, 0.7904761904761904]\n",
      "sequential_6 model is trained. best val loss is : [1.7179367730262443, 0.780952380952381]\n",
      "sequential_6 model is trained. best val loss is : [1.2670367185736933, 0.8238095238095238]\n",
      "sequential_6 model is trained. best val loss is : [2.0039609933621008, 0.7952380952380952]\n",
      "sequential_7 model is trained. best val loss is : [0.6836601121085031, 0.5952380952380952]\n",
      "sequential_7 model is trained. best val loss is : [0.6956183598155067, 0.4095238095238095]\n",
      "sequential_7 model is trained. best val loss is : [0.6667694015162332, 0.7285714285714285]\n",
      "sequential_7 model is trained. best val loss is : [0.6472482211533047, 0.7095238095238096]\n",
      "sequential_7 model is trained. best val loss is : [0.6716972450415294, 0.6333333333333333]\n",
      "sequential_7 model is trained. best val loss is : [0.6299135682128725, 0.680952380952381]\n",
      "sequential_7 model is trained. best val loss is : [0.5976723290625072, 0.6571428571428571]\n",
      "sequential_7 model is trained. best val loss is : [0.4869267489361976, 0.780952380952381]\n",
      "sequential_7 model is trained. best val loss is : [0.5273888669332748, 0.7761904761904762]\n",
      "sequential_7 model is trained. best val loss is : [1.2237645387934122, 0.7904761904761904]\n",
      "sequential_7 model is trained. best val loss is : [1.171657894196902, 0.8]\n",
      "sequential_7 model is trained. best val loss is : [0.5716351559863213, 0.7142857142857143]\n",
      "sequential_7 model is trained. best val loss is : [0.6786693956170763, 0.7333333333333333]\n",
      "sequential_7 model is trained. best val loss is : [0.5656201364738601, 0.7571428571428571]\n",
      "sequential_7 model is trained. best val loss is : [0.49772427344606035, 0.7952380952380952]\n",
      "sequential_7 model is trained. best val loss is : [0.4781686056743465, 0.8095238095238095]\n",
      "sequential_7 model is trained. best val loss is : [0.5412799918935413, 0.7666666666666667]\n",
      "sequential_7 model is trained. best val loss is : [0.56246069412492, 0.7857142857142857]\n",
      "sequential_7 model is trained. best val loss is : [0.6681507893390385, 0.7761904761904762]\n"
     ]
    },
    {
     "name": "stdout",
     "output_type": "stream",
     "text": [
      "sequential_7 model is trained. best val loss is : [0.9795144970097096, 0.7666666666666667]\n",
      "sequential_7 model is trained. best val loss is : [0.4439646163844459, 0.8095238095238095]\n",
      "sequential_7 model is trained. best val loss is : [1.535589668951699, 0.7952380952380952]\n",
      "sequential_7 model is trained. best val loss is : [1.948344406335999, 0.7857142857142857]\n",
      "sequential_7 model is trained. best val loss is : [1.7564272429613248, 0.8047619047619048]\n",
      "sequential_8 model is trained. best val loss is : [0.7049283189432961, 0.3476190476190476]\n",
      "sequential_8 model is trained. best val loss is : [0.6889310885043372, 0.5952380952380952]\n",
      "sequential_8 model is trained. best val loss is : [0.6817640049116952, 0.6952380952380952]\n",
      "sequential_8 model is trained. best val loss is : [0.616380377184777, 0.7285714285714285]\n",
      "sequential_8 model is trained. best val loss is : [0.6930173028083074, 0.5571428571428572]\n",
      "sequential_8 model is trained. best val loss is : [0.6510534170128051, 0.6142857142857143]\n",
      "sequential_8 model is trained. best val loss is : [0.6210679673013233, 0.6190476190476191]\n",
      "sequential_8 model is trained. best val loss is : [0.4888570476279017, 0.7666666666666667]\n",
      "sequential_8 model is trained. best val loss is : [0.6236794455339009, 0.7761904761904762]\n",
      "sequential_8 model is trained. best val loss is : [1.1381909642961807, 0.8]\n",
      "sequential_8 model is trained. best val loss is : [1.3749097411156042, 0.8047619047619048]\n",
      "sequential_8 model is trained. best val loss is : [0.6730853662604377, 0.6047619047619047]\n",
      "sequential_8 model is trained. best val loss is : [0.681907354933875, 0.6095238095238096]\n",
      "sequential_8 model is trained. best val loss is : [0.5906930906432015, 0.7047619047619048]\n",
      "sequential_8 model is trained. best val loss is : [0.49420650030175844, 0.7666666666666667]\n",
      "sequential_8 model is trained. best val loss is : [0.4793882515880146, 0.7857142857142857]\n",
      "sequential_8 model is trained. best val loss is : [0.5017475279668967, 0.7714285714285715]\n",
      "sequential_8 model is trained. best val loss is : [0.5200128422347114, 0.7761904761904762]\n",
      "sequential_8 model is trained. best val loss is : [0.7018831851519004, 0.780952380952381]\n",
      "sequential_8 model is trained. best val loss is : [1.2089828167279602, 0.8047619047619048]\n",
      "sequential_8 model is trained. best val loss is : [0.4423974743040855, 0.8095238095238095]\n",
      "sequential_8 model is trained. best val loss is : [1.5160399340978348, 0.8047619047619048]\n",
      "sequential_8 model is trained. best val loss is : [2.107476022595965, 0.8047619047619048]\n",
      "sequential_8 model is trained. best val loss is : [2.3507237530959313, 0.7285714285714285]\n",
      "sequential_9 model is trained. best val loss is : [0.7016458480131058, 0.4]\n",
      "sequential_9 model is trained. best val loss is : [0.6799681601070222, 0.7047619047619048]\n",
      "sequential_9 model is trained. best val loss is : [0.6935978435334705, 0.4666666666666667]\n",
      "sequential_9 model is trained. best val loss is : [0.6524427757376716, 0.7]\n",
      "sequential_9 model is trained. best val loss is : [0.6986349673498244, 0.4380952380952381]\n",
      "sequential_9 model is trained. best val loss is : [0.6475933557464963, 0.6190476190476191]\n",
      "sequential_9 model is trained. best val loss is : [0.6081909831081118, 0.6238095238095238]\n",
      "sequential_9 model is trained. best val loss is : [0.4744648705813147, 0.8047619047619048]\n",
      "sequential_9 model is trained. best val loss is : [0.5065151299731492, 0.780952380952381]\n",
      "sequential_9 model is trained. best val loss is : [1.1613865716487557, 0.8095238095238095]\n",
      "sequential_9 model is trained. best val loss is : [0.9672707263021686, 0.780952380952381]\n",
      "sequential_9 model is trained. best val loss is : [0.6719244563863391, 0.6047619047619047]\n",
      "sequential_9 model is trained. best val loss is : [0.6798177443799518, 0.6190476190476191]\n",
      "sequential_9 model is trained. best val loss is : [0.6050113716295787, 0.6142857142857143]\n",
      "sequential_9 model is trained. best val loss is : [0.4908227267098569, 0.7761904761904762]\n",
      "sequential_9 model is trained. best val loss is : [0.49372486625465434, 0.8095238095238095]\n",
      "sequential_9 model is trained. best val loss is : [0.6097447883515131, 0.7428571428571429]\n",
      "sequential_9 model is trained. best val loss is : [0.43354491812621876, 0.8047619047619048]\n",
      "sequential_9 model is trained. best val loss is : [0.5233679893949242, 0.7952380952380952]\n",
      "sequential_9 model is trained. best val loss is : [0.8377458133803688, 0.819047619047619]\n",
      "sequential_9 model is trained. best val loss is : [0.46540378431257395, 0.8]\n",
      "sequential_9 model is trained. best val loss is : [1.2032220822487207, 0.780952380952381]\n",
      "sequential_9 model is trained. best val loss is : [2.1726338729707386, 0.8]\n",
      "sequential_9 model is trained. best val loss is : [4.868511953254806, 0.6095238095238096]\n",
      "sequential_10 model is trained. best val loss is : [0.6841480354468028, 0.6047619047619047]\n",
      "sequential_10 model is trained. best val loss is : [0.6796736808050247, 0.7047619047619048]\n",
      "sequential_10 model is trained. best val loss is : [0.6788662822473617, 0.6857142857142857]\n",
      "sequential_10 model is trained. best val loss is : [0.630671362507911, 0.7142857142857143]\n",
      "sequential_10 model is trained. best val loss is : [0.6833841377780551, 0.6333333333333333]\n",
      "sequential_10 model is trained. best val loss is : [0.6586741929962522, 0.6047619047619047]\n",
      "sequential_10 model is trained. best val loss is : [0.63158389713083, 0.6047619047619047]\n",
      "sequential_10 model is trained. best val loss is : [0.4743905707927687, 0.8047619047619048]\n",
      "sequential_10 model is trained. best val loss is : [0.5604875303422063, 0.780952380952381]\n",
      "sequential_10 model is trained. best val loss is : [1.1207123501758363, 0.7952380952380952]\n",
      "sequential_10 model is trained. best val loss is : [1.1649393564084092, 0.8380952380952381]\n",
      "sequential_10 model is trained. best val loss is : [0.6686742186024276, 0.6047619047619047]\n",
      "sequential_10 model is trained. best val loss is : [0.6699778852008638, 0.7047619047619048]\n",
      "sequential_10 model is trained. best val loss is : [0.5552563130145981, 0.7714285714285715]\n",
      "sequential_10 model is trained. best val loss is : [0.49411842125867095, 0.7904761904761904]\n",
      "sequential_10 model is trained. best val loss is : [0.4826589129715493, 0.7952380952380952]\n",
      "sequential_10 model is trained. best val loss is : [0.557927429605098, 0.7476190476190476]\n",
      "sequential_10 model is trained. best val loss is : [0.5404683634507018, 0.7952380952380952]\n",
      "sequential_10 model is trained. best val loss is : [0.6405587783880938, 0.7904761904761904]\n",
      "sequential_10 model is trained. best val loss is : [0.9008576104654918, 0.8047619047619048]\n",
      "sequential_10 model is trained. best val loss is : [0.43701923607538146, 0.8047619047619048]\n",
      "sequential_10 model is trained. best val loss is : [1.2770073590392022, 0.780952380952381]\n",
      "sequential_10 model is trained. best val loss is : [2.549888235947181, 0.7714285714285715]\n",
      "sequential_10 model is trained. best val loss is : [3.1405001956808687, 0.6047619047619047]\n",
      "sequential_11 model is trained. best val loss is : [0.704726406222298, 0.3952380952380952]\n",
      "sequential_11 model is trained. best val loss is : [0.6820096734024229, 0.6904761904761905]\n",
      "sequential_11 model is trained. best val loss is : [0.6822620445773715, 0.6904761904761905]\n",
      "sequential_11 model is trained. best val loss is : [0.6405788652953648, 0.7380952380952381]\n",
      "sequential_11 model is trained. best val loss is : [0.6917783078693208, 0.5238095238095238]\n",
      "sequential_11 model is trained. best val loss is : [0.6382198790709178, 0.6047619047619047]\n",
      "sequential_11 model is trained. best val loss is : [0.6246026365529923, 0.6142857142857143]\n",
      "sequential_11 model is trained. best val loss is : [0.4829181071636932, 0.780952380952381]\n",
      "sequential_11 model is trained. best val loss is : [0.7168288424008613, 0.780952380952381]\n",
      "sequential_11 model is trained. best val loss is : [1.4341131710405979, 0.819047619047619]\n",
      "sequential_11 model is trained. best val loss is : [1.52317740154458, 0.8]\n",
      "sequential_11 model is trained. best val loss is : [0.6667228348198391, 0.6047619047619047]\n",
      "sequential_11 model is trained. best val loss is : [0.6820354038760775, 0.6142857142857143]\n",
      "sequential_11 model is trained. best val loss is : [0.59250836762644, 0.6619047619047619]\n"
     ]
    },
    {
     "name": "stdout",
     "output_type": "stream",
     "text": [
      "sequential_11 model is trained. best val loss is : [0.49748355423410734, 0.7714285714285715]\n",
      "sequential_11 model is trained. best val loss is : [0.49069817650181774, 0.819047619047619]\n",
      "sequential_11 model is trained. best val loss is : [0.528198426074925, 0.7714285714285715]\n",
      "sequential_11 model is trained. best val loss is : [0.6307392829787821, 0.7904761904761904]\n",
      "sequential_11 model is trained. best val loss is : [0.6333834899758667, 0.8]\n",
      "sequential_11 model is trained. best val loss is : [1.1584365244420973, 0.8095238095238095]\n",
      "sequential_11 model is trained. best val loss is : [0.43471817293293064, 0.8095238095238095]\n",
      "sequential_11 model is trained. best val loss is : [1.4873237814869564, 0.7857142857142857]\n",
      "sequential_11 model is trained. best val loss is : [2.1357428557787674, 0.7761904761904762]\n",
      "sequential_11 model is trained. best val loss is : [3.2312588933699096, 0.6047619047619047]\n",
      "sequential_12 model is trained. best val loss is : [0.697924686613537, 0.40476190476190477]\n",
      "sequential_12 model is trained. best val loss is : [0.6883105879738217, 0.6238095238095238]\n",
      "sequential_12 model is trained. best val loss is : [0.6764274483635312, 0.6857142857142857]\n",
      "sequential_12 model is trained. best val loss is : [0.6019123862187068, 0.7380952380952381]\n",
      "sequential_12 model is trained. best val loss is : [0.6816829238619123, 0.6952380952380952]\n",
      "sequential_12 model is trained. best val loss is : [0.6420513116178058, 0.6047619047619047]\n",
      "sequential_12 model is trained. best val loss is : [0.6444329595281965, 0.6047619047619047]\n",
      "sequential_12 model is trained. best val loss is : [0.49667189542337187, 0.7952380952380952]\n",
      "sequential_12 model is trained. best val loss is : [0.8516965918251925, 0.7952380952380952]\n",
      "sequential_12 model is trained. best val loss is : [1.091532746797979, 0.780952380952381]\n",
      "sequential_12 model is trained. best val loss is : [1.758227879491468, 0.8047619047619048]\n",
      "sequential_12 model is trained. best val loss is : [0.6723740932487307, 0.6047619047619047]\n",
      "sequential_12 model is trained. best val loss is : [0.6829549866063255, 0.6047619047619047]\n",
      "sequential_12 model is trained. best val loss is : [0.5811980136803219, 0.7523809523809524]\n",
      "sequential_12 model is trained. best val loss is : [0.510636216224659, 0.780952380952381]\n",
      "sequential_12 model is trained. best val loss is : [0.4858768089851808, 0.8047619047619048]\n",
      "sequential_12 model is trained. best val loss is : [0.47594565995747135, 0.780952380952381]\n",
      "sequential_12 model is trained. best val loss is : [0.6563027512848907, 0.7857142857142857]\n",
      "sequential_12 model is trained. best val loss is : [0.9256353315827596, 0.780952380952381]\n",
      "sequential_12 model is trained. best val loss is : [1.1897085517697283, 0.8095238095238095]\n",
      "sequential_12 model is trained. best val loss is : [0.4067202840349637, 0.8428571428571429]\n",
      "sequential_12 model is trained. best val loss is : [2.524130861869675, 0.7714285714285715]\n",
      "sequential_12 model is trained. best val loss is : [1.0691743513703917, 0.8142857142857143]\n",
      "sequential_12 model is trained. best val loss is : [2.0191326193996204, 0.719047619047619]\n",
      "sequential_13 model is trained. best val loss is : [0.6934376603081113, 0.48095238095238096]\n",
      "sequential_13 model is trained. best val loss is : [0.6813917145842597, 0.6095238095238096]\n",
      "sequential_13 model is trained. best val loss is : [0.6786088307698568, 0.6047619047619047]\n",
      "sequential_13 model is trained. best val loss is : [0.5596238329297021, 0.7714285714285715]\n",
      "sequential_13 model is trained. best val loss is : [0.6899518478484381, 0.6476190476190476]\n",
      "sequential_13 model is trained. best val loss is : [0.6573232551415761, 0.6047619047619047]\n",
      "sequential_13 model is trained. best val loss is : [0.6399264657781237, 0.6047619047619047]\n",
      "sequential_13 model is trained. best val loss is : [0.4837868448080761, 0.780952380952381]\n",
      "sequential_13 model is trained. best val loss is : [0.8228953970725253, 0.7857142857142857]\n",
      "sequential_13 model is trained. best val loss is : [1.4643653631356404, 0.8142857142857143]\n",
      "sequential_13 model is trained. best val loss is : [0.775909072350973, 0.7714285714285715]\n",
      "sequential_13 model is trained. best val loss is : [0.6720923831065496, 0.6047619047619047]\n",
      "sequential_13 model is trained. best val loss is : [0.6780630392687661, 0.6047619047619047]\n",
      "sequential_13 model is trained. best val loss is : [0.5769445098581768, 0.7380952380952381]\n",
      "sequential_13 model is trained. best val loss is : [0.4934255733908642, 0.7952380952380952]\n",
      "sequential_13 model is trained. best val loss is : [0.48515606436080166, 0.8047619047619048]\n",
      "sequential_13 model is trained. best val loss is : [0.4707308593849164, 0.7666666666666667]\n",
      "sequential_13 model is trained. best val loss is : [0.6324062787286886, 0.8142857142857143]\n",
      "sequential_13 model is trained. best val loss is : [0.7703198857257697, 0.7904761904761904]\n",
      "sequential_13 model is trained. best val loss is : [1.3350741035848754, 0.7952380952380952]\n",
      "sequential_13 model is trained. best val loss is : [0.48656638285080717, 0.8095238095238095]\n",
      "sequential_13 model is trained. best val loss is : [1.711414973929572, 0.780952380952381]\n",
      "sequential_13 model is trained. best val loss is : [2.4912091538820866, 0.7904761904761904]\n",
      "sequential_13 model is trained. best val loss is : [2.8855972409325816, 0.7142857142857143]\n",
      "sequential_14 model is trained. best val loss is : [0.684940700729688, 0.5761904761904761]\n",
      "sequential_14 model is trained. best val loss is : [0.6890262524286906, 0.6047619047619047]\n",
      "sequential_14 model is trained. best val loss is : [0.6924360400154477, 0.6095238095238096]\n",
      "sequential_14 model is trained. best val loss is : [0.678664151259831, 0.6238095238095238]\n",
      "sequential_14 model is trained. best val loss is : [0.6793645932560876, 0.6142857142857143]\n",
      "sequential_14 model is trained. best val loss is : [0.6734662072999137, 0.6047619047619047]\n",
      "sequential_14 model is trained. best val loss is : [0.6644734601179759, 0.6047619047619047]\n",
      "sequential_14 model is trained. best val loss is : [0.4806291341515524, 0.8047619047619048]\n",
      "sequential_14 model is trained. best val loss is : [0.6658168802092903, 0.8095238095238095]\n",
      "sequential_14 model is trained. best val loss is : [0.840552753178922, 0.8]\n",
      "sequential_14 model is trained. best val loss is : [1.1843262112520956, 0.7952380952380952]\n",
      "sequential_14 model is trained. best val loss is : [0.6715271559499559, 0.6047619047619047]\n",
      "sequential_14 model is trained. best val loss is : [0.6766647162891569, 0.6047619047619047]\n",
      "sequential_14 model is trained. best val loss is : [0.5664042101729484, 0.7333333333333333]\n",
      "sequential_14 model is trained. best val loss is : [0.5490417619901043, 0.7857142857142857]\n",
      "sequential_14 model is trained. best val loss is : [0.46920205910823176, 0.8095238095238095]\n",
      "sequential_14 model is trained. best val loss is : [0.5885915441882043, 0.6619047619047619]\n",
      "sequential_14 model is trained. best val loss is : [0.4620575026949241, 0.819047619047619]\n",
      "sequential_14 model is trained. best val loss is : [0.6714945453671198, 0.7714285714285715]\n",
      "sequential_14 model is trained. best val loss is : [1.0153848517098452, 0.8]\n",
      "sequential_14 model is trained. best val loss is : [0.4608745241426818, 0.8095238095238095]\n",
      "sequential_14 model is trained. best val loss is : [1.0336321665961126, 0.7857142857142857]\n",
      "sequential_14 model is trained. best val loss is : [2.2823257220365076, 0.780952380952381]\n",
      "sequential_14 model is trained. best val loss is : [0.9461177499340554, 0.7476190476190476]\n",
      "sequential_15 model is trained. best val loss is : [0.6980347145171393, 0.3952380952380952]\n",
      "sequential_15 model is trained. best val loss is : [0.6996186023666745, 0.3619047619047619]\n",
      "sequential_15 model is trained. best val loss is : [0.6920087101913633, 0.5619047619047619]\n",
      "sequential_15 model is trained. best val loss is : [0.6075358830747151, 0.6619047619047619]\n",
      "sequential_15 model is trained. best val loss is : [0.6915392875671387, 0.5904761904761905]\n",
      "sequential_15 model is trained. best val loss is : [0.6690442874318078, 0.6047619047619047]\n",
      "sequential_15 model is trained. best val loss is : [0.6430270085732143, 0.6047619047619047]\n",
      "sequential_15 model is trained. best val loss is : [0.5121528140136173, 0.8047619047619048]\n"
     ]
    },
    {
     "name": "stdout",
     "output_type": "stream",
     "text": [
      "sequential_15 model is trained. best val loss is : [0.8128678642601774, 0.7904761904761904]\n",
      "sequential_15 model is trained. best val loss is : [1.1538885988525485, 0.7952380952380952]\n",
      "sequential_15 model is trained. best val loss is : [1.1743127267302402, 0.7571428571428571]\n",
      "sequential_15 model is trained. best val loss is : [0.6711876054604848, 0.6047619047619047]\n",
      "sequential_15 model is trained. best val loss is : [0.6818534817014422, 0.6904761904761905]\n",
      "sequential_15 model is trained. best val loss is : [0.6204424482016336, 0.6571428571428571]\n",
      "sequential_15 model is trained. best val loss is : [0.5010378141843137, 0.7857142857142857]\n",
      "sequential_15 model is trained. best val loss is : [0.48823334337128993, 0.8]\n",
      "sequential_15 model is trained. best val loss is : [0.5279296664609796, 0.7666666666666667]\n",
      "sequential_15 model is trained. best val loss is : [0.6772240205230549, 0.780952380952381]\n",
      "sequential_15 model is trained. best val loss is : [0.6865840854058731, 0.7952380952380952]\n",
      "sequential_15 model is trained. best val loss is : [0.8560742509053462, 0.7904761904761904]\n",
      "sequential_15 model is trained. best val loss is : [0.4476911094837955, 0.8095238095238095]\n",
      "sequential_15 model is trained. best val loss is : [1.0515483886532715, 0.8]\n",
      "sequential_15 model is trained. best val loss is : [1.1727067920029612, 0.7857142857142857]\n",
      "sequential_15 model is trained. best val loss is : [0.6069012370078131, 0.7238095238095238]\n",
      "sequential_16 model is trained. best val loss is : [0.6926614060288384, 0.5857142857142857]\n",
      "sequential_16 model is trained. best val loss is : [0.6905380285921551, 0.6]\n",
      "sequential_16 model is trained. best val loss is : [0.6902495815640404, 0.5904761904761905]\n",
      "sequential_16 model is trained. best val loss is : [0.6127785722414653, 0.6047619047619047]\n",
      "sequential_16 model is trained. best val loss is : [0.6846364515168326, 0.6095238095238096]\n",
      "sequential_16 model is trained. best val loss is : [0.6642540364038376, 0.6047619047619047]\n",
      "sequential_16 model is trained. best val loss is : [0.6437457958857219, 0.6047619047619047]\n",
      "sequential_16 model is trained. best val loss is : [0.5033550307731188, 0.8]\n",
      "sequential_16 model is trained. best val loss is : [0.96275182113085, 0.780952380952381]\n",
      "sequential_16 model is trained. best val loss is : [1.5616005292893742, 0.7761904761904762]\n",
      "sequential_16 model is trained. best val loss is : [0.7974091751072541, 0.7666666666666667]\n",
      "sequential_16 model is trained. best val loss is : [0.6672349342278865, 0.6095238095238096]\n",
      "sequential_16 model is trained. best val loss is : [0.6802633035750616, 0.6047619047619047]\n",
      "sequential_16 model is trained. best val loss is : [0.6079748558146613, 0.6571428571428571]\n",
      "sequential_16 model is trained. best val loss is : [0.5020186038953918, 0.780952380952381]\n",
      "sequential_16 model is trained. best val loss is : [0.4841361569005087, 0.8047619047619048]\n",
      "sequential_16 model is trained. best val loss is : [0.4891178376706583, 0.7666666666666667]\n",
      "sequential_16 model is trained. best val loss is : [0.7478152390342349, 0.7857142857142857]\n",
      "sequential_16 model is trained. best val loss is : [0.6942477917664365, 0.8095238095238095]\n",
      "sequential_16 model is trained. best val loss is : [1.1383693866945928, 0.7619047619047619]\n",
      "sequential_16 model is trained. best val loss is : [0.41507703462515827, 0.8095238095238095]\n",
      "sequential_16 model is trained. best val loss is : [0.9016672352361537, 0.8095238095238095]\n",
      "sequential_16 model is trained. best val loss is : [1.5105507980549497, 0.7952380952380952]\n",
      "sequential_16 model is trained. best val loss is : [1.5605431573324362, 0.7428571428571429]\n",
      "sequential_17 model is trained. best val loss is : [0.6922210948807853, 0.5666666666666667]\n",
      "sequential_17 model is trained. best val loss is : [0.6858333610353016, 0.6285714285714286]\n",
      "sequential_17 model is trained. best val loss is : [0.6870678810846238, 0.6095238095238096]\n",
      "sequential_17 model is trained. best val loss is : [0.5721897206845737, 0.7428571428571429]\n",
      "sequential_17 model is trained. best val loss is : [0.6895017101651146, 0.6428571428571429]\n",
      "sequential_17 model is trained. best val loss is : [0.6482866491590228, 0.6047619047619047]\n",
      "sequential_17 model is trained. best val loss is : [0.6453724597181593, 0.6047619047619047]\n",
      "sequential_17 model is trained. best val loss is : [0.48911459152365017, 0.8]\n",
      "sequential_17 model is trained. best val loss is : [0.748480303745176, 0.8095238095238095]\n",
      "sequential_17 model is trained. best val loss is : [1.424892914637503, 0.8047619047619048]\n",
      "sequential_17 model is trained. best val loss is : [0.6734769279048556, 0.6047619047619047]\n",
      "sequential_17 model is trained. best val loss is : [0.6704661658832005, 0.6047619047619047]\n",
      "sequential_17 model is trained. best val loss is : [0.68053602093742, 0.6047619047619047]\n",
      "sequential_17 model is trained. best val loss is : [0.6305121735447929, 0.638095238095238]\n",
      "sequential_17 model is trained. best val loss is : [0.49691835083067415, 0.7952380952380952]\n",
      "sequential_17 model is trained. best val loss is : [0.4830223306675353, 0.8095238095238095]\n",
      "sequential_17 model is trained. best val loss is : [0.4675092067680366, 0.8]\n",
      "sequential_17 model is trained. best val loss is : [0.8493136850689398, 0.7857142857142857]\n",
      "sequential_17 model is trained. best val loss is : [0.7825185886831051, 0.7714285714285715]\n",
      "sequential_17 model is trained. best val loss is : [1.319961176294407, 0.7619047619047619]\n",
      "sequential_17 model is trained. best val loss is : [0.5207437571662878, 0.7857142857142857]\n",
      "sequential_17 model is trained. best val loss is : [1.2237527037005358, 0.8095238095238095]\n",
      "sequential_17 model is trained. best val loss is : [2.4122207838307403, 0.7333333333333333]\n",
      "sequential_17 model is trained. best val loss is : [22.471425247278955, 0.6047619047619047]\n",
      "sequential_18 model is trained. best val loss is : [0.6953868516853877, 0.38095238095238093]\n",
      "sequential_18 model is trained. best val loss is : [0.680353726943334, 0.6523809523809524]\n",
      "sequential_18 model is trained. best val loss is : [0.6767106240703946, 0.6095238095238096]\n",
      "sequential_18 model is trained. best val loss is : [0.5712573739034789, 0.7523809523809524]\n",
      "sequential_18 model is trained. best val loss is : [0.691187709569931, 0.5952380952380952]\n",
      "sequential_18 model is trained. best val loss is : [0.667752817982719, 0.6047619047619047]\n",
      "sequential_18 model is trained. best val loss is : [0.6380918346700214, 0.6047619047619047]\n",
      "sequential_18 model is trained. best val loss is : [0.48735651386280854, 0.8095238095238095]\n",
      "sequential_18 model is trained. best val loss is : [0.9785439025350335, 0.7952380952380952]\n",
      "sequential_18 model is trained. best val loss is : [1.2971090855291831, 0.7904761904761904]\n",
      "sequential_18 model is trained. best val loss is : [3.2651416582508936, 0.638095238095238]\n",
      "sequential_18 model is trained. best val loss is : [0.6948196276312782, 0.6047619047619047]\n",
      "sequential_18 model is trained. best val loss is : [0.6797287157603673, 0.6047619047619047]\n",
      "sequential_18 model is trained. best val loss is : [0.569086553085418, 0.7571428571428571]\n",
      "sequential_18 model is trained. best val loss is : [0.5063119249507075, 0.8]\n",
      "sequential_18 model is trained. best val loss is : [0.49173490396989067, 0.7904761904761904]\n",
      "sequential_18 model is trained. best val loss is : [0.4468007769956741, 0.8047619047619048]\n",
      "sequential_18 model is trained. best val loss is : [0.6945448272169509, 0.8]\n",
      "sequential_18 model is trained. best val loss is : [1.0451023803989787, 0.7952380952380952]\n",
      "sequential_18 model is trained. best val loss is : [1.6517535455931864, 0.7666666666666667]\n",
      "sequential_18 model is trained. best val loss is : [0.6086934705550566, 0.7857142857142857]\n",
      "sequential_18 model is trained. best val loss is : [3.596336333202532, 0.7761904761904762]\n",
      "sequential_18 model is trained. best val loss is : [1.8154035929983636, 0.7714285714285715]\n",
      "sequential_18 model is trained. best val loss is : [1.5454458126403507, 0.6333333333333333]\n"
     ]
    }
   ],
   "source": [
    "mlp_titanic = MLP(ds_titanic.trans_X_train, ds_titanic.trans_y_train, problem=ds_titanic.problem)\n",
    "mlp_titanic.build_structure(max_hidden_layers=1, units=[16], use_all=True)\n",
    "mlp_titanic.create_optimizer(optimizers=['adadelta'], lrs=[0.001], use_all=True)\n",
    "mlp_titanic.compile_model()\n",
    "\n",
    "mlp_titanic.train_models(mlp_titanic.compiled_models,\n",
    "                         ds_titanic.trans_X_train, ds_titanic.trans_y_train,\n",
    "                         ds_titanic.trans_X_val, ds_titanic.trans_y_val,\n",
    "                         batch_size=64, epochs=10)"
   ]
  },
  {
   "cell_type": "code",
   "execution_count": 7,
   "metadata": {},
   "outputs": [
    {
     "name": "stdout",
     "output_type": "stream",
     "text": [
      "210/210 [==============================] - 0s 130us/sample - loss: 0.4067 - accuracy: 0.8429\n",
      "{'structure_info': {'hidden_layers': 2, 'units': 128}, 'optimizer_info': {'optimizer_name': 'rmsprop', 'lr': 0.001}}\n"
     ]
    }
   ],
   "source": [
    "best_model_titanic, best_model_info_titanic = select_best_model(mlp_titanic.trained_models, mlp_titanic.val_losses, mlp_titanic.compiled_models_info)\n",
    "best_model_titanic.evaluate(ds_titanic.trans_X_val, ds_titanic.trans_y_val)\n",
    "print(best_model_info_titanic)"
   ]
  },
  {
   "cell_type": "code",
   "execution_count": null,
   "metadata": {},
   "outputs": [],
   "source": [
    "# loss is changed when the order of learning rate is changed -> need to check optimizer & compile\n",
    "\n",
    "# compile -> randomness\n",
    "# different problem also work?\n"
   ]
  },
  {
   "cell_type": "code",
   "execution_count": 5,
   "metadata": {},
   "outputs": [
    {
     "name": "stdout",
     "output_type": "stream",
     "text": [
      "sequential_4 model is trained. best val loss is : [0.6686330165181841, 0.6428571428571429]\n",
      "sequential_4 model is trained. best val loss is : [0.7004640800612313, 0.45714285714285713]\n",
      "sequential_4 model is trained. best val loss is : [0.6871521353721619, 0.5619047619047619]\n",
      "sequential_4 model is trained. best val loss is : [0.6332905596210843, 0.6761904761904762]\n"
     ]
    }
   ],
   "source": [
    "mlp_titanic = MLP(ds_titanic.trans_X_train, ds_titanic.trans_y_train, problem=ds_titanic.problem)\n",
    "mlp_titanic.build_structure(max_hidden_layers=1, units=[16], use_all=False)\n",
    "mlp_titanic.create_optimizer(optimizers=['adadelta'], lrs=[0.001, 0.01, 0.02, 0.1], use_all=False)\n",
    "mlp_titanic.compile_model()\n",
    "\n",
    "mlp_titanic.train_models(mlp_titanic.compiled_models,\n",
    "                         ds_titanic.trans_X_train, ds_titanic.trans_y_train,\n",
    "                         ds_titanic.trans_X_val, ds_titanic.trans_y_val,\n",
    "                         batch_size=64, epochs=10)"
   ]
  },
  {
   "cell_type": "code",
   "execution_count": 6,
   "metadata": {},
   "outputs": [
    {
     "name": "stdout",
     "output_type": "stream",
     "text": [
      "sequential_5 model is trained. best val loss is : [0.6642115391436078, 0.6523809523809524]\n",
      "sequential_5 model is trained. best val loss is : [0.6599357666004272, 0.7095238095238096]\n",
      "sequential_5 model is trained. best val loss is : [0.6871521353721619, 0.5619047619047619]\n",
      "sequential_5 model is trained. best val loss is : [0.6907399631681896, 0.580952380952381]\n"
     ]
    }
   ],
   "source": [
    "mlp_titanic = MLP(ds_titanic.trans_X_train, ds_titanic.trans_y_train, problem=ds_titanic.problem)\n",
    "mlp_titanic.build_structure(max_hidden_layers=1, units=[16], use_all=False)\n",
    "mlp_titanic.create_optimizer(optimizers=['adadelta'], lrs=[0.01, 0.1, 0.02, 0.001], use_all=False)\n",
    "mlp_titanic.compile_model()\n",
    "\n",
    "mlp_titanic.train_models(mlp_titanic.compiled_models,\n",
    "                         ds_titanic.trans_X_train, ds_titanic.trans_y_train,\n",
    "                         ds_titanic.trans_X_val, ds_titanic.trans_y_val,\n",
    "                         batch_size=64, epochs=10)"
   ]
  },
  {
   "cell_type": "code",
   "execution_count": 7,
   "metadata": {},
   "outputs": [
    {
     "name": "stdout",
     "output_type": "stream",
     "text": [
      "sequential_6 model is trained. best val loss is : [0.5689850853312584, 0.7571428571428571]\n",
      "sequential_6 model is trained. best val loss is : [0.6599357666004272, 0.7095238095238096]\n"
     ]
    }
   ],
   "source": [
    "mlp_titanic = MLP(ds_titanic.trans_X_train, ds_titanic.trans_y_train, problem=ds_titanic.problem)\n",
    "mlp_titanic.build_structure(max_hidden_layers=1, units=[16], use_all=False)\n",
    "mlp_titanic.create_optimizer(optimizers=['adadelta'], lrs=[0.2, 0.1], use_all=False)\n",
    "mlp_titanic.compile_model()\n",
    "\n",
    "mlp_titanic.train_models(mlp_titanic.compiled_models,\n",
    "                         ds_titanic.trans_X_train, ds_titanic.trans_y_train,\n",
    "                         ds_titanic.trans_X_val, ds_titanic.trans_y_val,\n",
    "                         batch_size=64, epochs=10)"
   ]
  },
  {
   "cell_type": "code",
   "execution_count": 30,
   "metadata": {},
   "outputs": [
    {
     "name": "stdout",
     "output_type": "stream",
     "text": [
      "sequential_46 model is trained. best val loss is : [0.6642115391436078, 0.6523809523809524]\n",
      "sequential_46 model is trained. best val loss is : [0.6599357666004272, 0.7095238095238096]\n",
      "sequential_46 model is trained. best val loss is : [0.6871521353721619, 0.5619047619047619]\n",
      "sequential_46 model is trained. best val loss is : [0.6907399631681896, 0.580952380952381]\n"
     ]
    }
   ],
   "source": [
    "mlp_titanic = MLP(ds_titanic.trans_X_train, ds_titanic.trans_y_train, problem=ds_titanic.problem)\n",
    "mlp_titanic.build_structure(max_hidden_layers=1, units=[16], use_all=False)\n",
    "mlp_titanic.create_optimizer(optimizers=['adadelta'], lrs=[0.01, 0.1, 0.02, 0.001], use_all=False)\n",
    "mlp_titanic.compile_model()\n",
    "\n",
    "mlp_titanic.train_models(mlp_titanic.compiled_models,\n",
    "                         ds_titanic.trans_X_train, ds_titanic.trans_y_train,\n",
    "                         ds_titanic.trans_X_val, ds_titanic.trans_y_val,\n",
    "                         batch_size=64, epochs=10)"
   ]
  },
  {
   "cell_type": "code",
   "execution_count": 31,
   "metadata": {},
   "outputs": [
    {
     "name": "stdout",
     "output_type": "stream",
     "text": [
      "sequential_47 model is trained. best val loss is : [0.6686330165181841, 0.6428571428571429]\n",
      "sequential_47 model is trained. best val loss is : [0.6599357666004272, 0.7095238095238096]\n",
      "sequential_47 model is trained. best val loss is : [0.6871521353721619, 0.5619047619047619]\n",
      "sequential_47 model is trained. best val loss is : [0.684975457475299, 0.5952380952380952]\n"
     ]
    }
   ],
   "source": [
    "mlp_titanic = MLP(ds_titanic.trans_X_train, ds_titanic.trans_y_train, problem=ds_titanic.problem)\n",
    "mlp_titanic.build_structure(max_hidden_layers=1, units=[16], use_all=False)\n",
    "mlp_titanic.create_optimizer(optimizers=['adadelta'], lrs=[0.001, 0.1, 0.02, 0.01], use_all=False)\n",
    "mlp_titanic.compile_model()\n",
    "\n",
    "mlp_titanic.train_models(mlp_titanic.compiled_models,\n",
    "                         ds_titanic.trans_X_train, ds_titanic.trans_y_train,\n",
    "                         ds_titanic.trans_X_val, ds_titanic.trans_y_val,\n",
    "                         batch_size=64, epochs=10)"
   ]
  },
  {
   "cell_type": "code",
   "execution_count": 4,
   "metadata": {},
   "outputs": [
    {
     "name": "stdout",
     "output_type": "stream",
     "text": [
      "sequential_1 model is trained. best val loss is : [0.7106497699306125, 0.3476190476190476]\n",
      "sequential_1 model is trained. best val loss is : [0.6315715209359214, 0.7285714285714285]\n",
      "sequential_1 model is trained. best val loss is : [0.6809403154112044, 0.6047619047619047]\n",
      "sequential_1 model is trained. best val loss is : [0.6702778271266392, 0.6285714285714286]\n"
     ]
    }
   ],
   "source": [
    "mlp_titanic = MLP(ds_titanic.trans_X_train, ds_titanic.trans_y_train, problem=ds_titanic.problem)\n",
    "mlp_titanic.build_structure(max_hidden_layers=1, units=[16], use_all=False)\n",
    "mlp_titanic.create_optimizer(optimizers=['adadelta'], lrs=[0.001, 0.1, 0.02, 0.01], use_all=False)\n",
    "mlp_titanic.compile_model()\n",
    "\n",
    "mlp_titanic.train_models(mlp_titanic.compiled_models,\n",
    "                         ds_titanic.trans_X_train, ds_titanic.trans_y_train,\n",
    "                         ds_titanic.trans_X_val, ds_titanic.trans_y_val,\n",
    "                         batch_size=64, epochs=10)"
   ]
  },
  {
   "cell_type": "code",
   "execution_count": 32,
   "metadata": {},
   "outputs": [
    {
     "name": "stdout",
     "output_type": "stream",
     "text": [
      "sequential_48 model is trained. best val loss is : [0.6642115391436078, 0.6523809523809524]\n",
      "sequential_48 model is trained. best val loss is : [0.6599357666004272, 0.7095238095238096]\n",
      "sequential_48 model is trained. best val loss is : [0.6871521353721619, 0.5619047619047619]\n"
     ]
    }
   ],
   "source": [
    "mlp_titanic = MLP(ds_titanic.trans_X_train, ds_titanic.trans_y_train, problem=ds_titanic.problem)\n",
    "mlp_titanic.build_structure(max_hidden_layers=1, units=[16], use_all=False)\n",
    "mlp_titanic.create_optimizer(optimizers=['adadelta'], lrs=[0.01, 0.1, 0.02], use_all=False)\n",
    "mlp_titanic.compile_model()\n",
    "\n",
    "mlp_titanic.train_models(mlp_titanic.compiled_models,\n",
    "                         ds_titanic.trans_X_train, ds_titanic.trans_y_train,\n",
    "                         ds_titanic.trans_X_val, ds_titanic.trans_y_val,\n",
    "                         batch_size=64, epochs=10)"
   ]
  },
  {
   "cell_type": "code",
   "execution_count": null,
   "metadata": {},
   "outputs": [],
   "source": []
  }
 ],
 "metadata": {
  "kernelspec": {
   "display_name": "Python 3",
   "language": "python",
   "name": "python3"
  },
  "language_info": {
   "codemirror_mode": {
    "name": "ipython",
    "version": 3
   },
   "file_extension": ".py",
   "mimetype": "text/x-python",
   "name": "python",
   "nbconvert_exporter": "python",
   "pygments_lexer": "ipython3",
   "version": "3.7.6"
  }
 },
 "nbformat": 4,
 "nbformat_minor": 4
}
