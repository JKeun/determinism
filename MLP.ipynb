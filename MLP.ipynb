{
 "cells": [
  {
   "cell_type": "code",
   "execution_count": null,
   "metadata": {},
   "outputs": [],
   "source": [
    "# class DataSource:        \n",
    "    \n",
    "#     def data_preprocess():\n",
    "\n",
    "#     def data_load_split():"
   ]
  },
  {
   "cell_type": "code",
   "execution_count": 1,
   "metadata": {},
   "outputs": [],
   "source": [
    "import itertools\n",
    "import numpy as np\n",
    "import pandas as pd\n",
    "import tensorflow as tf\n",
    "from tensorflow import keras\n",
    "\n",
    "from sklearn.model_selection import train_test_split\n",
    "from sklearn.compose import ColumnTransformer\n",
    "from sklearn.impute import SimpleImputer\n",
    "from sklearn.pipeline import Pipeline\n",
    "from sklearn.preprocessing import Normalizer, OneHotEncoder, StandardScaler"
   ]
  },
  {
   "cell_type": "markdown",
   "metadata": {},
   "source": [
    "### DataSource"
   ]
  },
  {
   "cell_type": "code",
   "execution_count": 2,
   "metadata": {},
   "outputs": [],
   "source": [
    "def data_load_split(filename, target=None, ignore=None):\n",
    "    \"\"\"\n",
    "    Args:\n",
    "        filename: from where to load\n",
    "        target: list\n",
    "        ignore: list\n",
    "        \n",
    "    Returns:\n",
    "        X: inputs DataFrame\n",
    "        y: target DataFrame\n",
    "    \"\"\"\n",
    "    df = pd.read_csv(filename)\n",
    "    \n",
    "    target = target\n",
    "    ignore = ignore\n",
    "    \n",
    "    inputs = sorted(set(df.columns) - set(target) - set(ignore))\n",
    "    \n",
    "    return df[inputs], df[target]"
   ]
  },
  {
   "cell_type": "code",
   "execution_count": 3,
   "metadata": {},
   "outputs": [],
   "source": [
    "filename = \"./data/titanic_train.csv\"\n",
    "target = [\"Survived\"]\n",
    "ignore = [\"Name\", \"Cabin\", \"Ticket\"]\n",
    "\n",
    "X, y = data_load_split(filename, target, ignore)"
   ]
  },
  {
   "cell_type": "code",
   "execution_count": 22,
   "metadata": {},
   "outputs": [],
   "source": [
    "def define_problem(y):\n",
    "    if y.dtypes[0] in ['int64', 'float64'] and y.nunique()[0] == 2:\n",
    "        problem = \"Binary\"\n",
    "    elif y.dtypes[0] in ['object', 'bool']:\n",
    "        problem = \"Classification\"\n",
    "    else:\n",
    "        problem = \"Regression\"\n",
    "    \n",
    "    return problem"
   ]
  },
  {
   "cell_type": "code",
   "execution_count": 23,
   "metadata": {},
   "outputs": [
    {
     "data": {
      "text/plain": [
       "'Binary'"
      ]
     },
     "execution_count": 23,
     "metadata": {},
     "output_type": "execute_result"
    }
   ],
   "source": [
    "define_problem()"
   ]
  },
  {
   "cell_type": "code",
   "execution_count": 6,
   "metadata": {},
   "outputs": [],
   "source": [
    "def data_preprocess(X, y, problem=\"Regression\"):\n",
    "    \n",
    "    # Data type detection\n",
    "    numerical_ix = X.select_dtypes(include=['int64', 'float64']).columns\n",
    "    categorical_ix = X.select_dtypes(include=['object', 'bool']).columns\n",
    "    \n",
    "    # Data transform\n",
    "    num_transform = Pipeline(steps=[\n",
    "        ('imputer', SimpleImputer(strategy='mean')),\n",
    "        ('scaler', StandardScaler())\n",
    "    ])\n",
    "    cat_transform = Pipeline(steps=[\n",
    "        ('imputer', SimpleImputer(strategy='constant', fill_value=\"Missing\")),\n",
    "        ('oh_encoder', OneHotEncoder(sparse=False))\n",
    "    ])\n",
    "    \n",
    "    transform_x = ColumnTransformer(transformers=[\n",
    "        ('num', num_transform, numerical_ix),\n",
    "        ('cat', cat_transform, categorical_ix)\n",
    "    ])\n",
    "    if problem == \"Regression\":\n",
    "        transform_y = ColumnTransformer(transformers=[\n",
    "            ('num', Normalizer(), y.columns)\n",
    "        ])\n",
    "    else:\n",
    "        transform_y = ColumnTransformer(transformers=[\n",
    "            ('cat', cat_transform, y.columns)\n",
    "        ])\n",
    "        \n",
    "    return transform_x.fit_transform(X), transform_y.fit_transform(y)"
   ]
  },
  {
   "cell_type": "code",
   "execution_count": 7,
   "metadata": {},
   "outputs": [],
   "source": [
    "trans_X, trans_y = data_preprocess(X, y, problem=\"Regression\")"
   ]
  },
  {
   "cell_type": "code",
   "execution_count": 8,
   "metadata": {},
   "outputs": [
    {
     "data": {
      "text/plain": [
       "(array([[ 0.        , -0.46097065, -0.4852419 , ...,  0.        ,\n",
       "          0.        ,  0.        ],\n",
       "        [-0.21422328, -0.46097065, -0.4852419 , ...,  0.        ,\n",
       "          0.        ,  0.        ],\n",
       "        [-0.06201858, -0.46097065, -0.4852419 , ...,  0.        ,\n",
       "          0.        ,  0.        ],\n",
       "        ...,\n",
       "        [ 0.        , -0.46097065,  0.44524944, ...,  0.        ,\n",
       "          0.        ,  0.        ],\n",
       "        [ 0.        ,  1.78908189,  6.9586888 , ...,  0.        ,\n",
       "          0.        ,  0.        ],\n",
       "        [ 0.        , -0.46097065, -0.4852419 , ...,  0.        ,\n",
       "          0.        ,  0.        ]]), array([[0.],\n",
       "        [0.],\n",
       "        [1.],\n",
       "        ...,\n",
       "        [1.],\n",
       "        [0.],\n",
       "        [0.]]))"
      ]
     },
     "execution_count": 8,
     "metadata": {},
     "output_type": "execute_result"
    }
   ],
   "source": [
    "trans_X, trans_y"
   ]
  },
  {
   "cell_type": "code",
   "execution_count": null,
   "metadata": {},
   "outputs": [],
   "source": [
    "# class MLP:\n",
    "    \n",
    "#     def __init__():\n",
    "        \n",
    "#     def network_frame():\n",
    "        \n",
    "#     def build_block():\n",
    "        \n",
    "#     def auto_fit():\n",
    "        \n",
    "#     def get_param_grid(problem):"
   ]
  },
  {
   "cell_type": "code",
   "execution_count": null,
   "metadata": {},
   "outputs": [],
   "source": [
    "def build_model():\n",
    "    model\n",
    "    \n",
    "    append_dense_layer_block(model, unit)\n",
    "    \n",
    "    compile_model(problem, optimizer, loss, metrics)"
   ]
  },
  {
   "cell_type": "code",
   "execution_count": 101,
   "metadata": {},
   "outputs": [],
   "source": [
    "def build_models(trans_X, trans_y, hidden_layers=3, units=[16]):\n",
    "    \n",
    "    models = []\n",
    "    grid = [np.arange(hidden_layers)+1, units]\n",
    "    for param_tuple in itertools.product(*grid):\n",
    "        params = {'hidden_layers': param_tuple[0],\n",
    "                  'units': param_tuple[1]}\n",
    "        \n",
    "        # input layer\n",
    "        model = keras.Sequential()\n",
    "        model.add(keras.layers.Dense(16, input_shape=(trans_X.shape[1],)))\n",
    "        \n",
    "        # hidden layer block\n",
    "        for _ in range(params['hidden_layers']):\n",
    "            model.add(keras.layers.Dense(params['units'], activation='relu'))\n",
    "        \n",
    "        # output layer\n",
    "        model.add(keras.layers.Dense(1, activation='sigmoid'))\n",
    "        \n",
    "        models.append(model)\n",
    "    \n",
    "    return models"
   ]
  },
  {
   "cell_type": "code",
   "execution_count": 129,
   "metadata": {},
   "outputs": [],
   "source": [
    "def compile_model(model, problem, optimizer=keras.optimizers.Adadelta, lr=0.02):\n",
    "    \n",
    "    # compile network\n",
    "    if problem == \"Binary\":\n",
    "        loss = [keras.losses.binary_crossentropy]\n",
    "        metrics = ['accuracy']\n",
    "    elif problem == \"Regression\":\n",
    "        loss = [keras.losses.MSE]\n",
    "        metrics = ['MSE', 'MAE']\n",
    "    else:\n",
    "        loss = [keras.losses.categorical_crossentropy]\n",
    "        metrics = ['accuracy']\n",
    "\n",
    "    model.compile(optimizer=optimizer(learning_rate=lr),\n",
    "                  loss=loss,\n",
    "                  metrics=metrics)\n",
    "    \n",
    "    return model"
   ]
  },
  {
   "cell_type": "code",
   "execution_count": null,
   "metadata": {},
   "outputs": [],
   "source": [
    "optimizers = [keras.optimizers.Adadelta, keras.optimizers.SGD,\n",
    "              keras.optimizers.Adam, keras.optimizers.Adagrad,\n",
    "              keras.optimizers.Adamax, keras.optimizers.RMSprop]\n",
    "lrs = [0.001, 0.01, 0.02, 0.1]\n",
    "\n",
    "\n",
    "\n",
    "for lr in lrs:\n",
    "    "
   ]
  },
  {
   "cell_type": "code",
   "execution_count": null,
   "metadata": {},
   "outputs": [],
   "source": []
  },
  {
   "cell_type": "code",
   "execution_count": null,
   "metadata": {},
   "outputs": [],
   "source": []
  },
  {
   "cell_type": "code",
   "execution_count": null,
   "metadata": {},
   "outputs": [],
   "source": []
  },
  {
   "cell_type": "code",
   "execution_count": 130,
   "metadata": {},
   "outputs": [],
   "source": [
    "model_1 = compile_model(models[1], problem=\"Binary\")"
   ]
  },
  {
   "cell_type": "code",
   "execution_count": 131,
   "metadata": {},
   "outputs": [
    {
     "data": {
      "text/plain": [
       "<tf.Variable 'learning_rate:0' shape=() dtype=float32, numpy=0.02>"
      ]
     },
     "execution_count": 131,
     "metadata": {},
     "output_type": "execute_result"
    }
   ],
   "source": [
    "model_1.optimizer.lr"
   ]
  },
  {
   "cell_type": "code",
   "execution_count": 117,
   "metadata": {},
   "outputs": [
    {
     "data": {
      "text/plain": [
       "<tensorflow.python.keras.optimizer_v2.adam.Adam at 0x7f99496715c0>"
      ]
     },
     "execution_count": 117,
     "metadata": {},
     "output_type": "execute_result"
    }
   ],
   "source": [
    "def create_optimizer():\n",
    "\n",
    "    optimizer_classes = {'adadelta': keras.optimizers.Adadelta, 'sgd': keras.optimizers.SGD,\n",
    "                         'adam': keras.optimizers.Adam, 'adagrad': keras.optimizers.Adagrad,\n",
    "                         'adamax': keras.optimizers.Adamax, 'rmsprop': keras.optimizers.RMSprop}\n",
    "\n",
    "    opt_class = optimizer_classes.get('adam')\n",
    "    opt_class(0.2)"
   ]
  },
  {
   "cell_type": "code",
   "execution_count": 118,
   "metadata": {},
   "outputs": [
    {
     "ename": "AttributeError",
     "evalue": "type object 'Adam' has no attribute 'learning_rate'",
     "output_type": "error",
     "traceback": [
      "\u001b[0;31m---------------------------------------------------------------------------\u001b[0m",
      "\u001b[0;31mAttributeError\u001b[0m                            Traceback (most recent call last)",
      "\u001b[0;32m<ipython-input-118-869c927b5d0b>\u001b[0m in \u001b[0;36m<module>\u001b[0;34m\u001b[0m\n\u001b[0;32m----> 1\u001b[0;31m \u001b[0mopt_class\u001b[0m\u001b[0;34m.\u001b[0m\u001b[0mlearning_rate\u001b[0m\u001b[0;34m\u001b[0m\u001b[0;34m\u001b[0m\u001b[0m\n\u001b[0m",
      "\u001b[0;31mAttributeError\u001b[0m: type object 'Adam' has no attribute 'learning_rate'"
     ]
    }
   ],
   "source": [
    "opt_class.learning_rate"
   ]
  },
  {
   "cell_type": "code",
   "execution_count": 102,
   "metadata": {},
   "outputs": [],
   "source": [
    "models = build_models(trans_X, trans_y, hidden_layers=2, units=[16, 32, 64, 128])"
   ]
  },
  {
   "cell_type": "code",
   "execution_count": 103,
   "metadata": {},
   "outputs": [
    {
     "name": "stdout",
     "output_type": "stream",
     "text": [
      "Model: \"sequential_34\"\n",
      "_________________________________________________________________\n",
      "Layer (type)                 Output Shape              Param #   \n",
      "=================================================================\n",
      "dense_181 (Dense)            (None, 16)                12496     \n",
      "_________________________________________________________________\n",
      "dense_182 (Dense)            (None, 16)                272       \n",
      "_________________________________________________________________\n",
      "dense_183 (Dense)            (None, 1)                 17        \n",
      "=================================================================\n",
      "Total params: 12,785\n",
      "Trainable params: 12,785\n",
      "Non-trainable params: 0\n",
      "_________________________________________________________________\n",
      "Model: \"sequential_35\"\n",
      "_________________________________________________________________\n",
      "Layer (type)                 Output Shape              Param #   \n",
      "=================================================================\n",
      "dense_184 (Dense)            (None, 16)                12496     \n",
      "_________________________________________________________________\n",
      "dense_185 (Dense)            (None, 32)                544       \n",
      "_________________________________________________________________\n",
      "dense_186 (Dense)            (None, 1)                 33        \n",
      "=================================================================\n",
      "Total params: 13,073\n",
      "Trainable params: 13,073\n",
      "Non-trainable params: 0\n",
      "_________________________________________________________________\n",
      "Model: \"sequential_36\"\n",
      "_________________________________________________________________\n",
      "Layer (type)                 Output Shape              Param #   \n",
      "=================================================================\n",
      "dense_187 (Dense)            (None, 16)                12496     \n",
      "_________________________________________________________________\n",
      "dense_188 (Dense)            (None, 64)                1088      \n",
      "_________________________________________________________________\n",
      "dense_189 (Dense)            (None, 1)                 65        \n",
      "=================================================================\n",
      "Total params: 13,649\n",
      "Trainable params: 13,649\n",
      "Non-trainable params: 0\n",
      "_________________________________________________________________\n",
      "Model: \"sequential_37\"\n",
      "_________________________________________________________________\n",
      "Layer (type)                 Output Shape              Param #   \n",
      "=================================================================\n",
      "dense_190 (Dense)            (None, 16)                12496     \n",
      "_________________________________________________________________\n",
      "dense_191 (Dense)            (None, 128)               2176      \n",
      "_________________________________________________________________\n",
      "dense_192 (Dense)            (None, 1)                 129       \n",
      "=================================================================\n",
      "Total params: 14,801\n",
      "Trainable params: 14,801\n",
      "Non-trainable params: 0\n",
      "_________________________________________________________________\n",
      "Model: \"sequential_38\"\n",
      "_________________________________________________________________\n",
      "Layer (type)                 Output Shape              Param #   \n",
      "=================================================================\n",
      "dense_193 (Dense)            (None, 16)                12496     \n",
      "_________________________________________________________________\n",
      "dense_194 (Dense)            (None, 16)                272       \n",
      "_________________________________________________________________\n",
      "dense_195 (Dense)            (None, 16)                272       \n",
      "_________________________________________________________________\n",
      "dense_196 (Dense)            (None, 1)                 17        \n",
      "=================================================================\n",
      "Total params: 13,057\n",
      "Trainable params: 13,057\n",
      "Non-trainable params: 0\n",
      "_________________________________________________________________\n",
      "Model: \"sequential_39\"\n",
      "_________________________________________________________________\n",
      "Layer (type)                 Output Shape              Param #   \n",
      "=================================================================\n",
      "dense_197 (Dense)            (None, 16)                12496     \n",
      "_________________________________________________________________\n",
      "dense_198 (Dense)            (None, 32)                544       \n",
      "_________________________________________________________________\n",
      "dense_199 (Dense)            (None, 32)                1056      \n",
      "_________________________________________________________________\n",
      "dense_200 (Dense)            (None, 1)                 33        \n",
      "=================================================================\n",
      "Total params: 14,129\n",
      "Trainable params: 14,129\n",
      "Non-trainable params: 0\n",
      "_________________________________________________________________\n",
      "Model: \"sequential_40\"\n",
      "_________________________________________________________________\n",
      "Layer (type)                 Output Shape              Param #   \n",
      "=================================================================\n",
      "dense_201 (Dense)            (None, 16)                12496     \n",
      "_________________________________________________________________\n",
      "dense_202 (Dense)            (None, 64)                1088      \n",
      "_________________________________________________________________\n",
      "dense_203 (Dense)            (None, 64)                4160      \n",
      "_________________________________________________________________\n",
      "dense_204 (Dense)            (None, 1)                 65        \n",
      "=================================================================\n",
      "Total params: 17,809\n",
      "Trainable params: 17,809\n",
      "Non-trainable params: 0\n",
      "_________________________________________________________________\n",
      "Model: \"sequential_41\"\n",
      "_________________________________________________________________\n",
      "Layer (type)                 Output Shape              Param #   \n",
      "=================================================================\n",
      "dense_205 (Dense)            (None, 16)                12496     \n",
      "_________________________________________________________________\n",
      "dense_206 (Dense)            (None, 128)               2176      \n",
      "_________________________________________________________________\n",
      "dense_207 (Dense)            (None, 128)               16512     \n",
      "_________________________________________________________________\n",
      "dense_208 (Dense)            (None, 1)                 129       \n",
      "=================================================================\n",
      "Total params: 31,313\n",
      "Trainable params: 31,313\n",
      "Non-trainable params: 0\n",
      "_________________________________________________________________\n"
     ]
    }
   ],
   "source": [
    "for model in models:\n",
    "    model.summary()"
   ]
  },
  {
   "cell_type": "code",
   "execution_count": null,
   "metadata": {},
   "outputs": [],
   "source": []
  }
 ],
 "metadata": {
  "kernelspec": {
   "display_name": "Python 3",
   "language": "python",
   "name": "python3"
  },
  "language_info": {
   "codemirror_mode": {
    "name": "ipython",
    "version": 3
   },
   "file_extension": ".py",
   "mimetype": "text/x-python",
   "name": "python",
   "nbconvert_exporter": "python",
   "pygments_lexer": "ipython3",
   "version": "3.7.1"
  }
 },
 "nbformat": 4,
 "nbformat_minor": 4
}
