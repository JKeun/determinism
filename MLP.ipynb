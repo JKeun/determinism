{
 "cells": [
  {
   "cell_type": "code",
   "execution_count": null,
   "metadata": {},
   "outputs": [],
   "source": [
    "class MLP:\n",
    "    \n",
    "    def __init__():\n",
    "        \n",
    "        \n",
    "    def network_frame():\n",
    "        \n",
    "    \n",
    "    def build_block():\n",
    "        \n",
    "        \n",
    "    def auto_fit():\n",
    "        \n",
    "        \n",
    "    def get_param_grid(problem):"
   ]
  },
  {
   "cell_type": "code",
   "execution_count": null,
   "metadata": {},
   "outputs": [],
   "source": [
    "class DataSource:\n",
    "    \n",
    "    def define_problem():\n",
    "        \n",
    "        \n",
    "    def data_preprocess():\n",
    "        \n",
    "        \n",
    "    def data_load_split():"
   ]
  },
  {
   "cell_type": "code",
   "execution_count": 1,
   "metadata": {},
   "outputs": [],
   "source": [
    "import itertools\n",
    "import numpy as np\n",
    "import pandas as pd\n",
    "import tensorflow as tf\n",
    "from tensorflow import keras\n",
    "\n",
    "from tensorflow import keras\n",
    "from sklearn.model_selection import train_test_split\n",
    "from sklearn.compose import ColumnTransformer\n",
    "from sklearn.impute import SimpleImputer\n",
    "from sklearn.pipeline import Pipeline\n",
    "from sklearn.preprocessing import Normalizer, OneHotEncoder, StandardScaler"
   ]
  },
  {
   "cell_type": "markdown",
   "metadata": {},
   "source": [
    "### DataSource"
   ]
  },
  {
   "cell_type": "code",
   "execution_count": 2,
   "metadata": {},
   "outputs": [],
   "source": [
    "def data_load_split(filename, target=None, ignore=None):\n",
    "    \"\"\"\n",
    "    Args:\n",
    "        filename: from where to load\n",
    "        target: list\n",
    "        ignore: list\n",
    "        \n",
    "    Returns:\n",
    "        X: inputs DataFrame\n",
    "        y: target DataFrame\n",
    "    \"\"\"\n",
    "    df = pd.read_csv(filename)\n",
    "    \n",
    "    target = target\n",
    "    ignore = ignore\n",
    "    \n",
    "    inputs = sorted(set(df.columns) - set(target) - set(ignore))\n",
    "    \n",
    "    return df[inputs], df[target]"
   ]
  },
  {
   "cell_type": "code",
   "execution_count": 4,
   "metadata": {},
   "outputs": [],
   "source": [
    "filename = \"./data/titanic_train.csv\"\n",
    "target = [\"Survived\"]\n",
    "ignore = [\"Name\", \"Cabin\", \"Ticket\"]\n",
    "\n",
    "X, y = data_load_split(filename, target, ignore)"
   ]
  },
  {
   "cell_type": "code",
   "execution_count": 5,
   "metadata": {
    "scrolled": true
   },
   "outputs": [
    {
     "data": {
      "text/plain": [
       "Survived    True\n",
       "dtype: bool"
      ]
     },
     "execution_count": 5,
     "metadata": {},
     "output_type": "execute_result"
    }
   ],
   "source": [
    "y.dtypes == 'int64'"
   ]
  },
  {
   "cell_type": "code",
   "execution_count": 42,
   "metadata": {},
   "outputs": [
    {
     "data": {
      "text/plain": [
       "Survived    2\n",
       "dtype: int64"
      ]
     },
     "execution_count": 42,
     "metadata": {},
     "output_type": "execute_result"
    }
   ],
   "source": [
    "y.nunique()"
   ]
  },
  {
   "cell_type": "code",
   "execution_count": 24,
   "metadata": {},
   "outputs": [],
   "source": [
    "def define_problem(y):\n",
    "    if y.dtypes[0] in ['int64', 'float64']:\n",
    "        problem = \"Regression\"\n",
    "    elif y.dtypes[0] in ['object', 'bool']:\n",
    "        problem = \"Classification\"\n",
    "    else:\n",
    "        None\n",
    "    \n",
    "    return problem"
   ]
  },
  {
   "cell_type": "code",
   "execution_count": 25,
   "metadata": {},
   "outputs": [
    {
     "data": {
      "text/plain": [
       "'Regression'"
      ]
     },
     "execution_count": 25,
     "metadata": {},
     "output_type": "execute_result"
    }
   ],
   "source": [
    "define_problem(y)"
   ]
  },
  {
   "cell_type": "code",
   "execution_count": 28,
   "metadata": {},
   "outputs": [],
   "source": [
    "def data_preprocess(X, y, problem=\"Regression\"):\n",
    "    \n",
    "    # Data type detection\n",
    "    numerical_ix = X.select_dtypes(include=['int64', 'float64']).columns\n",
    "    categorical_ix = X.select_dtypes(include=['object', 'bool']).columns\n",
    "    \n",
    "    # Data transform\n",
    "    num_transform = Pipeline(steps=[\n",
    "        ('imputer', SimpleImputer(strategy='mean')),\n",
    "        ('scaler', StandardScaler())\n",
    "    ])\n",
    "    cat_transform = Pipeline(steps=[\n",
    "        ('imputer', SimpleImputer(strategy='constant', fill_value=\"Missing\")),\n",
    "        ('oh_encoder', OneHotEncoder(sparse=False))\n",
    "    ])\n",
    "    \n",
    "    transform_x = ColumnTransformer(transformers=[\n",
    "        ('num', num_transform, numerical_ix),\n",
    "        ('cat', cat_transform, categorical_ix)\n",
    "    ])\n",
    "    if problem == \"Regression\":\n",
    "        transform_y = ColumnTransformer(transformers=[\n",
    "            ('num', Normalizer(), y.columns)\n",
    "        ])\n",
    "    else:\n",
    "        transform_y = ColumnTransformer(transformers=[\n",
    "            ('cat', cat_transform, y.columns)\n",
    "        ])\n",
    "        \n",
    "    return transform_x.fit_transform(X), transform_y.fit_transform(y)"
   ]
  },
  {
   "cell_type": "code",
   "execution_count": 7,
   "metadata": {},
   "outputs": [],
   "source": [
    "df = pd.read_csv(filename)"
   ]
  },
  {
   "cell_type": "code",
   "execution_count": 13,
   "metadata": {},
   "outputs": [
    {
     "data": {
      "text/plain": [
       "Index(['Age', 'Number_of_Parents_or_Children', 'Number_of_Sibling_or_Spouses',\n",
       "       'Passenger_Fare', 'Passenger_ID'],\n",
       "      dtype='object')"
      ]
     },
     "execution_count": 13,
     "metadata": {},
     "output_type": "execute_result"
    }
   ],
   "source": [
    "X.select_dtypes(include=['int64', 'float64']).columns"
   ]
  },
  {
   "cell_type": "code",
   "execution_count": 12,
   "metadata": {},
   "outputs": [
    {
     "data": {
      "text/plain": [
       "Index(['Passenger_Class', 'Port_of_Embarkation', 'Sex', 'Ticket_Number'], dtype='object')"
      ]
     },
     "execution_count": 12,
     "metadata": {},
     "output_type": "execute_result"
    }
   ],
   "source": [
    "X.select_dtypes(include=['object', 'bool']).columns"
   ]
  },
  {
   "cell_type": "code",
   "execution_count": 14,
   "metadata": {},
   "outputs": [
    {
     "data": {
      "text/plain": [
       "Index(['Survived'], dtype='object')"
      ]
     },
     "execution_count": 14,
     "metadata": {},
     "output_type": "execute_result"
    }
   ],
   "source": [
    "y.select_dtypes(include=['int64', 'float64']).columns"
   ]
  },
  {
   "cell_type": "code",
   "execution_count": 22,
   "metadata": {},
   "outputs": [
    {
     "data": {
      "text/plain": [
       "Index(['Survived'], dtype='object')"
      ]
     },
     "execution_count": 22,
     "metadata": {},
     "output_type": "execute_result"
    }
   ],
   "source": [
    "y.columns"
   ]
  },
  {
   "cell_type": "code",
   "execution_count": 29,
   "metadata": {},
   "outputs": [],
   "source": [
    "trans_x, trans_y = data_preprocess(X, y)"
   ]
  },
  {
   "cell_type": "code",
   "execution_count": 30,
   "metadata": {},
   "outputs": [
    {
     "data": {
      "text/plain": [
       "array([[0.],\n",
       "       [0.],\n",
       "       [1.],\n",
       "       ...,\n",
       "       [1.],\n",
       "       [0.],\n",
       "       [0.]])"
      ]
     },
     "execution_count": 30,
     "metadata": {},
     "output_type": "execute_result"
    }
   ],
   "source": [
    "trans_y"
   ]
  },
  {
   "cell_type": "code",
   "execution_count": null,
   "metadata": {},
   "outputs": [],
   "source": []
  },
  {
   "cell_type": "code",
   "execution_count": null,
   "metadata": {},
   "outputs": [],
   "source": []
  },
  {
   "cell_type": "code",
   "execution_count": null,
   "metadata": {},
   "outputs": [],
   "source": []
  },
  {
   "cell_type": "code",
   "execution_count": null,
   "metadata": {},
   "outputs": [],
   "source": []
  },
  {
   "cell_type": "code",
   "execution_count": null,
   "metadata": {},
   "outputs": [],
   "source": []
  }
 ],
 "metadata": {
  "kernelspec": {
   "display_name": "Python 3",
   "language": "python",
   "name": "python3"
  },
  "language_info": {
   "codemirror_mode": {
    "name": "ipython",
    "version": 3
   },
   "file_extension": ".py",
   "mimetype": "text/x-python",
   "name": "python",
   "nbconvert_exporter": "python",
   "pygments_lexer": "ipython3",
   "version": "3.7.6"
  }
 },
 "nbformat": 4,
 "nbformat_minor": 4
}
