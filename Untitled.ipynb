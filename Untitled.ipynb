{
 "cells": [
  {
   "cell_type": "code",
   "execution_count": 1,
   "metadata": {},
   "outputs": [],
   "source": [
    "from __future__ import absolute_import, division, print_function, unicode_literals\n",
    "\n",
    "import tensorflow as tf\n",
    "import numpy as np\n",
    "\n",
    "from tensorflow.keras import layers"
   ]
  },
  {
   "cell_type": "code",
   "execution_count": 2,
   "metadata": {},
   "outputs": [],
   "source": [
    "from DataLoader import get_processed_mnist_data\n",
    "\n",
    "x_train, y_train, x_val, y_val, x_test, y_test = get_processed_mnist_data()"
   ]
  },
  {
   "cell_type": "code",
   "execution_count": 3,
   "metadata": {},
   "outputs": [
    {
     "name": "stdout",
     "output_type": "stream",
     "text": [
      "Train on 50000 samples\n",
      "Epoch 1/3\n",
      "50000/50000 [==============================] - 4s 82us/sample - loss: 1.7218 - sparse_categorical_accuracy: 0.7545\n",
      "Epoch 2/3\n",
      "50000/50000 [==============================] - 4s 76us/sample - loss: 1.6188 - sparse_categorical_accuracy: 0.8467\n",
      "Epoch 3/3\n",
      "50000/50000 [==============================] - 4s 70us/sample - loss: 1.6047 - sparse_categorical_accuracy: 0.8584\n"
     ]
    },
    {
     "data": {
      "text/plain": [
       "<tensorflow.python.keras.callbacks.History at 0x7f4a2d75b048>"
      ]
     },
     "execution_count": 3,
     "metadata": {},
     "output_type": "execute_result"
    }
   ],
   "source": [
    "from Models import get_simple_nn, get_compiled_simple_nn\n",
    "\n",
    "tf.random.set_seed(42)\n",
    "model1 = get_compiled_simple_nn()\n",
    "model1.fit(x_train, y_train, batch_size=64, epochs=3)"
   ]
  },
  {
   "cell_type": "code",
   "execution_count": 4,
   "metadata": {},
   "outputs": [
    {
     "name": "stdout",
     "output_type": "stream",
     "text": [
      "Train on 50000 samples\n",
      "Epoch 1/3\n",
      "50000/50000 [==============================] - 4s 77us/sample - loss: 1.7218 - sparse_categorical_accuracy: 0.7545\n",
      "Epoch 2/3\n",
      "50000/50000 [==============================] - 5s 94us/sample - loss: 1.6188 - sparse_categorical_accuracy: 0.8467\n",
      "Epoch 3/3\n",
      "50000/50000 [==============================] - 4s 77us/sample - loss: 1.6047 - sparse_categorical_accuracy: 0.8584\n"
     ]
    },
    {
     "data": {
      "text/plain": [
       "<tensorflow.python.keras.callbacks.History at 0x7f4a2d32f0f0>"
      ]
     },
     "execution_count": 4,
     "metadata": {},
     "output_type": "execute_result"
    }
   ],
   "source": [
    "tf.random.set_seed(42)\n",
    "model2 = get_compiled_simple_nn()\n",
    "model2.fit(x_train, y_train, batch_size=64, epochs=3)"
   ]
  },
  {
   "cell_type": "markdown",
   "metadata": {},
   "source": [
    "#### Trianble weights"
   ]
  },
  {
   "cell_type": "code",
   "execution_count": 5,
   "metadata": {},
   "outputs": [],
   "source": [
    "weights1 = model1.trainable_weights\n",
    "weights2 = model2.trainable_weights"
   ]
  },
  {
   "cell_type": "code",
   "execution_count": 6,
   "metadata": {},
   "outputs": [
    {
     "name": "stdout",
     "output_type": "stream",
     "text": [
      "50176\n",
      "64\n",
      "2048\n",
      "32\n",
      "320\n",
      "10\n"
     ]
    }
   ],
   "source": [
    "for w1, w2 in zip(weights1, weights2):\n",
    "    w1 = w1.numpy().flatten()\n",
    "    w2 = w2.numpy().flatten()\n",
    "    \n",
    "    print(len(w1))\n",
    "    np.testing.assert_allclose(w1, w2, rtol=1e-6, atol=1e-6)"
   ]
  },
  {
   "cell_type": "markdown",
   "metadata": {},
   "source": [
    "#### validation eval"
   ]
  },
  {
   "cell_type": "code",
   "execution_count": 7,
   "metadata": {},
   "outputs": [
    {
     "name": "stdout",
     "output_type": "stream",
     "text": [
      "10000/10000 [==============================] - 1s 61us/sample - loss: 1.5980 - sparse_categorical_accuracy: 0.8634\n"
     ]
    },
    {
     "data": {
      "text/plain": [
       "[1.5980391542434693, 0.8634]"
      ]
     },
     "execution_count": 7,
     "metadata": {},
     "output_type": "execute_result"
    }
   ],
   "source": [
    "model1.evaluate(x_val, y_val, batch_size=64)"
   ]
  },
  {
   "cell_type": "code",
   "execution_count": 8,
   "metadata": {},
   "outputs": [
    {
     "name": "stdout",
     "output_type": "stream",
     "text": [
      "10000/10000 [==============================] - 1s 63us/sample - loss: 1.5980 - sparse_categorical_accuracy: 0.8634\n"
     ]
    },
    {
     "data": {
      "text/plain": [
       "[1.5980391542434693, 0.8634]"
      ]
     },
     "execution_count": 8,
     "metadata": {},
     "output_type": "execute_result"
    }
   ],
   "source": [
    "model2.evaluate(x_val, y_val, batch_size=64)"
   ]
  },
  {
   "cell_type": "markdown",
   "metadata": {},
   "source": [
    "#### Test predictions"
   ]
  },
  {
   "cell_type": "code",
   "execution_count": 9,
   "metadata": {},
   "outputs": [],
   "source": [
    "pred1 = model1.predict(x_test)\n",
    "pred2 = model2.predict(x_test)\n",
    "np.testing.assert_allclose(pred1, pred2, rtol=1e-6, atol=1e-6)"
   ]
  },
  {
   "cell_type": "code",
   "execution_count": null,
   "metadata": {},
   "outputs": [],
   "source": []
  }
 ],
 "metadata": {
  "kernelspec": {
   "display_name": "Python 3",
   "language": "python",
   "name": "python3"
  },
  "language_info": {
   "codemirror_mode": {
    "name": "ipython",
    "version": 3
   },
   "file_extension": ".py",
   "mimetype": "text/x-python",
   "name": "python",
   "nbconvert_exporter": "python",
   "pygments_lexer": "ipython3",
   "version": "3.7.1"
  }
 },
 "nbformat": 4,
 "nbformat_minor": 4
}
