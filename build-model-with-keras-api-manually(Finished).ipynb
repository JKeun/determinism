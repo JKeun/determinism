{
 "cells": [
  {
   "cell_type": "code",
   "execution_count": 1,
   "metadata": {},
   "outputs": [],
   "source": [
    "import tensorflow as tf\n",
    "from tensorflow import keras\n",
    "import numpy as np\n",
    "import pandas as pd\n",
    "from src.DataSource import DataSource"
   ]
  },
  {
   "cell_type": "code",
   "execution_count": 2,
   "metadata": {},
   "outputs": [],
   "source": [
    "filename=\"./data/titanic_train.csv\"\n",
    "ds_titanic = DataSource(filename)\n",
    "\n",
    "ds_titanic.data_load_split(target=['Survived'], \n",
    "                   ignore=[\"Name\", \"Cabin\", \"Ticket\"])\n",
    "ds_titanic.define_problem()\n",
    "ds_titanic.train_val_split(ratio=0.2, random_state=42)\n",
    "ds_titanic.data_preprocess(ds_titanic.X_train, ds_titanic.y_train, train_set=True)\n",
    "ds_titanic.data_preprocess(ds_titanic.X_val, ds_titanic.y_val, train_set=False)"
   ]
  },
  {
   "cell_type": "markdown",
   "metadata": {},
   "source": [
    "### Whether made from Functional APi vs Sequential, Is it same or not?\n",
    "- result: `same`"
   ]
  },
  {
   "cell_type": "code",
   "execution_count": 3,
   "metadata": {},
   "outputs": [],
   "source": [
    "def get_mlp_with_api():\n",
    "    tf.random.set_seed(42)\n",
    "    inputs = keras.Input(shape=(ds_titanic.trans_X_train.shape[1]))\n",
    "    x = keras.layers.Dense(16, activation='relu')(inputs)\n",
    "    x = keras.layers.Dense(16, activation='relu')(x)\n",
    "    outputs = keras.layers.Dense(1, activation='sigmoid')(x)\n",
    "    model = tf.keras.Model(inputs=inputs, outputs=outputs)\n",
    "    return model"
   ]
  },
  {
   "cell_type": "code",
   "execution_count": 14,
   "metadata": {},
   "outputs": [
    {
     "name": "stdout",
     "output_type": "stream",
     "text": [
      "Model: \"model_1\"\n",
      "_________________________________________________________________\n",
      "Layer (type)                 Output Shape              Param #   \n",
      "=================================================================\n",
      "input_3 (InputLayer)         [(None, 662)]             0         \n",
      "_________________________________________________________________\n",
      "dense_15 (Dense)             (None, 16)                10608     \n",
      "_________________________________________________________________\n",
      "dense_16 (Dense)             (None, 16)                272       \n",
      "_________________________________________________________________\n",
      "dense_17 (Dense)             (None, 1)                 17        \n",
      "=================================================================\n",
      "Total params: 10,897\n",
      "Trainable params: 10,897\n",
      "Non-trainable params: 0\n",
      "_________________________________________________________________\n"
     ]
    }
   ],
   "source": [
    "model1 = get_mlp_with_api()\n",
    "model1.summary()"
   ]
  },
  {
   "cell_type": "code",
   "execution_count": 11,
   "metadata": {},
   "outputs": [],
   "source": [
    "def get_mlp_with_sequential():\n",
    "    tf.random.set_seed(42)\n",
    "    model = keras.Sequential()\n",
    "    model.add(keras.layers.Input(shape=(ds_titanic.trans_X_train.shape[1],)))\n",
    "    model.add(keras.layers.Dense(16, activation='relu'))\n",
    "    model.add(keras.layers.Dense(16, activation='relu'))\n",
    "    model.add(keras.layers.Dense(1, activation='sigmoid'))\n",
    "    return model"
   ]
  },
  {
   "cell_type": "code",
   "execution_count": 15,
   "metadata": {},
   "outputs": [
    {
     "name": "stdout",
     "output_type": "stream",
     "text": [
      "Model: \"sequential_4\"\n",
      "_________________________________________________________________\n",
      "Layer (type)                 Output Shape              Param #   \n",
      "=================================================================\n",
      "dense_18 (Dense)             (None, 16)                10608     \n",
      "_________________________________________________________________\n",
      "dense_19 (Dense)             (None, 16)                272       \n",
      "_________________________________________________________________\n",
      "dense_20 (Dense)             (None, 1)                 17        \n",
      "=================================================================\n",
      "Total params: 10,897\n",
      "Trainable params: 10,897\n",
      "Non-trainable params: 0\n",
      "_________________________________________________________________\n"
     ]
    }
   ],
   "source": [
    "model2 = get_mlp_with_sequential()\n",
    "model2.summary()"
   ]
  },
  {
   "cell_type": "code",
   "execution_count": 16,
   "metadata": {},
   "outputs": [],
   "source": [
    "model1.compile(optimizer=keras.optimizers.Adadelta(),\n",
    "              loss=keras.losses.binary_crossentropy,\n",
    "              metrics=['accuracy'])\n",
    "\n",
    "model2.compile(optimizer=keras.optimizers.Adadelta(),\n",
    "              loss=keras.losses.binary_crossentropy,\n",
    "              metrics=['accuracy'])"
   ]
  },
  {
   "cell_type": "code",
   "execution_count": 17,
   "metadata": {},
   "outputs": [
    {
     "name": "stdout",
     "output_type": "stream",
     "text": [
      "210/210 [==============================] - 0s 72us/sample - loss: 0.6886 - accuracy: 0.5857\n",
      "210/210 [==============================] - 0s 77us/sample - loss: 0.6886 - accuracy: 0.5857\n"
     ]
    },
    {
     "data": {
      "text/plain": [
       "[0.6885807741255987, 0.5857142857142857]"
      ]
     },
     "execution_count": 17,
     "metadata": {},
     "output_type": "execute_result"
    }
   ],
   "source": [
    "callbacks=tf.keras.callbacks.EarlyStopping(monitor='val_loss', patience=5, restore_best_weights=True)\n",
    "\n",
    "model1.fit(x=ds_titanic.trans_X_train, y=ds_titanic.trans_y_train,\n",
    "          batch_size=64, epochs=10,\n",
    "          verbose=0, callbacks=[callbacks],\n",
    "          validation_data=(ds_titanic.trans_X_val, ds_titanic.trans_y_val), shuffle=True)\n",
    "\n",
    "model1.evaluate(ds_titanic.trans_X_val, ds_titanic.trans_y_val)\n",
    "\n",
    "\n",
    "model2.fit(x=ds_titanic.trans_X_train, y=ds_titanic.trans_y_train,\n",
    "          batch_size=64, epochs=10,\n",
    "          verbose=0, callbacks=[callbacks],\n",
    "          validation_data=(ds_titanic.trans_X_val, ds_titanic.trans_y_val), shuffle=True)\n",
    "\n",
    "model2.evaluate(ds_titanic.trans_X_val, ds_titanic.trans_y_val)"
   ]
  },
  {
   "cell_type": "markdown",
   "metadata": {},
   "source": [
    "### If making the same model repeatedly, are the results same?\n",
    "- result: `same`"
   ]
  },
  {
   "cell_type": "code",
   "execution_count": 40,
   "metadata": {},
   "outputs": [],
   "source": [
    "def get_mlp_with_sequential_times(times=3):\n",
    "    models = []\n",
    "    for _ in range(times):\n",
    "        tf.random.set_seed(42)\n",
    "        model = keras.Sequential()\n",
    "        model.add(keras.layers.Input(shape=(ds_titanic.trans_X_train.shape[1],)))\n",
    "        model.add(keras.layers.Dense(16, activation='relu'))\n",
    "        model.add(keras.layers.Dense(16, activation='relu'))\n",
    "        model.add(keras.layers.Dense(1, activation='sigmoid'))\n",
    "        models.append(model)\n",
    "    return models"
   ]
  },
  {
   "cell_type": "code",
   "execution_count": 41,
   "metadata": {},
   "outputs": [],
   "source": [
    "models = get_mlp_with_sequential_times(3)"
   ]
  },
  {
   "cell_type": "code",
   "execution_count": 42,
   "metadata": {},
   "outputs": [],
   "source": [
    "for model in models:\n",
    "    model.compile(optimizer=keras.optimizers.Adadelta(),\n",
    "              loss=keras.losses.binary_crossentropy,\n",
    "              metrics=['accuracy'])"
   ]
  },
  {
   "cell_type": "code",
   "execution_count": 43,
   "metadata": {},
   "outputs": [],
   "source": [
    "for model in models:\n",
    "    callbacks=tf.keras.callbacks.EarlyStopping(monitor='val_loss', patience=5, restore_best_weights=True)\n",
    "\n",
    "    model.fit(x=ds_titanic.trans_X_train, y=ds_titanic.trans_y_train,\n",
    "          batch_size=64, epochs=10,\n",
    "          verbose=0, callbacks=[callbacks],\n",
    "          validation_data=(ds_titanic.trans_X_val, ds_titanic.trans_y_val), shuffle=True)"
   ]
  },
  {
   "cell_type": "code",
   "execution_count": 44,
   "metadata": {},
   "outputs": [
    {
     "name": "stdout",
     "output_type": "stream",
     "text": [
      "210/210 [==============================] - 0s 95us/sample - loss: 0.6886 - accuracy: 0.5857\n",
      "210/210 [==============================] - 0s 170us/sample - loss: 0.6886 - accuracy: 0.5857\n",
      "210/210 [==============================] - 0s 99us/sample - loss: 0.6886 - accuracy: 0.5857\n"
     ]
    }
   ],
   "source": [
    "for model in models:\n",
    "    model.evaluate(ds_titanic.trans_X_val, ds_titanic.trans_y_val)"
   ]
  },
  {
   "cell_type": "markdown",
   "metadata": {},
   "source": [
    "### If making the 2-layered-mlp with iteration or manually, are the results same?\n",
    "- result: `same`\n",
    "- Need to develop a function to create a model\n",
    "- And using the function repeatedly to develop several models with many different structures."
   ]
  },
  {
   "cell_type": "code",
   "execution_count": 55,
   "metadata": {},
   "outputs": [],
   "source": [
    "def get_mlp_with_sequential_auto(hidden=2):\n",
    "    tf.random.set_seed(42)\n",
    "    model = keras.Sequential()\n",
    "    model.add(keras.layers.Input(shape=(ds_titanic.trans_X_train.shape[1],)))\n",
    "    for _ in range(hidden):\n",
    "#         tf.random.set_seed(42)\n",
    "        model.add(keras.layers.Dense(16, activation='relu'))\n",
    "    model.add(keras.layers.Dense(1, activation='sigmoid'))\n",
    "    return model"
   ]
  },
  {
   "cell_type": "code",
   "execution_count": 56,
   "metadata": {},
   "outputs": [
    {
     "name": "stdout",
     "output_type": "stream",
     "text": [
      "Model: \"sequential_22\"\n",
      "_________________________________________________________________\n",
      "Layer (type)                 Output Shape              Param #   \n",
      "=================================================================\n",
      "dense_69 (Dense)             (None, 16)                10608     \n",
      "_________________________________________________________________\n",
      "dense_70 (Dense)             (None, 16)                272       \n",
      "_________________________________________________________________\n",
      "dense_71 (Dense)             (None, 1)                 17        \n",
      "=================================================================\n",
      "Total params: 10,897\n",
      "Trainable params: 10,897\n",
      "Non-trainable params: 0\n",
      "_________________________________________________________________\n"
     ]
    }
   ],
   "source": [
    "model1 = get_mlp_with_sequential_auto()\n",
    "model1.summary()"
   ]
  },
  {
   "cell_type": "code",
   "execution_count": 57,
   "metadata": {},
   "outputs": [
    {
     "name": "stdout",
     "output_type": "stream",
     "text": [
      "Model: \"sequential_23\"\n",
      "_________________________________________________________________\n",
      "Layer (type)                 Output Shape              Param #   \n",
      "=================================================================\n",
      "dense_72 (Dense)             (None, 16)                10608     \n",
      "_________________________________________________________________\n",
      "dense_73 (Dense)             (None, 16)                272       \n",
      "_________________________________________________________________\n",
      "dense_74 (Dense)             (None, 1)                 17        \n",
      "=================================================================\n",
      "Total params: 10,897\n",
      "Trainable params: 10,897\n",
      "Non-trainable params: 0\n",
      "_________________________________________________________________\n"
     ]
    }
   ],
   "source": [
    "model2 = get_mlp_with_sequential()\n",
    "model2.summary()"
   ]
  },
  {
   "cell_type": "code",
   "execution_count": 58,
   "metadata": {},
   "outputs": [
    {
     "name": "stdout",
     "output_type": "stream",
     "text": [
      "210/210 [==============================] - 0s 226us/sample - loss: 0.6886 - accuracy: 0.5857\n",
      "210/210 [==============================] - 0s 81us/sample - loss: 0.6886 - accuracy: 0.5857\n"
     ]
    }
   ],
   "source": [
    "for model in [model1, model2]:\n",
    "    model.compile(optimizer=keras.optimizers.Adadelta(),\n",
    "              loss=keras.losses.binary_crossentropy,\n",
    "              metrics=['accuracy'])\n",
    "for model in [model1, model2]:\n",
    "    callbacks=tf.keras.callbacks.EarlyStopping(monitor='val_loss', patience=5, restore_best_weights=True)\n",
    "\n",
    "    model.fit(x=ds_titanic.trans_X_train, y=ds_titanic.trans_y_train,\n",
    "          batch_size=64, epochs=10,\n",
    "          verbose=0, callbacks=[callbacks],\n",
    "          validation_data=(ds_titanic.trans_X_val, ds_titanic.trans_y_val), shuffle=True)\n",
    "for model in [model1, model2]:\n",
    "    model.evaluate(ds_titanic.trans_X_val, ds_titanic.trans_y_val)"
   ]
  },
  {
   "cell_type": "markdown",
   "metadata": {},
   "source": [
    "### MLP model that user can build it's structure"
   ]
  },
  {
   "cell_type": "code",
   "execution_count": 67,
   "metadata": {},
   "outputs": [],
   "source": [
    "def get_mlp(hidden=1, unit=16):\n",
    "    tf.random.set_seed(42)\n",
    "    model = keras.Sequential()\n",
    "    model.add(keras.layers.Input(shape=(ds_titanic.trans_X_train.shape[1],)))\n",
    "    for _ in range(hidden):\n",
    "        model.add(keras.layers.Dense(unit, activation='relu'))\n",
    "    model.add(keras.layers.Dense(1, activation='sigmoid'))\n",
    "    return model"
   ]
  },
  {
   "cell_type": "code",
   "execution_count": 64,
   "metadata": {},
   "outputs": [],
   "source": [
    "def get_structures(max_hidden=1, units=[16], use_all=False):\n",
    "    if use_all:\n",
    "        max_hidden = 3\n",
    "        units = [16, 32, 64, 128, 256]\n",
    "    else:\n",
    "        max_hidden = max_hidden\n",
    "        units = units\n",
    "        \n",
    "    grid = [np.arange(max_hidden)+1, units]\n",
    "    return grid"
   ]
  },
  {
   "cell_type": "code",
   "execution_count": 70,
   "metadata": {},
   "outputs": [
    {
     "data": {
      "text/plain": [
       "[array([1, 2]), [16]]"
      ]
     },
     "execution_count": 70,
     "metadata": {},
     "output_type": "execute_result"
    }
   ],
   "source": [
    "grid = get_structures(max_hidden=2, units=[16])\n",
    "grid"
   ]
  },
  {
   "cell_type": "code",
   "execution_count": 72,
   "metadata": {},
   "outputs": [],
   "source": [
    "import itertools\n",
    "\n",
    "def build_mlps(grid):\n",
    "    models = []\n",
    "    for param_tuple in itertools.product(*grid):\n",
    "        structure_param = {'hidden_layers': param_tuple[0],\n",
    "                           'units': param_tuple[1]}\n",
    "        \n",
    "        model = get_mlp(hidden=structure_param['hidden_layers'], unit=structure_param['units'])\n",
    "        models.append(model)\n",
    "    return models"
   ]
  },
  {
   "cell_type": "code",
   "execution_count": 73,
   "metadata": {},
   "outputs": [],
   "source": [
    "models = build_mlps(grid)"
   ]
  },
  {
   "cell_type": "code",
   "execution_count": 79,
   "metadata": {},
   "outputs": [
    {
     "name": "stdout",
     "output_type": "stream",
     "text": [
      "210/210 [==============================] - 0s 52us/sample - loss: 0.7052 - accuracy: 0.4476\n",
      "210/210 [==============================] - 0s 113us/sample - loss: 0.6886 - accuracy: 0.5857\n"
     ]
    }
   ],
   "source": [
    "for model in models:\n",
    "    model.compile(optimizer=keras.optimizers.Adadelta(),\n",
    "              loss=keras.losses.binary_crossentropy,\n",
    "              metrics=['accuracy'])\n",
    "for model in models:\n",
    "    callbacks=tf.keras.callbacks.EarlyStopping(monitor='val_loss', patience=5, restore_best_weights=True)\n",
    "\n",
    "    model.fit(x=ds_titanic.trans_X_train, y=ds_titanic.trans_y_train,\n",
    "          batch_size=64, epochs=10,\n",
    "          verbose=0, callbacks=[callbacks],\n",
    "          validation_data=(ds_titanic.trans_X_val, ds_titanic.trans_y_val), shuffle=True)\n",
    "for model in models:\n",
    "    model.evaluate(ds_titanic.trans_X_val, ds_titanic.trans_y_val)"
   ]
  },
  {
   "cell_type": "code",
   "execution_count": 81,
   "metadata": {},
   "outputs": [],
   "source": [
    "# single models\n",
    "model_1 = get_mlp(hidden=1, unit=16)\n",
    "model_2 = get_mlp(hidden=2, unit=16)"
   ]
  },
  {
   "cell_type": "code",
   "execution_count": 83,
   "metadata": {},
   "outputs": [
    {
     "name": "stdout",
     "output_type": "stream",
     "text": [
      "210/210 [==============================] - 0s 57us/sample - loss: 0.7052 - accuracy: 0.4476\n",
      "210/210 [==============================] - 0s 145us/sample - loss: 0.6886 - accuracy: 0.5857\n"
     ]
    }
   ],
   "source": [
    "models_1 = [model_1, model_2]\n",
    "for model in models_1:\n",
    "    model.compile(optimizer=keras.optimizers.Adadelta(),\n",
    "              loss=keras.losses.binary_crossentropy,\n",
    "              metrics=['accuracy'])\n",
    "for model in models_1:\n",
    "    callbacks=tf.keras.callbacks.EarlyStopping(monitor='val_loss', patience=5, restore_best_weights=True)\n",
    "\n",
    "    model.fit(x=ds_titanic.trans_X_train, y=ds_titanic.trans_y_train,\n",
    "          batch_size=64, epochs=10,\n",
    "          verbose=0, callbacks=[callbacks],\n",
    "          validation_data=(ds_titanic.trans_X_val, ds_titanic.trans_y_val), shuffle=True)\n",
    "for model in models_1:\n",
    "    model.evaluate(ds_titanic.trans_X_val, ds_titanic.trans_y_val)"
   ]
  },
  {
   "cell_type": "code",
   "execution_count": null,
   "metadata": {},
   "outputs": [],
   "source": []
  }
 ],
 "metadata": {
  "kernelspec": {
   "display_name": "Python 3",
   "language": "python",
   "name": "python3"
  },
  "language_info": {
   "codemirror_mode": {
    "name": "ipython",
    "version": 3
   },
   "file_extension": ".py",
   "mimetype": "text/x-python",
   "name": "python",
   "nbconvert_exporter": "python",
   "pygments_lexer": "ipython3",
   "version": "3.7.6"
  }
 },
 "nbformat": 4,
 "nbformat_minor": 4
}
